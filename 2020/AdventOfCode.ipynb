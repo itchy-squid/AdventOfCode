{
  "nbformat": 4,
  "nbformat_minor": 0,
  "metadata": {
    "colab": {
      "provenance": [],
      "authorship_tag": "ABX9TyPNFkD6YsdpO5BAblmT6ayE",
      "include_colab_link": true
    },
    "kernelspec": {
      "name": "python3",
      "display_name": "Python 3"
    },
    "language_info": {
      "name": "python"
    }
  },
  "cells": [
    {
      "cell_type": "markdown",
      "metadata": {
        "id": "view-in-github",
        "colab_type": "text"
      },
      "source": [
        "<a href=\"https://colab.research.google.com/github/itchy-squid/AdventOfCode/blob/main/2020/AdventOfCode.ipynb\" target=\"_parent\"><img src=\"https://colab.research.google.com/assets/colab-badge.svg\" alt=\"Open In Colab\"/></a>"
      ]
    },
    {
      "cell_type": "code",
      "execution_count": null,
      "metadata": {
        "id": "Q2DU2vaUJEey",
        "colab": {
          "base_uri": "https://localhost:8080/"
        },
        "outputId": "1e1b6080-f79b-4664-d8f7-259f2729acec",
        "cellView": "form"
      },
      "outputs": [
        {
          "output_type": "stream",
          "name": "stdout",
          "text": [
            "1052 * 968 = 1018336\n",
            "846 * 530 * 644 = 288756720\n"
          ]
        }
      ],
      "source": [
        "#@title Day 1: Report Repair\n",
        "from google.colab import files\n",
        "with open('2020-1-1.txt','r') as f:\n",
        "  ns = list(map(int, f.read().splitlines()))\n",
        "\n",
        "x, y = next((x, y) for i, x in enumerate(ns) for y in (ns+[])[i+1:] if x + y == 2020)\n",
        "print(x*y)\n",
        "\n",
        "x, y, z = next((x, y, z) for i, x in enumerate(ns) for j, y in enumerate((ns+[])[i+1:]) for z in (ns+[])[j+1:] if x + y + z == 2020)\n",
        "print(x*y*z)"
      ]
    },
    {
      "cell_type": "code",
      "source": [
        "#@title Day 2: Password Philosophy\n",
        "import re\n",
        "from google.colab import files\n",
        "with open('2020-2-1.txt','r') as f:\n",
        "  lines = [re.split(\"[- :]+\", line) for line in f.read().splitlines()]\n",
        "\n",
        "print(len([1 for i,j,c,s in lines if int(i) <= s.count(c) <= int(j)]))\n",
        "print(len([1 for i,j,c,s in lines if (s[int(i)-1] == c) ^ (s[int(j)-1] == c)]))"
      ],
      "metadata": {
        "colab": {
          "base_uri": "https://localhost:8080/"
        },
        "id": "9yEOw1tHPAv2",
        "outputId": "2d29c73d-f914-43ef-906c-3bdb1993eae5",
        "cellView": "form"
      },
      "execution_count": null,
      "outputs": [
        {
          "output_type": "stream",
          "name": "stdout",
          "text": [
            "622\n",
            "263\n"
          ]
        }
      ]
    },
    {
      "cell_type": "code",
      "source": [
        "#@title Day 3: Toboggan Trajectory\n",
        "from google.colab import files\n",
        "with open('2020-3-1.txt','r') as f:\n",
        "  m = f.read().splitlines()\n",
        "\n",
        "w, h = len(m[0]), len(m)\n",
        "ct = lambda dx, dy: sum([1 for i in range(1, h // dy + 1) if dy * i < h and m[dy * i][(dx * i) % w] == \"#\"])\n",
        "\n",
        "print(ct(3, 1))\n",
        "\n",
        "acc = 1\n",
        "[acc := acc * x for x in map(lambda t: ct(*t), [(1,1), (3,1), (5,1), (7,1), (1,2)])]\n",
        "print(acc)\n"
      ],
      "metadata": {
        "colab": {
          "base_uri": "https://localhost:8080/"
        },
        "id": "YHqwiyLpaOpx",
        "outputId": "bf83b6b4-fec8-429d-a57e-0b121969ec7c",
        "cellView": "form"
      },
      "execution_count": null,
      "outputs": [
        {
          "output_type": "stream",
          "name": "stdout",
          "text": [
            "164\n",
            "5007658656\n"
          ]
        }
      ]
    },
    {
      "cell_type": "code",
      "source": [
        "#@title Day 4: Passport Processing\n",
        "import re\n",
        "from google.colab import files\n",
        "with open('2020-4-1.txt','r') as f:\n",
        "  lines = [[(re.split(':',kv)) for kv in re.split('\\s+', l)] for l in re.split('\\n\\n+', f.read())]\n",
        "\n",
        "pps = [{k:v[0] for k,*v in b if len(v) > 0} for b in lines]\n",
        "easy = lambda p: all([k in p for k in ['byr','iyr','eyr','hgt','hcl','ecl','pid']])\n",
        "print(sum([easy(p) for p in pps]))\n",
        "\n",
        "def valid_height(hstr):\n",
        "  m = re.match('(?P<num>\\d+)((?P<in>in)|(?P<cm>cm))\\Z', hstr)\n",
        "  if m == None: return 0\n",
        "  n = int(m['num']);\n",
        "  return 150 <= n <= 193 if m['cm'] else 59 <= n <= 76\n",
        "\n",
        "def strict(p):\n",
        "  return (easy(p)\n",
        "          and 1920 <= int(p['byr']) <= 2002\n",
        "          and 2010 <= int(p['iyr']) <= 2020\n",
        "          and 2020 <= int(p['eyr']) <= 2030\n",
        "          and valid_height(p['hgt'])\n",
        "          and re.match('#\\w{6}\\Z', p['hcl'])\n",
        "          and p['ecl'] in {'amb','blu','brn','gry','grn','hzl','oth'}\n",
        "          and re.match('\\d{9}\\Z', p['pid']))\n",
        "\n",
        "print(sum([1 for p in pps if strict(p)]))"
      ],
      "metadata": {
        "colab": {
          "base_uri": "https://localhost:8080/"
        },
        "id": "QTzlb7vmj9B8",
        "outputId": "e5e57eba-eb0f-4fcf-c58e-8e40b5d7a219",
        "cellView": "form"
      },
      "execution_count": null,
      "outputs": [
        {
          "output_type": "stream",
          "name": "stdout",
          "text": [
            "204\n",
            "179\n"
          ]
        }
      ]
    },
    {
      "cell_type": "code",
      "source": [
        "#@title Day 5: Binary Boarding\n",
        "from google.colab import files\n",
        "with open('2020-5-1.txt','r') as f:\n",
        "  ids = {sum(int(c in {'B','R'}) << i for i, c in enumerate(reversed(l))) for l in f.read().splitlines()}\n",
        "\n",
        "print(max(ids))\n",
        "print(next(id+1 for id in ids if (id+1) not in ids and (id+2) in ids))"
      ],
      "metadata": {
        "colab": {
          "base_uri": "https://localhost:8080/"
        },
        "id": "uJViMPoX2Zq2",
        "outputId": "ef9edae4-ddbe-481e-b58c-d6fcf0cb00c5",
        "cellView": "form"
      },
      "execution_count": null,
      "outputs": [
        {
          "output_type": "stream",
          "name": "stdout",
          "text": [
            "828\n",
            "565\n"
          ]
        }
      ]
    },
    {
      "cell_type": "code",
      "source": [
        "#@title Day 6: Custom Customs\n",
        "from google.colab import files\n",
        "with open('2020-6-1.txt','r') as f:\n",
        "  gps = [gp.strip().split('\\n') for gp in f.read().split('\\n\\n')]\n",
        "\n",
        "anys = [{c for i in gp for c in i} for gp in gps]\n",
        "alls = [{c for c in s if all([c in p for p in gps[i]])} for i, s in enumerate(anys)]\n",
        "print(sum(len(a) for a in anys))\n",
        "print(sum(len(a) for a in alls))\n"
      ],
      "metadata": {
        "colab": {
          "base_uri": "https://localhost:8080/"
        },
        "cellView": "form",
        "id": "yT9pHOmxaK5f",
        "outputId": "a2efedbe-3dee-496e-ca0f-6d983109cefb"
      },
      "execution_count": null,
      "outputs": [
        {
          "output_type": "stream",
          "name": "stdout",
          "text": [
            "6799\n",
            "3354\n"
          ]
        }
      ]
    },
    {
      "cell_type": "code",
      "source": [
        "#@title Day 7-1: Handy Haversacks\n",
        "import re\n",
        "\n",
        "from google.colab import files\n",
        "with open('2020-7-1.txt','r') as f:\n",
        "  lines = [[b for b in re.split(r' (?:(?:bags?)|\\s|(?:contains?)|\\d|,|\\.)+', line) if b]\n",
        "           for line in f.read().splitlines()]\n",
        "\n",
        "m = {l[0]: l[1:] for l in lines}\n",
        "\n",
        "seen = set()\n",
        "next = ['shiny gold']\n",
        "while next:\n",
        "  now = next.pop()\n",
        "  new = {k for k,s in m.items() if now in s}\n",
        "  next += [i for i in (new - seen)]\n",
        "  seen |= new\n",
        "\n",
        "print(len(seen))"
      ],
      "metadata": {
        "colab": {
          "base_uri": "https://localhost:8080/"
        },
        "cellView": "form",
        "id": "ZNxOkjiU_dyG",
        "outputId": "d9f33d5d-770a-4513-d8b5-1e958d2f7dfa"
      },
      "execution_count": null,
      "outputs": [
        {
          "output_type": "stream",
          "name": "stdout",
          "text": [
            "289\n"
          ]
        }
      ]
    },
    {
      "cell_type": "code",
      "source": [
        "#@title Day 7-2: Handy Haversacks\n",
        "import re\n",
        "\n",
        "from google.colab import files\n",
        "with open('2020-7-1.txt','r') as f:\n",
        "  lines = [[b for b in re.split(r' (?:(?:bags?)|\\s|(?:contains?)|,|\\.)+', line) if b]\n",
        "           for line in f.read().splitlines()]\n",
        "\n",
        "m = {l[0]: [(int(b[0]), b[2:]) for b in l[1:] if b[0].isdigit()] for l in lines}\n",
        "calc = lambda b: sum([n * (calc(bi) + 1) for n,bi in m[b]]) if b in m else 0\n",
        "\n",
        "print(calc('shiny gold'))"
      ],
      "metadata": {
        "colab": {
          "base_uri": "https://localhost:8080/"
        },
        "cellView": "form",
        "id": "d-Jzh0xyNQiN",
        "outputId": "be09e524-bdbd-4241-946f-838f5f7871fe"
      },
      "execution_count": null,
      "outputs": [
        {
          "output_type": "stream",
          "name": "stdout",
          "text": [
            "30055\n"
          ]
        }
      ]
    },
    {
      "cell_type": "code",
      "source": [
        "#@title Day 8: Handheld Halting\n",
        "import re\n",
        "\n",
        "from google.colab import files\n",
        "with open('2020-8-1.txt','r') as f:\n",
        "  lines = [[t for t in l.split()] for l in f.read().splitlines()]\n",
        "\n",
        "insts = [(i, int(n)) for i,n in lines]\n",
        "\n",
        "def run():\n",
        "  visited = set()\n",
        "  i = 0\n",
        "  a = 0\n",
        "\n",
        "  while i not in visited and i < len(insts):\n",
        "    visited.add(i)\n",
        "    a += insts[i][1] if insts[i][0] == 'acc' else 0\n",
        "    i += insts[i][1] if insts[i][0] == 'jmp' else 1\n",
        "\n",
        "  return (i, a)\n",
        "\n",
        "i, acc = run()\n",
        "print(acc)\n",
        "\n",
        "for i, t in enumerate(insts):\n",
        "  if t[0] != 'jmp': continue\n",
        "  insts[i] = ('nop',0)\n",
        "  j, acc = run()\n",
        "  if j >= len(insts): break\n",
        "  insts[i] = t\n",
        "\n",
        "print(acc)"
      ],
      "metadata": {
        "colab": {
          "base_uri": "https://localhost:8080/"
        },
        "cellView": "form",
        "id": "LMF3_muNoGuA",
        "outputId": "550c8f8c-e751-4a1a-8e4d-0e32427d404e"
      },
      "execution_count": null,
      "outputs": [
        {
          "output_type": "stream",
          "name": "stdout",
          "text": [
            "1675\n",
            "1532\n"
          ]
        }
      ]
    },
    {
      "cell_type": "code",
      "source": [
        "#@title Day 9: Encoding Error\n",
        "files = [('2020-9-0.txt',5),('2020-9-1.txt',25)]\n",
        "fname, pre = files[1]\n",
        "\n",
        "from google.colab import files\n",
        "with open(fname,'r') as f:\n",
        "  ns = [int(l) for l in f.read().splitlines()]\n",
        "\n",
        "vs = [(n, ns[i:pre+i]) for i, n in enumerate(ns[pre:])]\n",
        "oks = [(n, any([(x+y)==n for i, x in enumerate(l[:-1]) for y in l[i+1:]])) for n,l in vs]\n",
        "target = next(n for n,ok in oks if not ok)\n",
        "print(target)\n",
        "\n",
        "def find(i):\n",
        "  for j in range(i+1,len(ns)):\n",
        "    tot = sum(ns[i:j])\n",
        "    if tot>target: break\n",
        "    if tot==target: return [i,j]\n",
        "  return None\n",
        "\n",
        "ixs = next(t for t in map(find,range(len(ns)-1)) if t)\n",
        "ms = [ns[i] for i in range(*ixs)]\n",
        "print(min(ms)+max(ms))"
      ],
      "metadata": {
        "colab": {
          "base_uri": "https://localhost:8080/"
        },
        "id": "RAJhtMSj5vBj",
        "outputId": "38c5b7e1-cce4-4a1e-f44a-4153004adf3e",
        "cellView": "form"
      },
      "execution_count": null,
      "outputs": [
        {
          "output_type": "stream",
          "name": "stdout",
          "text": [
            "167829540\n",
            "28045630\n"
          ]
        }
      ]
    },
    {
      "cell_type": "code",
      "source": [
        "#@title 10: Adapter Array\n",
        "from google.colab import files\n",
        "with open('2020-10-1.txt','r') as f:\n",
        "  js = sorted([int(j) for i,j in enumerate(f.read().splitlines())])\n",
        "\n",
        "js = [0] + js + [js[-1]+3]\n",
        "ds = [js[i+1]-n for i, n in enumerate(js[:-1])]\n",
        "print(ds.count(1)*ds.count(3))\n",
        "\n",
        "def visit(i, cache):\n",
        "  if i in cache: return cache[i]\n",
        "  nexts = [i+j for j,v in enumerate(js[i:]) if j > 0 and v <= js[i]+3]\n",
        "  cache[i] = sum([visit(j, cache) for j in nexts]) if len(nexts) > 0 else 1\n",
        "  return cache[i]\n",
        "\n",
        "print(visit(0,{}))"
      ],
      "metadata": {
        "colab": {
          "base_uri": "https://localhost:8080/"
        },
        "cellView": "form",
        "id": "kGdKkIGAX7kn",
        "outputId": "7563766c-0804-41e3-bf22-61d9787ac22a"
      },
      "execution_count": null,
      "outputs": [
        {
          "output_type": "stream",
          "name": "stdout",
          "text": [
            "2277\n",
            "37024595836928\n"
          ]
        }
      ]
    },
    {
      "cell_type": "code",
      "source": [
        "#@title Day 12-1: Rain Risk\n",
        "from numpy import multiply, add\n",
        "from google.colab import files\n",
        "with open('2020-12-0.txt','r') as f:\n",
        "  ls = f.read().splitlines()\n",
        "\n",
        "ins = [(l[0],int(l[1:])) for l in ls]\n",
        "dirs = [(1,0),(0,-1),(-1,0),(0,1)]\n",
        "\n",
        "def step(di, c, i, n):\n",
        "  if i in 'ESWN':\n",
        "    return (di, add(c,multiply(n, dirs['ESWN'.index(i)])))\n",
        "\n",
        "  if i in 'LR':\n",
        "    [di := (di + 'LFR'.index(i) - 1)%len(dirs) for deg in range(0,n,90)]\n",
        "    return (di, c)\n",
        "\n",
        "  return (di, add(c, multiply(n, dirs[di])))\n",
        "\n",
        "p = (0, (0,0))\n",
        "[p := step(*p, i, n) for i,n in ins]\n",
        "print(abs(p[1][0])+abs(p[1][1]))"
      ],
      "metadata": {
        "colab": {
          "base_uri": "https://localhost:8080/"
        },
        "cellView": "form",
        "id": "F-HN3rMtJf1j",
        "outputId": "f66e981d-b4b7-4701-9a2c-24088c28d569"
      },
      "execution_count": null,
      "outputs": [
        {
          "output_type": "stream",
          "name": "stdout",
          "text": [
            "25\n"
          ]
        }
      ]
    },
    {
      "cell_type": "code",
      "source": [
        "#@title Day 12-2: Rain Risk\n",
        "from numpy import multiply, add\n",
        "from google.colab import files\n",
        "with open('2020-12-1.txt','r') as f:\n",
        "  ls = f.read().splitlines()\n",
        "\n",
        "ins = [(l[0],int(l[1:])) for l in ls]\n",
        "dirs = [(1,0),(0,-1),(-1,0),(0,1)]\n",
        "\n",
        "def step(s, w, i, n):\n",
        "  if i in 'ESWN':\n",
        "    return (s, add(w,multiply(n, dirs['ESWN'.index(i)])))\n",
        "\n",
        "  if i in 'LR':\n",
        "    [w := (w[1], -1 * w[0]) for deg in range(0, ([-1,1][i=='R'] * n) % 360, 90)]\n",
        "    return (s, w)\n",
        "\n",
        "  return (add(s, multiply(n, w)), w)\n",
        "\n",
        "p = ((0, 0), (10,1))\n",
        "[p := step(*p, i, n) for i,n in ins]\n",
        "print(abs(p[0][0])+abs(p[0][1]))"
      ],
      "metadata": {
        "colab": {
          "base_uri": "https://localhost:8080/"
        },
        "cellView": "form",
        "id": "mq_8laHe8U07",
        "outputId": "81c26e6d-2f2b-4f3a-e768-32f5a8920414"
      },
      "execution_count": null,
      "outputs": [
        {
          "output_type": "stream",
          "name": "stdout",
          "text": [
            "40014\n"
          ]
        }
      ]
    },
    {
      "cell_type": "code",
      "source": [
        "#@title Day 13-1: Shuttle Search\n",
        "import re\n",
        "\n",
        "from google.colab import files\n",
        "with open('2020-13-1.txt','r') as f:\n",
        "  input = [int(n) for n in re.split('[\\n,x]+',f.read()) if n]\n",
        "\n",
        "earliest = input[0]\n",
        "shuttles = input[1:]\n",
        "latest = min(shuttles) + earliest\n",
        "\n",
        "t,s = next((t,s) for t in range(earliest, latest)\n",
        "                 for s in shuttles if t % s == 0)\n",
        "\n",
        "print(s * (t - earliest))"
      ],
      "metadata": {
        "colab": {
          "base_uri": "https://localhost:8080/"
        },
        "cellView": "form",
        "id": "nFGMVYDNFq-N",
        "outputId": "7a6e505b-b778-47ab-ed67-b747e43dca70"
      },
      "execution_count": null,
      "outputs": [
        {
          "output_type": "stream",
          "name": "stdout",
          "text": [
            "2935\n"
          ]
        }
      ]
    },
    {
      "cell_type": "code",
      "source": [
        "#@title Day 13-2: Shuttle Search\n",
        "#Black magic, aka Chinese Remainder Theorem\n",
        "import sys, re\n",
        "\n",
        "from google.colab import files\n",
        "with open('2020-13-1.txt','r') as f:\n",
        "  input = [int(n) if n != 'x' else n for n in re.split('[\\n,]+',f.read()) if n]\n",
        "\n",
        "def inf(start, step):\n",
        "  while 1:\n",
        "    yield start\n",
        "    start += step\n",
        "\n",
        "rules = {s: s-i for i, s in enumerate(input[1:]) if s != 'x'}\n",
        "N = 1; [N := N * s for s in rules]\n",
        "ys = [N // s for s in rules]\n",
        "zs = [next(z for z in inf(1,1) if (z * ys[i]) % s == 1) for i, s in enumerate(rules)]\n",
        "t = sum([rules[s] * ys[i] * zs[i] for i, s in enumerate(rules)])\n",
        "\n",
        "print(t % N)"
      ],
      "metadata": {
        "colab": {
          "base_uri": "https://localhost:8080/"
        },
        "cellView": "form",
        "id": "zNAy0AFMJSvg",
        "outputId": "e07ee95e-275f-46f7-c92f-27e744563da3"
      },
      "execution_count": null,
      "outputs": [
        {
          "output_type": "stream",
          "name": "stdout",
          "text": [
            "836024966345345\n"
          ]
        }
      ]
    },
    {
      "cell_type": "code",
      "source": [
        "#@title Day 14-1: Docking Data\n",
        "import sys, re\n",
        "\n",
        "from google.colab import files\n",
        "with open('2020-14-1.txt','r') as f:\n",
        "  input = [re.split('[\\[\\]=\\s\\n,]+',l) for l in f.read().splitlines() if l]\n",
        "\n",
        "apply = lambda m, n: ''.join( \\\n",
        "  [([*m[::-1][i:],'X'][0],[*n[::-1][i:],'0'][0])\\\n",
        "  [[*m[::-1][i:],'X'][0] == 'X'] \\\n",
        "  for i in range(max(len(m),len(n)))] \\\n",
        "  [::-1])\n",
        "\n",
        "vs = {}\n",
        "for l in input:\n",
        "  match l[0]:\n",
        "    case 'mask': mask = l[1]\n",
        "    case 'mem':\n",
        "      vs[l[1]] = int(apply(mask,  '{0:b}'.format(int(l[2]))), 2)\n",
        "\n",
        "print(sum(vs.values()))"
      ],
      "metadata": {
        "colab": {
          "base_uri": "https://localhost:8080/"
        },
        "id": "IsHIS_6I6otA",
        "outputId": "08fb79ba-1da9-4d20-8fbb-beaf89f144c9",
        "cellView": "form"
      },
      "execution_count": null,
      "outputs": [
        {
          "output_type": "stream",
          "name": "stdout",
          "text": [
            "6317049172545\n"
          ]
        }
      ]
    },
    {
      "cell_type": "code",
      "source": [
        "#@title Day 14-2: Docking Data\n",
        "import re\n",
        "\n",
        "from google.colab import files\n",
        "with open('2020-14-1.txt','r') as f:\n",
        "  input = [re.split('[\\[\\]=\\s\\n,]+',l) for l in f.read().splitlines() if l]\n",
        "\n",
        "x = lambda mb,nb: '01XX'[2*(mb=='X')+1-(mb=='0'==nb)]\n",
        "\n",
        "def apply(m, n):\n",
        "  mb = lambda i: [*m[::-1][i:],'1'][0]\n",
        "  nb = lambda i: [*n[::-1][i:],'0'][0]\n",
        "  return ''.join([x(mb(i),nb(i)) for i in range(max(len(m),len(n)))][::-1])\n",
        "\n",
        "def expand(n):\n",
        "  return (n,['0','1'])[n == 'X'] if len(n) == 1 else \\\n",
        "         [n0+n1 for n1 in expand(n[1:]) for n0 in expand(n[0])]\n",
        "\n",
        "vs = {}\n",
        "for l in input:\n",
        "  match l[0]:\n",
        "    case 'mask': mask = l[1]\n",
        "    case 'mem':\n",
        "      vs.update(dict.fromkeys(\n",
        "          expand(apply(mask,'{0:b}'.format(int(l[1])))),\n",
        "          int(l[2])))\n",
        "\n",
        "print(sum(vs.values()))"
      ],
      "metadata": {
        "cellView": "form",
        "colab": {
          "base_uri": "https://localhost:8080/"
        },
        "id": "pJIUix0XK7TE",
        "outputId": "5b55155a-d7a0-457d-9079-99923d3b7636"
      },
      "execution_count": null,
      "outputs": [
        {
          "output_type": "stream",
          "name": "stdout",
          "text": [
            "3434009980379\n"
          ]
        }
      ]
    },
    {
      "cell_type": "code",
      "source": [
        "#@title Day 15: Rambunctious Recitation\n",
        "\n",
        "input = [16,12,1,0,15,7,11]\n",
        "d = {v: (i+1) for i,v in enumerate(input[:-1])}\n",
        "\n",
        "def step(i,n,d):\n",
        "  temp = d.get(n,0)\n",
        "  old = n in d\n",
        "  d[n] = i\n",
        "  if old: return (i - temp)\n",
        "  else: return 0\n",
        "\n",
        "n = input[-1]\n",
        "for i in range(len(input), 30000000):\n",
        "  n = step(i,n,d)\n",
        "\n",
        "print(n)"
      ],
      "metadata": {
        "id": "UnPZCzeFiRRz",
        "outputId": "83a829df-d9b9-421d-b3b0-882d6139ce41",
        "colab": {
          "base_uri": "https://localhost:8080/"
        },
        "cellView": "form"
      },
      "execution_count": null,
      "outputs": [
        {
          "output_type": "stream",
          "name": "stdout",
          "text": [
            "6823\n"
          ]
        }
      ]
    },
    {
      "cell_type": "code",
      "source": [
        "#@title Day 16: Ticket Translation\n",
        "import re\n",
        "\n",
        "class Range:\n",
        "  def __init__(self, min, max):\n",
        "    self._min = min\n",
        "    self._max = max\n",
        "\n",
        "  def __repr__(self):\n",
        "     return f'({self._min},{self._max})'\n",
        "\n",
        "  def has(self,n):\n",
        "    return self._min <= n <= self._max\n",
        "\n",
        "class Constraint:\n",
        "  def __init__(self, name, ns):\n",
        "    self._name = name\n",
        "    self._ranges = [Range(ns[2*i],ns[2*i + 1]) for i in range(len(ns)//2)]\n",
        "\n",
        "  def has(self, n):\n",
        "    return any(r.has(n) for r in self._ranges)\n",
        "\n",
        "  def ranges(self):\n",
        "    return self._ranges\n",
        "\n",
        "  def __repr__(self):\n",
        "     return f'\\'{self._name}\\': {self._ranges}'\n",
        "\n",
        "from google.colab import files\n",
        "with open('2020-16-1.txt','r') as f:\n",
        "  inputs = [sec.splitlines() for sec in f.read().split('\\n\\n')]\n",
        "\n",
        "Ticket = lambda s: list(map(int,re.split(',+', s)))\n",
        "\n",
        "fields = {m[1]: Constraint(m[1], list(map(int,list(m.group(2,3,4,5))))) \\\n",
        "          for line in inputs[0] \\\n",
        "          for m in re.finditer(r'(\\w+ ?\\w*): (\\d+)-(\\d+) or (\\d+)-(\\d+)', line)}\n",
        "my_ticket = Ticket(inputs[1][1])\n",
        "nearby_tickets = list(map(Ticket, inputs[2][1:]))\n",
        "\n",
        "invalid_values = [v\n",
        "                  for t in nearby_tickets\n",
        "                  for v in t\n",
        "                  if not any(fields[f].has(v) for f in fields)]\n",
        "\n",
        "print(sum(invalid_values))\n",
        "\n",
        "valid_tickets = [t for t in nearby_tickets\n",
        "                   if all(any(fields[f].has(v) for f in fields) for v in t)]\n",
        "\n",
        "def cols(f):\n",
        "  return set([i for i in range(len(fields)) \\\n",
        "                if all(f.has(t[i]) for t in valid_tickets)])\n",
        "\n",
        "candidates = {f: cols(fields[f]) for f in fields}\n",
        "visit = {c for c in candidates if len(candidates[c]) < 2}\n",
        "answers = dict()\n",
        "\n",
        "while len(fields) > len(answers):\n",
        "  for key in candidates:\n",
        "    cols = candidates[key]\n",
        "    if len(cols) == 1:\n",
        "      answers[key] = cols.pop()\n",
        "    else:\n",
        "      candidates[key] = cols - set(answers.values())\n",
        "\n",
        "acc = 1\n",
        "[acc := acc * my_ticket[answers[k]] for k in answers if k.startswith('departure')]\n",
        "print(acc)"
      ],
      "metadata": {
        "colab": {
          "base_uri": "https://localhost:8080/"
        },
        "id": "lJAbRJLhhXvB",
        "outputId": "502ccbf0-555a-4a08-8068-756a7e8dd4d5",
        "cellView": "form"
      },
      "execution_count": null,
      "outputs": [
        {
          "output_type": "stream",
          "name": "stdout",
          "text": [
            "25961\n",
            "603409823791\n"
          ]
        }
      ]
    },
    {
      "cell_type": "code",
      "source": [
        "#@title Day 17: Conway Cubes\n",
        "from collections import Counter\n",
        "from itertools import chain\n",
        "\n",
        "from google.colab import files\n",
        "with open('2020-17-1.txt','r') as f:\n",
        "  input = f.read()\n",
        "\n",
        "class Model:\n",
        "  def __init__(self, cubes):\n",
        "    vs = {i for c in cubes for i in list(c.pos())}\n",
        "    self._cubes = cubes\n",
        "    self._min = min(vs) if len(vs) > 0 else 0\n",
        "    self._max = max(vs)\n",
        "\n",
        "  @staticmethod\n",
        "  def parse(input):\n",
        "    return Model({Cube((x,y,0)) \\\n",
        "                  for y, l in enumerate(input.splitlines()) \\\n",
        "                  for x, c in enumerate(l)\n",
        "                  if c == '#'})\n",
        "\n",
        "  def next(self):\n",
        "    cs = list(c.pos() for c in self._cubes)\n",
        "    ns = list(chain(*tuple(c.neighbors() for c in self._cubes)))\n",
        "    wos = dict(Counter(ns))\n",
        "    ws = dict(Counter(ns+cs))\n",
        "    m = {Cube(k) for k in ws if 3==wos.get(k,0) or 3==ws[k]}\n",
        "    return Model(m)\n",
        "\n",
        "  def __repr__(self):\n",
        "    rs = range(self._min, self._max - self._min + 1)\n",
        "    return '\\n\\n'.join('\\n'.join(''.join(['.','#'][any(c.at((x,y,z)) \\\n",
        "          for c in self._cubes)] for x in rs) for y in rs) for z in rs)\n",
        "\n",
        "  def count(self):\n",
        "    return len(self._cubes)\n",
        "\n",
        "class Cube:\n",
        "  def __init__(self, p):\n",
        "    self._p = p\n",
        "\n",
        "  def __repr__(self):\n",
        "    return f'{self._p}'\n",
        "\n",
        "  def pos(self):\n",
        "    return self._p\n",
        "\n",
        "  def neighbors(self):\n",
        "    r = range(-1,2)\n",
        "    return list((self._p[0]+dx,self._p[1]+dy,self._p[2]+dz) \\\n",
        "             for dx in r for dy in r for dz in r \\\n",
        "             if not dx==dy==dz==0)\n",
        "\n",
        "  def at(self, p):\n",
        "    return all(self._p[i] == p[i] for i in range(3))\n",
        "\n",
        "m = Model.parse(input)\n",
        "[m := m.next() for i in range(0,6)]\n",
        "print(m.count())"
      ],
      "metadata": {
        "colab": {
          "base_uri": "https://localhost:8080/"
        },
        "id": "Yq4pB71_CS0G",
        "outputId": "5ade343f-172a-4438-e70c-fb74518074b7",
        "cellView": "form"
      },
      "execution_count": null,
      "outputs": [
        {
          "output_type": "stream",
          "name": "stdout",
          "text": [
            "237\n"
          ]
        }
      ]
    },
    {
      "cell_type": "code",
      "source": [
        "#@title Day 18-1: Operation Order\n",
        "from operator import add, sub, mul, truediv\n",
        "from google.colab import files\n",
        "with open('2020-18-1.txt','r') as f:\n",
        "  input = f.read().splitlines()\n",
        "\n",
        "noop = lambda a,b: b\n",
        "\n",
        "def math(l):\n",
        "  v = 0\n",
        "  op = noop\n",
        "  vs = []\n",
        "  for c in l:\n",
        "    match c:\n",
        "      case '+': op = add\n",
        "      case '*': op = mul\n",
        "      case ' ': _\n",
        "      case '(':\n",
        "        vs += [(v, op)]\n",
        "        v = None\n",
        "        op = noop\n",
        "      case ')':\n",
        "        temp, op = vs.pop()\n",
        "        v = op(temp,v)\n",
        "        op = noop\n",
        "      case _:\n",
        "        v = op(v,int(c))\n",
        "        op = noop\n",
        "  return v\n",
        "\n",
        "print(sum(math(l) for l in input))"
      ],
      "metadata": {
        "colab": {
          "base_uri": "https://localhost:8080/"
        },
        "id": "SIXrm9JJmkGo",
        "outputId": "dde4d856-cfd0-4f2b-fde9-7e2d3660bbda"
      },
      "execution_count": 27,
      "outputs": [
        {
          "output_type": "stream",
          "name": "stdout",
          "text": [
            "75592527415659\n"
          ]
        }
      ]
    },
    {
      "cell_type": "code",
      "source": [
        "#@title Day 18-2: Operation Order\n",
        "import re\n",
        "from google.colab import files\n",
        "with open('2020-18-1.txt','r') as f:\n",
        "  input = [l for l in f.read().splitlines() if l]\n",
        "\n",
        "def adv_math(l):\n",
        "  while m:= re.search(r'(\\([\\d *+]+\\))', l):\n",
        "    l = l[0:m.start()] + f'{adv_math(m[0][1:-1])}' + l[m.end():]\n",
        "  while m := re.search(r'(\\d+ \\+ \\d+)',l):\n",
        "    l = l[0:m.start()] + f'{eval(m[0])}' + l[m.end():]\n",
        "  return eval(l)\n",
        "\n",
        "print(sum(adv_math(l) for l in input))"
      ],
      "metadata": {
        "colab": {
          "base_uri": "https://localhost:8080/"
        },
        "id": "48qF_1C5CMfO",
        "outputId": "4130e959-cce6-4f84-8de7-2e4d4adfedf7"
      },
      "execution_count": 66,
      "outputs": [
        {
          "output_type": "stream",
          "name": "stdout",
          "text": [
            "360029542265462\n"
          ]
        }
      ]
    }
  ]
}