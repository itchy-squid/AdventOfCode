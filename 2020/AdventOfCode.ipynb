{
  "nbformat": 4,
  "nbformat_minor": 0,
  "metadata": {
    "colab": {
      "provenance": [],
      "authorship_tag": "ABX9TyMPNyNbTcORwrttNX4Is45x",
      "include_colab_link": true
    },
    "kernelspec": {
      "name": "python3",
      "display_name": "Python 3"
    },
    "language_info": {
      "name": "python"
    }
  },
  "cells": [
    {
      "cell_type": "markdown",
      "metadata": {
        "id": "view-in-github",
        "colab_type": "text"
      },
      "source": [
        "<a href=\"https://colab.research.google.com/github/itchy-squid/AdventOfCode/blob/main/2020/AdventOfCode.ipynb\" target=\"_parent\"><img src=\"https://colab.research.google.com/assets/colab-badge.svg\" alt=\"Open In Colab\"/></a>"
      ]
    },
    {
      "cell_type": "code",
      "execution_count": 6,
      "metadata": {
        "id": "Q2DU2vaUJEey",
        "colab": {
          "base_uri": "https://localhost:8080/"
        },
        "cellView": "form",
        "outputId": "1e1b6080-f79b-4664-d8f7-259f2729acec"
      },
      "outputs": [
        {
          "output_type": "stream",
          "name": "stdout",
          "text": [
            "1052 * 968 = 1018336\n",
            "846 * 530 * 644 = 288756720\n"
          ]
        }
      ],
      "source": [
        "#@title 1\n",
        "from google.colab import files\n",
        "with open('2020-1-1.txt','r') as f:\n",
        "  ns = list(map(int, f.read().splitlines()))\n",
        "\n",
        "x, y = next((x, y) for i, x in enumerate(ns) for y in (ns+[])[i+1:] if x + y == 2020)\n",
        "print(x,\"*\",y,\"=\",x*y)\n",
        "\n",
        "x, y, z = next((x, y, z) for i, x in enumerate(ns) for j, y in enumerate((ns+[])[i+1:]) for z in (ns+[])[j+1:] if x + y + z == 2020)\n",
        "print(x,\"*\",y,\"*\",z,\"=\",x*y*z)"
      ]
    },
    {
      "cell_type": "code",
      "source": [
        "#@title 2\n",
        "import re\n",
        "from google.colab import files\n",
        "with open('2020-2-1.txt','r') as f:\n",
        "  lines = [re.split(\"[- :]+\", line) for line in f.read().splitlines()]\n",
        "\n",
        "print(len([1 for i,j,c,s in lines if int(i) <= s.count(c) <= int(j)]))\n",
        "print(len([1 for i,j,c,s in lines if (s[int(i)-1] == c) ^ (s[int(j)-1] == c)]))"
      ],
      "metadata": {
        "colab": {
          "base_uri": "https://localhost:8080/"
        },
        "cellView": "form",
        "id": "9yEOw1tHPAv2",
        "outputId": "2d29c73d-f914-43ef-906c-3bdb1993eae5"
      },
      "execution_count": 62,
      "outputs": [
        {
          "output_type": "stream",
          "name": "stdout",
          "text": [
            "622\n",
            "263\n"
          ]
        }
      ]
    },
    {
      "cell_type": "code",
      "source": [
        "#@title 3\n",
        "from google.colab import files\n",
        "with open('2020-3-1.txt','r') as f:\n",
        "  m = f.read().splitlines()\n",
        "\n",
        "w, h = len(m[0]), len(m)\n",
        "ct = lambda dx, dy: sum([1 for i in range(1, h // dy + 1) if dy * i < h and m[dy * i][(dx * i) % w] == \"#\"])\n",
        "\n",
        "print(ct(3, 1))\n",
        "\n",
        "acc = 1\n",
        "[acc := acc * x for x in map(lambda t: ct(*t), [(1,1), (3,1), (5,1), (7,1), (1,2)])]\n",
        "print(acc)\n"
      ],
      "metadata": {
        "colab": {
          "base_uri": "https://localhost:8080/"
        },
        "cellView": "form",
        "id": "YHqwiyLpaOpx",
        "outputId": "bf83b6b4-fec8-429d-a57e-0b121969ec7c"
      },
      "execution_count": 35,
      "outputs": [
        {
          "output_type": "stream",
          "name": "stdout",
          "text": [
            "164\n",
            "5007658656\n"
          ]
        }
      ]
    },
    {
      "cell_type": "code",
      "source": [
        "#@title 4\n",
        "import re\n",
        "from google.colab import files\n",
        "with open('2020-4-1.txt','r') as f:\n",
        "  lines = [[(re.split(':',kv)) for kv in re.split('\\s+', l)] for l in re.split('\\n\\n+', f.read())]\n",
        "\n",
        "pps = [{k:v[0] for k,*v in b if len(v) > 0} for b in lines]\n",
        "easy = lambda p: all([k in p for k in ['byr','iyr','eyr','hgt','hcl','ecl','pid']])\n",
        "print(sum([easy(p) for p in pps]))\n",
        "\n",
        "def valid_height(hstr):\n",
        "  m = re.match('(?P<num>\\d+)((?P<in>in)|(?P<cm>cm))\\Z', hstr)\n",
        "  if m == None: return 0\n",
        "  n = int(m['num']);\n",
        "  return 150 <= n <= 193 if m['cm'] else 59 <= n <= 76\n",
        "\n",
        "def strict(p):\n",
        "  return (easy(p)\n",
        "          and 1920 <= int(p['byr']) <= 2002\n",
        "          and 2010 <= int(p['iyr']) <= 2020\n",
        "          and 2020 <= int(p['eyr']) <= 2030\n",
        "          and valid_height(p['hgt'])\n",
        "          and re.match('#\\w{6}\\Z', p['hcl'])\n",
        "          and p['ecl'] in {'amb','blu','brn','gry','grn','hzl','oth'}\n",
        "          and re.match('\\d{9}\\Z', p['pid']))\n",
        "\n",
        "print(sum([1 for p in pps if strict(p)]))\n",
        "\n",
        "\n"
      ],
      "metadata": {
        "colab": {
          "base_uri": "https://localhost:8080/"
        },
        "cellView": "form",
        "id": "QTzlb7vmj9B8",
        "outputId": "e5e57eba-eb0f-4fcf-c58e-8e40b5d7a219"
      },
      "execution_count": 115,
      "outputs": [
        {
          "output_type": "stream",
          "name": "stdout",
          "text": [
            "204\n",
            "179\n"
          ]
        }
      ]
    },
    {
      "cell_type": "code",
      "source": [
        "#@title Day 5: Binary Boarding\n",
        "from google.colab import files\n",
        "with open('2020-5-1.txt','r') as f:\n",
        "  ids = {sum(int(c in {'B','R'}) << i for i, c in enumerate(reversed(l))) for l in f.read().splitlines()}\n",
        "\n",
        "print(max(ids))\n",
        "print(next(id+1 for id in ids if (id+1) not in ids and (id+2) in ids))"
      ],
      "metadata": {
        "colab": {
          "base_uri": "https://localhost:8080/"
        },
        "id": "uJViMPoX2Zq2",
        "outputId": "ef9edae4-ddbe-481e-b58c-d6fcf0cb00c5"
      },
      "execution_count": 142,
      "outputs": [
        {
          "output_type": "stream",
          "name": "stdout",
          "text": [
            "828\n",
            "565\n"
          ]
        }
      ]
    }
  ]
}