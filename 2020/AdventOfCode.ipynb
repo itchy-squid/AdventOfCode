{
  "nbformat": 4,
  "nbformat_minor": 0,
  "metadata": {
    "colab": {
      "provenance": [],
      "authorship_tag": "ABX9TyN/nIJ43P46z+KjsustjoW8",
      "include_colab_link": true
    },
    "kernelspec": {
      "name": "python3",
      "display_name": "Python 3"
    },
    "language_info": {
      "name": "python"
    }
  },
  "cells": [
    {
      "cell_type": "markdown",
      "metadata": {
        "id": "view-in-github",
        "colab_type": "text"
      },
      "source": [
        "<a href=\"https://colab.research.google.com/github/itchy-squid/AdventOfCode/blob/main/2020/AdventOfCode.ipynb\" target=\"_parent\"><img src=\"https://colab.research.google.com/assets/colab-badge.svg\" alt=\"Open In Colab\"/></a>"
      ]
    },
    {
      "cell_type": "code",
      "execution_count": 15,
      "metadata": {
        "id": "Q2DU2vaUJEey",
        "outputId": "1c01db32-5fe7-41ca-a62a-3a47652a8366",
        "colab": {
          "base_uri": "https://localhost:8080/"
        }
      },
      "outputs": [
        {
          "output_type": "stream",
          "name": "stdout",
          "text": [
            "1052 * 968 = 1018336\n"
          ]
        }
      ],
      "source": [
        "#@title 1-1\n",
        "from google.colab import files\n",
        "with open('2020-1-1.txt','r') as f:\n",
        "  numbers = list(map(int, f.read().splitlines()))\n",
        "\n",
        "x, y = next((x, y) for i, x in enumerate(numbers) for y in (numbers+[])[i+1:] if x + y == 2020)\n",
        "print(x,\"*\",y,\"=\",x*y)"
      ]
    }
  ]
}