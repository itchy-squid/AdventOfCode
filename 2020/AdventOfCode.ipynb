{
  "nbformat": 4,
  "nbformat_minor": 0,
  "metadata": {
    "colab": {
      "provenance": [],
      "authorship_tag": "ABX9TyOZNsELiih4M3m/kVJcitOW",
      "include_colab_link": true
    },
    "kernelspec": {
      "name": "python3",
      "display_name": "Python 3"
    },
    "language_info": {
      "name": "python"
    }
  },
  "cells": [
    {
      "cell_type": "markdown",
      "metadata": {
        "id": "view-in-github",
        "colab_type": "text"
      },
      "source": [
        "<a href=\"https://colab.research.google.com/github/itchy-squid/AdventOfCode/blob/main/2020/AdventOfCode.ipynb\" target=\"_parent\"><img src=\"https://colab.research.google.com/assets/colab-badge.svg\" alt=\"Open In Colab\"/></a>"
      ]
    },
    {
      "cell_type": "code",
      "execution_count": 31,
      "metadata": {
        "id": "zKNoavoU7tSY",
        "colab": {
          "base_uri": "https://localhost:8080/"
        },
        "outputId": "4d1c5c15-fbb2-4dae-a545-4539a0ea75ff"
      },
      "outputs": [
        {
          "output_type": "stream",
          "name": "stdout",
          "text": [
            "2277\n"
          ]
        }
      ],
      "source": [
        "#@title 2020-10-1\n",
        "import sys, re\n",
        "\n",
        "from google.colab import files\n",
        "with open('2020-10-1.txt','r') as f:\n",
        "  jolts = [int(j) for i,j in enumerate(f.read().splitlines())]\n",
        "sortedJolts = sorted(jolts)\n",
        "sortedJolts.append(sortedJolts[-1]+3)\n",
        "\n",
        "curr = 0\n",
        "ans = {}\n",
        "for j in sortedJolts:\n",
        "  ans[j - curr] = ans.get(j-curr, 0) + 1\n",
        "  curr = j\n",
        "\n",
        "print(ans[1]*ans[3])"
      ]
    },
    {
      "cell_type": "code",
      "source": [
        "#@title 2020-10-2\n",
        "import sys, re\n",
        "\n",
        "from google.colab import files\n",
        "with open('2020-10-1.txt','r') as f:\n",
        "  jolts = [int(j) for i,j in enumerate(f.read().splitlines())]\n",
        "sortedJolts = sorted(jolts)\n",
        "sortedJolts.append(sortedJolts[-1]+3)\n",
        "\n",
        "curr = 0\n",
        "ans = {}\n",
        "for j in sortedJolts:\n",
        "  ans[j - curr] = ans.get(j-curr, 0) + 1\n",
        "  curr = j\n",
        "\n",
        "print(ans[1]*ans[3])"
      ],
      "metadata": {
        "colab": {
          "base_uri": "https://localhost:8080/"
        },
        "id": "JywLjS9iNhKz",
        "outputId": "911e2990-936d-4bf8-b649-a89f835cf8b1"
      },
      "execution_count": 30,
      "outputs": [
        {
          "output_type": "stream",
          "name": "stdout",
          "text": [
            "2277\n"
          ]
        }
      ]
    }
  ]
}