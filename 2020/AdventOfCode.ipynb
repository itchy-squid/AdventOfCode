{
  "nbformat": 4,
  "nbformat_minor": 0,
  "metadata": {
    "colab": {
      "provenance": [],
      "authorship_tag": "ABX9TyNknJhHZcT3Ws+Bujaktwod",
      "include_colab_link": true
    },
    "kernelspec": {
      "name": "python3",
      "display_name": "Python 3"
    },
    "language_info": {
      "name": "python"
    }
  },
  "cells": [
    {
      "cell_type": "markdown",
      "metadata": {
        "id": "view-in-github",
        "colab_type": "text"
      },
      "source": [
        "<a href=\"https://colab.research.google.com/github/itchy-squid/AdventOfCode/blob/main/2020/AdventOfCode.ipynb\" target=\"_parent\"><img src=\"https://colab.research.google.com/assets/colab-badge.svg\" alt=\"Open In Colab\"/></a>"
      ]
    },
    {
      "cell_type": "code",
      "execution_count": 15,
      "metadata": {
        "id": "Q2DU2vaUJEey",
        "colab": {
          "base_uri": "https://localhost:8080/"
        },
        "outputId": "1c01db32-5fe7-41ca-a62a-3a47652a8366"
      },
      "outputs": [
        {
          "output_type": "stream",
          "name": "stdout",
          "text": [
            "1052 * 968 = 1018336\n"
          ]
        }
      ],
      "source": [
        "#@title 1-1\n",
        "from google.colab import files\n",
        "with open('2020-1-1.txt','r') as f:\n",
        "  numbers = list(map(int, f.read().splitlines()))\n",
        "\n",
        "x, y = next((x, y) for i, x in enumerate(numbers) for y in (numbers+[])[i+1:] if x + y == 2020)\n",
        "print(x,\"*\",y,\"=\",x*y)"
      ]
    },
    {
      "cell_type": "code",
      "source": [
        "#@title 1-2\n",
        "from google.colab import files\n",
        "with open('2020-1-1.txt','r') as f:\n",
        "  ns = list(map(int, f.read().splitlines()))\n",
        "\n",
        "x, y, z = next((x, y, z) for i, x in enumerate(ns) for j, y in enumerate((ns+[])[i+1:]) for z in (ns+[])[j+1:] if x + y + z == 2020)\n",
        "print(x,\"*\",y,\"*\",z,\"=\",x*y*z)"
      ],
      "metadata": {
        "id": "nb0huOzRORpf",
        "outputId": "1498945a-cc26-47c7-b545-a579cf8879e4",
        "colab": {
          "base_uri": "https://localhost:8080/"
        }
      },
      "execution_count": 20,
      "outputs": [
        {
          "output_type": "stream",
          "name": "stdout",
          "text": [
            "846 * 530 * 644 = 288756720\n"
          ]
        }
      ]
    }
  ]
}