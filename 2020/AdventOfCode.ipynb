{
  "nbformat": 4,
  "nbformat_minor": 0,
  "metadata": {
    "colab": {
      "provenance": [],
      "authorship_tag": "ABX9TyOY82qx0e91a7y20fjEkNuS",
      "include_colab_link": true
    },
    "kernelspec": {
      "name": "python3",
      "display_name": "Python 3"
    },
    "language_info": {
      "name": "python"
    }
  },
  "cells": [
    {
      "cell_type": "markdown",
      "metadata": {
        "id": "view-in-github",
        "colab_type": "text"
      },
      "source": [
        "<a href=\"https://colab.research.google.com/github/itchy-squid/AdventOfCode/blob/main/2020/AdventOfCode.ipynb\" target=\"_parent\"><img src=\"https://colab.research.google.com/assets/colab-badge.svg\" alt=\"Open In Colab\"/></a>"
      ]
    },
    {
      "cell_type": "code",
      "execution_count": 28,
      "metadata": {
        "id": "zKNoavoU7tSY",
        "colab": {
          "base_uri": "https://localhost:8080/"
        },
        "outputId": "f9a1b007-c96a-4209-ffe5-de6096ffe63b"
      },
      "outputs": [
        {
          "output_type": "stream",
          "name": "stdout",
          "text": [
            "[1, 2, 5, 6, 7, 8, 9, 12, 13, 14, 15, 18, 21, 22, 23, 26, 27, 28, 29, 30, 33, 34, 35, 36, 39, 42, 43, 44, 45, 48, 51, 54, 55, 56, 57, 60, 61, 62, 63, 64, 67, 68, 69, 72, 75, 76, 79, 80, 81, 82, 83, 86, 89, 90, 91, 92, 95, 98, 99, 100, 101, 104, 107, 108, 109, 110, 113, 114, 115, 116, 117, 120, 123, 126, 129, 130, 131, 132, 133, 136, 137, 138, 139, 140, 143, 144, 145, 146, 147, 150, 151, 152, 153, 154, 157, 158, 161, 162, 163, 164, 165]\n",
            "{1: 69, 3: 32}\n",
            "2277\n"
          ]
        }
      ],
      "source": [
        "#@title 2020-10-1\n",
        "import sys, re\n",
        "\n",
        "from google.colab import files\n",
        "with open('2020-10-1.txt','r') as f:\n",
        "  jolts = [int(j) for i,j in enumerate(f.read().splitlines())]\n",
        "sortedJolts = sorted(jolts)\n",
        "\n",
        "curr = 0\n",
        "ans = {}\n",
        "for j in sortedJolts:\n",
        "  ans[j - curr] = ans.get(j-curr, 0) + 1\n",
        "  curr = j\n",
        "\n",
        "print(ans[1]*(ans[3]+1))"
      ]
    }
  ]
}