{
  "nbformat": 4,
  "nbformat_minor": 0,
  "metadata": {
    "colab": {
      "provenance": [],
      "authorship_tag": "ABX9TyOZpFEqjSwaVHB0NwdP5dK3",
      "include_colab_link": true
    },
    "kernelspec": {
      "name": "python3",
      "display_name": "Python 3"
    },
    "language_info": {
      "name": "python"
    }
  },
  "cells": [
    {
      "cell_type": "markdown",
      "metadata": {
        "id": "view-in-github",
        "colab_type": "text"
      },
      "source": [
        "<a href=\"https://colab.research.google.com/github/itchy-squid/AdventOfCode/blob/main/2020/AdventOfCode.ipynb\" target=\"_parent\"><img src=\"https://colab.research.google.com/assets/colab-badge.svg\" alt=\"Open In Colab\"/></a>"
      ]
    },
    {
      "cell_type": "code",
      "execution_count": null,
      "metadata": {
        "id": "Q2DU2vaUJEey",
        "colab": {
          "base_uri": "https://localhost:8080/"
        },
        "outputId": "1e1b6080-f79b-4664-d8f7-259f2729acec",
        "cellView": "form"
      },
      "outputs": [
        {
          "output_type": "stream",
          "name": "stdout",
          "text": [
            "1052 * 968 = 1018336\n",
            "846 * 530 * 644 = 288756720\n"
          ]
        }
      ],
      "source": [
        "#@title Day 1: Report Repair\n",
        "from google.colab import files\n",
        "with open('2020-1-1.txt','r') as f:\n",
        "  ns = list(map(int, f.read().splitlines()))\n",
        "\n",
        "x, y = next((x, y) for i, x in enumerate(ns) for y in (ns+[])[i+1:] if x + y == 2020)\n",
        "print(x*y)\n",
        "\n",
        "x, y, z = next((x, y, z) for i, x in enumerate(ns) for j, y in enumerate((ns+[])[i+1:]) for z in (ns+[])[j+1:] if x + y + z == 2020)\n",
        "print(x*y*z)"
      ]
    },
    {
      "cell_type": "code",
      "source": [
        "#@title Day 2: Password Philosophy\n",
        "import re\n",
        "from google.colab import files\n",
        "with open('2020-2-1.txt','r') as f:\n",
        "  lines = [re.split(\"[- :]+\", line) for line in f.read().splitlines()]\n",
        "\n",
        "print(len([1 for i,j,c,s in lines if int(i) <= s.count(c) <= int(j)]))\n",
        "print(len([1 for i,j,c,s in lines if (s[int(i)-1] == c) ^ (s[int(j)-1] == c)]))"
      ],
      "metadata": {
        "colab": {
          "base_uri": "https://localhost:8080/"
        },
        "id": "9yEOw1tHPAv2",
        "outputId": "2d29c73d-f914-43ef-906c-3bdb1993eae5",
        "cellView": "form"
      },
      "execution_count": null,
      "outputs": [
        {
          "output_type": "stream",
          "name": "stdout",
          "text": [
            "622\n",
            "263\n"
          ]
        }
      ]
    },
    {
      "cell_type": "code",
      "source": [
        "#@title Day 3: Toboggan Trajectory\n",
        "from google.colab import files\n",
        "with open('2020-3-1.txt','r') as f:\n",
        "  m = f.read().splitlines()\n",
        "\n",
        "w, h = len(m[0]), len(m)\n",
        "ct = lambda dx, dy: sum([1 for i in range(1, h // dy + 1) if dy * i < h and m[dy * i][(dx * i) % w] == \"#\"])\n",
        "\n",
        "print(ct(3, 1))\n",
        "\n",
        "acc = 1\n",
        "[acc := acc * x for x in map(lambda t: ct(*t), [(1,1), (3,1), (5,1), (7,1), (1,2)])]\n",
        "print(acc)\n"
      ],
      "metadata": {
        "colab": {
          "base_uri": "https://localhost:8080/"
        },
        "id": "YHqwiyLpaOpx",
        "outputId": "bf83b6b4-fec8-429d-a57e-0b121969ec7c",
        "cellView": "form"
      },
      "execution_count": null,
      "outputs": [
        {
          "output_type": "stream",
          "name": "stdout",
          "text": [
            "164\n",
            "5007658656\n"
          ]
        }
      ]
    },
    {
      "cell_type": "code",
      "source": [
        "#@title Day 4: Passport Processing\n",
        "import re\n",
        "from google.colab import files\n",
        "with open('2020-4-1.txt','r') as f:\n",
        "  lines = [[(re.split(':',kv)) for kv in re.split('\\s+', l)] for l in re.split('\\n\\n+', f.read())]\n",
        "\n",
        "pps = [{k:v[0] for k,*v in b if len(v) > 0} for b in lines]\n",
        "easy = lambda p: all([k in p for k in ['byr','iyr','eyr','hgt','hcl','ecl','pid']])\n",
        "print(sum([easy(p) for p in pps]))\n",
        "\n",
        "def valid_height(hstr):\n",
        "  m = re.match('(?P<num>\\d+)((?P<in>in)|(?P<cm>cm))\\Z', hstr)\n",
        "  if m == None: return 0\n",
        "  n = int(m['num']);\n",
        "  return 150 <= n <= 193 if m['cm'] else 59 <= n <= 76\n",
        "\n",
        "def strict(p):\n",
        "  return (easy(p)\n",
        "          and 1920 <= int(p['byr']) <= 2002\n",
        "          and 2010 <= int(p['iyr']) <= 2020\n",
        "          and 2020 <= int(p['eyr']) <= 2030\n",
        "          and valid_height(p['hgt'])\n",
        "          and re.match('#\\w{6}\\Z', p['hcl'])\n",
        "          and p['ecl'] in {'amb','blu','brn','gry','grn','hzl','oth'}\n",
        "          and re.match('\\d{9}\\Z', p['pid']))\n",
        "\n",
        "print(sum([1 for p in pps if strict(p)]))"
      ],
      "metadata": {
        "colab": {
          "base_uri": "https://localhost:8080/"
        },
        "id": "QTzlb7vmj9B8",
        "outputId": "e5e57eba-eb0f-4fcf-c58e-8e40b5d7a219",
        "cellView": "form"
      },
      "execution_count": null,
      "outputs": [
        {
          "output_type": "stream",
          "name": "stdout",
          "text": [
            "204\n",
            "179\n"
          ]
        }
      ]
    },
    {
      "cell_type": "code",
      "source": [
        "#@title Day 5: Binary Boarding\n",
        "from google.colab import files\n",
        "with open('2020-5-1.txt','r') as f:\n",
        "  ids = {sum(int(c in {'B','R'}) << i for i, c in enumerate(reversed(l))) for l in f.read().splitlines()}\n",
        "\n",
        "print(max(ids))\n",
        "print(next(id+1 for id in ids if (id+1) not in ids and (id+2) in ids))"
      ],
      "metadata": {
        "colab": {
          "base_uri": "https://localhost:8080/"
        },
        "id": "uJViMPoX2Zq2",
        "outputId": "ef9edae4-ddbe-481e-b58c-d6fcf0cb00c5"
      },
      "execution_count": null,
      "outputs": [
        {
          "output_type": "stream",
          "name": "stdout",
          "text": [
            "828\n",
            "565\n"
          ]
        }
      ]
    },
    {
      "cell_type": "code",
      "source": [
        "#@title Day 6: Custom Customs\n",
        "from google.colab import files\n",
        "with open('2020-6-1.txt','r') as f:\n",
        "  gps = [gp.strip().split('\\n') for gp in f.read().split('\\n\\n')]\n",
        "\n",
        "anys = [{c for i in gp for c in i} for gp in gps]\n",
        "alls = [{c for c in s if all([c in p for p in gps[i]])} for i, s in enumerate(anys)]\n",
        "print(sum(len(a) for a in anys))\n",
        "print(sum(len(a) for a in alls))\n"
      ],
      "metadata": {
        "colab": {
          "base_uri": "https://localhost:8080/"
        },
        "cellView": "form",
        "id": "yT9pHOmxaK5f",
        "outputId": "a2efedbe-3dee-496e-ca0f-6d983109cefb"
      },
      "execution_count": 77,
      "outputs": [
        {
          "output_type": "stream",
          "name": "stdout",
          "text": [
            "6799\n",
            "3354\n"
          ]
        }
      ]
    },
    {
      "cell_type": "code",
      "source": [
        "#@title Day 7-1: Handy Haversacks\n",
        "import re\n",
        "\n",
        "from google.colab import files\n",
        "with open('2020-7-1.txt','r') as f:\n",
        "  lines = [[b for b in re.split(r' (?:(?:bags?)|\\s|(?:contains?)|\\d|,|\\.)+', line) if b]\n",
        "           for line in f.read().splitlines()]\n",
        "\n",
        "m = {l[0]: l[1:] for l in lines}\n",
        "print(m)\n",
        "\n",
        "seen = set()\n",
        "next = ['shiny gold']\n",
        "while next:\n",
        "  now = next.pop()\n",
        "  new = {k for k,s in m.items() if now in s}\n",
        "  next += [i for i in (new - seen)]\n",
        "  seen |= new\n",
        "\n",
        "print(len(seen))"
      ],
      "metadata": {
        "colab": {
          "base_uri": "https://localhost:8080/"
        },
        "id": "ZNxOkjiU_dyG",
        "outputId": "6fb33f55-5556-4914-8c42-4600161f9873"
      },
      "execution_count": 118,
      "outputs": [
        {
          "output_type": "stream",
          "name": "stdout",
          "text": [
            "{'muted tomato': ['bright brown', 'dotted gold', 'faded gray', 'posh yellow'], 'posh brown': ['dark lime', 'mirrored crimson', 'striped chartreuse'], 'dotted violet': ['striped white'], 'mirrored black': ['clear yellow'], 'light aqua': ['clear silver', 'shiny coral', 'muted tomato', 'drab turquoise'], 'faded violet': ['no other'], 'shiny lime': ['muted brown', 'dull gray'], 'dark green': ['muted magenta'], 'faded bronze': ['clear lime', 'muted gold'], 'clear lavender': ['dark beige', 'mirrored crimson', 'bright blue'], 'striped bronze': ['muted olive', 'clear chartreuse', 'vibrant blue'], 'dim bronze': ['clear indigo'], 'dull crimson': ['dotted violet', 'pale teal', 'plaid bronze', 'faded aqua'], 'mirrored bronze': ['striped maroon', 'shiny gold', 'light indigo', 'clear orange'], 'vibrant white': ['light lime'], 'dark blue': ['faded black', 'mirrored plum', 'muted cyan'], 'drab bronze': ['mirrored plum', 'bright turquoise', 'clear gray', 'faded chartreuse'], 'mirrored lime': ['faded red'], 'posh violet': ['dull chartreuse', 'clear plum', 'mirrored chartreuse', 'dull magenta'], 'dull bronze': ['wavy purple', 'drab salmon', 'dull chartreuse'], 'dull black': ['shiny crimson', 'dotted turquoise', 'clear beige', 'striped maroon'], 'striped aqua': ['faded violet', 'plaid teal'], 'clear silver': ['faded green'], 'dark yellow': ['shiny plum', 'dull gray', 'light lime', 'shiny orange'], 'dull coral': ['striped turquoise', 'mirrored fuchsia', 'faded yellow'], 'shiny yellow': ['wavy maroon', 'striped fuchsia'], 'shiny black': ['muted tomato', 'muted maroon', 'shiny orange'], 'posh aqua': ['wavy cyan', 'posh brown', 'dim plum'], 'plaid maroon': ['faded aqua', 'mirrored olive', 'plaid gold', 'vibrant gray'], 'mirrored gold': ['shiny tomato', 'shiny crimson'], 'muted lavender': ['muted tan'], 'vibrant magenta': ['dull purple', 'vibrant coral', 'faded silver'], 'striped tomato': ['faded beige', 'pale tan', 'drab orange'], 'dull turquoise': ['striped green', 'shiny blue', 'dim purple'], 'shiny aqua': ['clear salmon'], 'drab silver': ['shiny gold', 'posh yellow'], 'plaid gold': ['bright lavender', 'plaid cyan', 'bright brown', 'faded turquoise'], 'wavy lavender': ['plaid lavender', 'plaid red', 'posh cyan', 'bright aqua'], 'dark bronze': ['muted cyan', 'clear cyan'], 'plaid lime': ['posh teal'], 'mirrored magenta': ['dotted turquoise'], 'light turquoise': ['posh tan', 'posh aqua'], 'dark indigo': ['clear crimson', 'posh lime'], 'mirrored brown': ['posh white', 'dim lime', 'pale magenta', 'mirrored chartreuse'], 'vibrant lavender': ['posh plum', 'posh aqua'], 'dim crimson': ['vibrant beige', 'clear indigo', 'dim lime', 'striped olive'], 'vibrant violet': ['vibrant red', 'striped white'], 'dull silver': ['striped bronze', 'plaid plum', 'dim tomato'], 'plaid brown': ['drab blue', 'light turquoise', 'dull lavender'], 'dim aqua': ['plaid lavender', 'muted maroon'], 'faded plum': ['striped tan'], 'drab black': ['clear bronze', 'plaid red', 'drab orange', 'clear lavender'], 'pale bronze': ['dim plum', 'drab lavender'], 'mirrored purple': ['mirrored crimson'], 'mirrored red': ['striped magenta', 'mirrored chartreuse', 'pale cyan'], 'posh lime': ['dull lavender', 'faded turquoise', 'striped coral', 'striped green'], 'vibrant black': ['drab salmon', 'clear tomato', 'faded turquoise'], 'striped orange': ['plaid blue', 'pale teal', 'drab maroon'], 'dotted tomato': ['dim white', 'dotted magenta', 'dull tomato', 'dull gold'], 'posh orange': ['posh gold', 'light lime', 'faded violet', 'faded turquoise'], 'muted gold': ['faded maroon', 'dark turquoise', 'bright turquoise', 'plaid silver'], 'striped yellow': ['drab fuchsia', 'dim lime'], 'dotted green': ['clear beige'], 'faded fuchsia': ['dull blue', 'bright coral'], 'shiny lavender': ['mirrored beige', 'dark coral', 'muted turquoise', 'light brown'], 'bright maroon': ['faded lime', 'dim brown', 'vibrant yellow'], 'dark maroon': ['drab red'], 'dark white': ['wavy turquoise', 'dotted red', 'plaid fuchsia'], 'dotted aqua': ['clear green', 'drab magenta', 'dull tomato', 'striped coral'], 'faded red': ['plaid purple', 'dark lime'], 'wavy yellow': ['bright yellow', 'light chartreuse', 'dull chartreuse'], 'posh beige': ['shiny orange', 'drab silver', 'striped cyan'], 'dull fuchsia': ['faded lavender', 'dark cyan', 'clear tomato', 'mirrored chartreuse'], 'muted silver': ['muted brown', 'striped brown', 'mirrored bronze', 'faded plum'], 'dim white': ['dull bronze', 'dotted beige', 'wavy tan', 'vibrant white'], 'faded green': ['clear indigo', 'pale cyan', 'wavy brown'], 'pale blue': ['posh turquoise'], 'muted green': ['dull bronze'], 'dull indigo': ['shiny silver', 'wavy red', 'muted orange'], 'muted plum': ['shiny lime', 'plaid tomato', 'faded indigo'], 'striped magenta': ['mirrored chartreuse', 'faded beige', 'bright blue', 'clear yellow'], 'clear coral': ['dark turquoise', 'posh magenta', 'shiny aqua', 'pale aqua'], 'pale olive': ['shiny crimson', 'wavy cyan', 'vibrant beige', 'dark beige'], 'striped plum': ['light salmon'], 'dim indigo': ['shiny lavender', 'clear lavender', 'bright tomato', 'vibrant bronze'], 'striped green': ['muted cyan'], 'shiny salmon': ['wavy brown'], 'wavy aqua': ['muted white', 'mirrored gray', 'dull lavender'], 'posh gold': ['vibrant beige', 'dull chartreuse', 'mirrored brown'], 'wavy blue': ['shiny gray', 'posh turquoise'], 'dark fuchsia': ['posh fuchsia', 'bright indigo', 'posh maroon', 'posh aqua'], 'shiny purple': ['clear maroon', 'bright indigo'], 'dull chartreuse': ['no other'], 'light beige': ['dim purple', 'posh red', 'clear aqua', 'striped coral'], 'wavy purple': ['bright turquoise'], 'clear yellow': ['posh plum'], 'clear violet': ['faded chartreuse', 'clear green', 'wavy brown'], 'striped white': ['light white'], 'clear green': ['muted bronze'], 'drab crimson': ['posh tan'], 'dark turquoise': ['shiny tomato', 'wavy maroon', 'dim aqua'], 'drab magenta': ['pale gray', 'striped olive', 'posh brown'], 'dotted gray': ['dull tomato', 'posh yellow'], 'plaid magenta': ['clear green', 'dotted bronze', 'drab black'], 'striped indigo': ['mirrored magenta', 'posh beige'], 'bright fuchsia': ['dotted orange', 'faded green', 'bright turquoise'], 'mirrored teal': ['mirrored chartreuse', 'drab brown', 'dull black'], 'dotted purple': ['dotted turquoise', 'dotted orange', 'shiny gold'], 'dim lavender': ['shiny coral', 'mirrored crimson', 'clear yellow', 'muted orange'], 'shiny gray': ['vibrant purple'], 'mirrored white': ['mirrored brown', 'striped purple'], 'light cyan': ['bright maroon', 'posh violet', 'faded aqua', 'dull tan'], 'wavy gray': ['mirrored violet', 'muted orange'], 'striped silver': ['bright silver', 'posh aqua'], 'dull green': ['mirrored chartreuse', 'dim beige'], 'faded black': ['wavy turquoise', 'muted tan', 'dull chartreuse'], 'posh crimson': ['muted tan', 'striped beige', 'mirrored lavender', 'faded white'], 'pale teal': ['posh aqua', 'mirrored plum', 'muted turquoise'], 'muted tan': ['striped coral', 'mirrored brown', 'posh gold', 'muted cyan'], 'posh indigo': ['shiny tomato', 'clear salmon', 'dotted black', 'striped maroon'], 'clear gray': ['bright violet'], 'striped olive': ['no other'], 'mirrored silver': ['shiny maroon', 'muted coral'], 'clear brown': ['dotted magenta', 'clear aqua', 'faded lime'], 'striped lavender': ['dull turquoise'], 'plaid teal': ['muted bronze', 'drab orange'], 'faded blue': ['bright teal', 'posh brown'], 'drab gold': ['dotted black', 'striped yellow'], 'plaid gray': ['drab magenta', 'bright yellow', 'pale beige'], 'mirrored coral': ['shiny fuchsia', 'vibrant gray', 'wavy maroon'], 'drab fuchsia': ['dull silver', 'posh brown'], 'wavy olive': ['plaid lavender'], 'vibrant maroon': ['drab brown', 'dark indigo', 'clear gray'], 'faded magenta': ['dim crimson'], 'pale aqua': ['dotted turquoise'], 'dotted orange': ['light coral'], 'dim coral': ['pale gold'], 'faded turquoise': ['posh gold', 'bright turquoise', 'drab magenta'], 'striped tan': ['bright red'], 'drab green': ['muted gold', 'plaid gold'], 'posh red': ['mirrored red', 'striped fuchsia', 'faded violet', 'bright black'], 'drab lime': ['dotted brown'], 'plaid tomato': ['muted olive', 'striped tan'], 'striped blue': ['drab lavender'], 'bright bronze': ['clear gold', 'striped gold', 'dim coral', 'vibrant purple'], 'muted white': ['light olive'], 'pale violet': ['bright teal', 'bright lavender', 'faded green', 'clear gold'], 'striped violet': ['drab turquoise', 'bright red', 'vibrant blue'], 'dull beige': ['vibrant beige'], 'light lime': ['bright turquoise', 'vibrant beige', 'wavy bronze', 'muted cyan'], 'striped gray': ['vibrant brown', 'wavy red', 'plaid bronze', 'wavy aqua'], 'dark violet': ['dim indigo', 'dim chartreuse', 'dim purple', 'striped magenta'], 'dim turquoise': ['muted tan'], 'pale green': ['pale olive', 'wavy red', 'pale lime'], 'dark beige': ['light green', 'drab beige', 'dim cyan'], 'drab maroon': ['light coral', 'clear crimson'], 'dark gold': ['dim black', 'dotted gold', 'dim gray', 'wavy red'], 'drab white': ['pale gray'], 'mirrored olive': ['mirrored crimson', 'faded beige'], 'pale yellow': ['shiny maroon', 'dim tomato', 'shiny olive', 'faded olive'], 'striped lime': ['light lavender', 'shiny aqua', 'pale maroon'], 'mirrored tomato': ['clear crimson', 'pale beige', 'striped purple', 'clear tomato'], 'dark black': ['mirrored orange', 'shiny brown'], 'plaid chartreuse': ['dim beige', 'vibrant red', 'bright lavender', 'mirrored tomato'], 'posh gray': ['dotted blue'], 'mirrored crimson': ['no other'], 'pale silver': ['plaid cyan'], 'shiny green': ['dotted violet', 'drab olive'], 'light brown': ['vibrant yellow', 'dim tomato'], 'muted yellow': ['drab magenta', 'muted olive', 'clear crimson', 'mirrored brown'], 'mirrored plum': ['muted tan', 'posh brown', 'faded silver', 'dull gold'], 'dark chartreuse': ['dim orange', 'dull indigo', 'dark beige'], 'wavy brown': ['striped chartreuse'], 'faded white': ['striped magenta', 'muted turquoise', 'bright cyan', 'clear chartreuse'], 'bright green': ['light salmon'], 'bright salmon': ['posh tan', 'drab orange'], 'drab plum': ['posh turquoise', 'dark salmon', 'posh lime', 'light coral'], 'drab tomato': ['faded teal', 'mirrored black', 'mirrored lavender', 'drab salmon'], 'faded olive': ['light green', 'clear bronze'], 'plaid bronze': ['dim plum', 'posh white', 'dotted gray', 'dull gray'], 'light salmon': ['faded violet'], 'bright red': ['posh plum', 'clear crimson'], 'faded maroon': ['striped olive', 'wavy bronze', 'bright lavender'], 'mirrored orange': ['bright silver', 'bright red', 'drab brown'], 'dotted indigo': ['dull black', 'posh white'], 'wavy teal': ['dotted tomato', 'faded beige', 'dull beige', 'clear crimson'], 'dim magenta': ['posh maroon', 'dim yellow', 'faded red', 'pale olive'], 'light red': ['dim silver', 'drab maroon', 'shiny red'], 'plaid red': ['posh yellow', 'muted turquoise', 'bright red'], 'pale magenta': ['dim plum', 'dull tomato', 'bright turquoise', 'dark lime'], 'posh yellow': ['posh brown'], 'bright lavender': ['clear aqua', 'posh yellow', 'pale magenta'], 'dim fuchsia': ['muted green', 'mirrored beige', 'dark brown', 'dull crimson'], 'vibrant salmon': ['clear lime', 'plaid brown', 'pale white'], 'dim black': ['faded magenta', 'dull gray', 'vibrant blue', 'vibrant bronze'], 'dotted yellow': ['drab turquoise', 'muted cyan', 'clear gray'], 'mirrored beige': ['drab salmon', 'striped olive', 'dotted gold', 'faded beige'], 'striped brown': ['bright maroon', 'light gold'], 'striped chartreuse': ['no other'], 'dark lime': ['dull chartreuse', 'dim violet', 'mirrored crimson'], 'faded salmon': ['dull chartreuse', 'posh brown', 'mirrored olive', 'light green'], 'bright brown': ['vibrant bronze', 'dim gray'], 'dull tan': ['posh indigo'], 'dim silver': ['vibrant tomato', 'dim maroon'], 'clear lime': ['clear gray', 'clear tan', 'posh brown', 'dark indigo'], 'shiny beige': ['plaid lavender', 'drab red', 'striped green', 'vibrant tomato'], 'dim tomato': ['clear yellow', 'wavy gold', 'pale cyan'], 'dotted tan': ['pale white'], 'dark crimson': ['dim coral', 'muted brown', 'clear chartreuse'], 'plaid coral': ['dark yellow', 'muted tomato'], 'faded lavender': ['muted lavender', 'mirrored red', 'muted orange', 'light coral'], 'vibrant crimson': ['plaid plum', 'bright olive'], 'faded chartreuse': ['dim cyan'], 'dark gray': ['clear plum', 'faded aqua'], 'shiny crimson': ['mirrored gray', 'dull green'], 'muted purple': ['dull tomato'], 'light coral': ['no other'], 'pale beige': ['dark indigo', 'bright turquoise', 'vibrant lavender', 'pale magenta'], 'posh turquoise': ['faded green', 'light coral', 'light teal', 'dim tomato'], 'clear aqua': ['wavy cyan', 'muted yellow'], 'posh silver': ['plaid fuchsia', 'dotted violet', 'drab olive'], 'dark silver': ['vibrant purple', 'vibrant cyan'], 'dull plum': ['dim red', 'wavy turquoise', 'mirrored beige'], 'muted magenta': ['faded lime', 'muted crimson', 'mirrored gray'], 'plaid indigo': ['wavy aqua', 'plaid silver', 'light blue', 'wavy magenta'], 'wavy violet': ['striped bronze'], 'plaid yellow': ['dull plum', 'striped blue', 'faded aqua'], 'dotted bronze': ['bright lavender', 'wavy lime', 'dotted cyan', 'mirrored beige'], 'striped coral': ['dark cyan', 'wavy bronze', 'dotted magenta'], 'posh tan': ['mirrored brown', 'dotted teal', 'light lime'], 'bright white': ['muted indigo', 'wavy aqua'], 'posh cyan': ['muted tomato', 'posh tan', 'mirrored lavender', 'drab blue'], 'wavy gold': ['dim beige', 'dotted teal', 'dotted turquoise'], 'mirrored cyan': ['drab silver', 'muted orange', 'mirrored olive'], 'dim orange': ['striped blue'], 'muted indigo': ['clear aqua', 'mirrored tan', 'clear green', 'posh brown'], 'dull tomato': ['posh plum'], 'plaid orange': ['striped coral'], 'posh bronze': ['vibrant purple', 'dim brown', 'clear violet', 'mirrored gold'], 'dotted chartreuse': ['dull crimson'], 'faded coral': ['wavy tomato'], 'pale salmon': ['dull purple', 'dark tomato'], 'wavy crimson': ['bright fuchsia', 'light lime', 'posh tan'], 'pale fuchsia': ['wavy black', 'muted crimson', 'dotted aqua'], 'striped fuchsia': ['mirrored violet', 'dull chartreuse', 'shiny lavender'], 'plaid cyan': ['vibrant lavender'], 'dotted beige': ['dim beige', 'vibrant lavender'], 'mirrored turquoise': ['mirrored beige', 'dotted turquoise', 'striped maroon'], 'faded indigo': ['dark lime', 'mirrored salmon', 'drab red'], 'dotted silver': ['dark yellow', 'posh crimson'], 'light silver': ['wavy orange', 'vibrant maroon', 'wavy beige'], 'vibrant cyan': ['shiny fuchsia', 'posh plum'], 'pale crimson': ['dotted gold', 'mirrored brown', 'mirrored olive'], 'vibrant beige': ['dull white'], 'faded tomato': ['mirrored salmon', 'faded green'], 'dull maroon': ['mirrored olive', 'dim crimson'], 'muted aqua': ['plaid olive', 'shiny indigo'], 'shiny teal': ['striped bronze', 'dotted aqua'], 'dotted cyan': ['clear yellow', 'faded maroon', 'dim gray'], 'wavy beige': ['posh cyan', 'wavy magenta', 'dim green'], 'bright silver': ['clear beige', 'faded chartreuse', 'clear aqua'], 'striped purple': ['clear chartreuse', 'dotted magenta'], 'clear gold': ['vibrant lavender', 'posh aqua', 'light green', 'pale cyan'], 'dull cyan': ['dim tomato', 'dim orange'], 'light crimson': ['dull green'], 'faded crimson': ['plaid coral', 'dotted orange'], 'pale gray': ['dark lime'], 'faded gold': ['muted crimson', 'plaid red', 'wavy cyan'], 'plaid plum': ['bright blue'], 'wavy tomato': ['posh brown', 'striped maroon', 'faded indigo', 'clear gold'], 'shiny fuchsia': ['mirrored gray'], 'wavy magenta': ['posh olive'], 'dim purple': ['vibrant yellow'], 'wavy black': ['pale green'], 'wavy silver': ['dull yellow', 'faded magenta', 'mirrored black', 'dull indigo'], 'shiny cyan': ['shiny salmon', 'pale olive', 'shiny red'], 'striped cyan': ['pale magenta', 'faded silver'], 'dim salmon': ['vibrant aqua', 'drab red'], 'bright chartreuse': ['shiny tomato', 'wavy yellow', 'wavy silver'], 'drab coral': ['drab silver'], 'pale white': ['faded red', 'pale gray', 'mirrored lavender'], 'dim violet': ['dull white'], 'muted red': ['shiny lime', 'plaid beige', 'shiny aqua'], 'bright teal': ['dim tomato', 'mirrored turquoise', 'vibrant yellow'], 'striped maroon': ['dim plum', 'wavy cyan', 'dull beige'], 'vibrant green': ['dotted salmon', 'mirrored olive'], 'dim tan': ['shiny white', 'posh lime', 'dotted teal'], 'muted olive': ['mirrored chartreuse'], 'muted salmon': ['clear salmon'], 'dim beige': ['pale gray', 'mirrored olive', 'clear yellow'], 'light tomato': ['pale white', 'dark teal', 'shiny lime'], 'striped beige': ['bright plum', 'plaid olive', 'pale crimson'], 'light indigo': ['bright fuchsia', 'dull gold', 'dark beige', 'mirrored teal'], 'drab gray': ['dark coral', 'mirrored teal', 'dim purple', 'mirrored violet'], 'dark teal': ['muted orange'], 'dim plum': ['posh brown', 'dotted orange', 'dotted gold', 'drab salmon'], 'dim green': ['dark beige', 'bright tan', 'striped white', 'faded white'], 'drab teal': ['light gray'], 'dark aqua': ['vibrant green', 'shiny teal', 'dull red'], 'wavy lime': ['mirrored brown', 'dark cyan', 'dull green', 'wavy cyan'], 'muted violet': ['light plum'], 'posh green': ['shiny fuchsia', 'posh aqua', 'dotted turquoise'], 'clear blue': ['vibrant gray', 'shiny plum'], 'muted brown': ['dark lime', 'mirrored olive', 'faded beige'], 'dotted black': ['pale beige', 'dotted tomato', 'wavy cyan', 'wavy aqua'], 'muted chartreuse': ['muted lavender', 'clear aqua', 'bright maroon', 'plaid bronze'], 'bright purple': ['bright fuchsia', 'pale tomato', 'mirrored tomato'], 'drab orange': ['light crimson', 'dark beige'], 'clear white': ['shiny salmon'], 'posh lavender': ['posh tan', 'posh magenta'], 'faded purple': ['dull maroon', 'mirrored coral', 'vibrant green'], 'dotted olive': ['dull chartreuse', 'wavy magenta', 'pale tan', 'dim turquoise'], 'muted crimson': ['striped olive', 'dull chartreuse', 'light bronze'], 'striped turquoise': ['light blue'], 'bright indigo': ['dull green', 'pale teal'], 'drab purple': ['bright aqua', 'dull tan', 'mirrored indigo'], 'wavy salmon': ['dark olive', 'dull chartreuse', 'vibrant purple', 'pale lime'], 'drab olive': ['dim crimson', 'posh green', 'clear brown', 'posh teal'], 'muted orange': ['shiny orange', 'muted black', 'bright blue', 'mirrored olive'], 'drab salmon': ['light coral'], 'dark salmon': ['bright lavender', 'clear gray'], 'posh blue': ['drab coral', 'faded green'], 'shiny violet': ['posh yellow', 'light turquoise', 'drab silver', 'muted teal'], 'clear tomato': ['bright plum', 'muted indigo', 'muted maroon', 'dotted cyan'], 'dotted coral': ['dark tomato', 'dotted magenta', 'wavy gold'], 'striped teal': ['plaid brown', 'bright plum', 'mirrored blue'], 'pale maroon': ['posh gold', 'striped magenta', 'dim brown', 'clear chartreuse'], 'muted lime': ['dull lavender', 'plaid gray', 'shiny tomato', 'drab tomato'], 'mirrored green': ['striped purple'], 'posh chartreuse': ['dull tan', 'plaid coral', 'plaid cyan', 'clear bronze'], 'shiny bronze': ['striped indigo', 'mirrored white', 'faded coral', 'clear violet'], 'dull olive': ['muted coral', 'clear tomato', 'bright tan'], 'light maroon': ['mirrored tomato'], 'light chartreuse': ['dark indigo', 'mirrored coral'], 'light bronze': ['bright yellow'], 'dim chartreuse': ['plaid gray', 'faded teal'], 'dotted lavender': ['bright teal', 'vibrant green'], 'dark tan': ['posh black'], 'muted blue': ['mirrored salmon', 'striped olive'], 'mirrored chartreuse': ['bright turquoise'], 'clear cyan': ['dotted gold', 'shiny fuchsia', 'dim violet'], 'light white': ['vibrant bronze'], 'pale orange': ['plaid aqua'], 'faded brown': ['shiny blue', 'dark cyan'], 'plaid salmon': ['wavy yellow', 'faded aqua', 'dull yellow'], 'shiny blue': ['bright violet', 'light lime', 'clear blue'], 'dull orange': ['faded turquoise', 'dim lavender'], 'dull gold': ['dotted gray'], 'vibrant tan': ['posh turquoise', 'muted orange', 'plaid blue'], 'shiny white': ['pale chartreuse', 'dark tomato'], 'light olive': ['striped bronze', 'posh white'], 'dark lavender': ['drab magenta', 'plaid black', 'dull red'], 'shiny turquoise': ['vibrant black', 'wavy fuchsia'], 'clear fuchsia': ['dull aqua', 'shiny coral'], 'shiny coral': ['pale magenta', 'muted bronze', 'light coral'], 'striped salmon': ['posh olive'], 'shiny olive': ['pale chartreuse'], 'dotted brown': ['mirrored brown'], 'dull red': ['faded chartreuse', 'dull chartreuse', 'clear lavender', 'wavy salmon'], 'bright beige': ['posh crimson', 'posh chartreuse'], 'plaid crimson': ['wavy magenta', 'muted lime', 'muted maroon', 'dim green'], 'wavy maroon': ['wavy cyan', 'bright turquoise', 'shiny coral', 'drab beige'], 'vibrant fuchsia': ['dull tomato', 'light coral'], 'pale brown': ['striped gray', 'light plum', 'pale chartreuse', 'shiny tomato'], 'light plum': ['bright yellow', 'dark tomato', 'plaid coral'], 'dull gray': ['mirrored olive'], 'light yellow': ['bright magenta', 'pale gray', 'mirrored red'], 'dull lime': ['dark indigo', 'mirrored salmon', 'striped white', 'posh aqua'], 'drab yellow': ['shiny white', 'faded green'], 'bright gray': ['drab olive'], 'bright coral': ['mirrored brown', 'dim bronze', 'muted white', 'dim crimson'], 'dim maroon': ['vibrant red', 'faded fuchsia', 'vibrant blue'], 'plaid turquoise': ['bright yellow', 'dark purple'], 'plaid violet': ['clear yellow', 'posh violet', 'mirrored bronze', 'vibrant tan'], 'dotted maroon': ['striped fuchsia', 'striped white', 'light blue', 'plaid cyan'], 'dull blue': ['wavy brown'], 'drab tan': ['clear indigo', 'faded violet', 'pale cyan'], 'posh maroon': ['striped aqua', 'wavy coral', 'mirrored olive'], 'dim blue': ['dotted maroon', 'striped black', 'plaid gray'], 'faded teal': ['clear indigo', 'dark beige', 'shiny cyan', 'bright tomato'], 'clear bronze': ['muted yellow'], 'dark plum': ['faded white', 'wavy brown', 'pale white'], 'wavy cyan': ['mirrored brown', 'faded silver', 'dim lime', 'clear indigo'], 'posh plum': ['no other'], 'wavy plum': ['dull indigo', 'faded black', 'bright turquoise', 'bright red'], 'dim red': ['light cyan'], 'pale coral': ['wavy brown', 'dull gray'], 'posh teal': ['striped purple', 'dotted gray'], 'clear tan': ['striped maroon'], 'wavy chartreuse': ['bright chartreuse'], 'posh black': ['mirrored gray', 'mirrored beige', 'clear aqua', 'bright plum'], 'muted maroon': ['vibrant red', 'plaid lavender'], 'vibrant silver': ['mirrored salmon', 'clear lime', 'shiny violet'], 'pale indigo': ['clear maroon', 'wavy cyan'], 'mirrored salmon': ['pale gray', 'dim beige'], 'pale lavender': ['wavy turquoise', 'striped green', 'light coral', 'clear chartreuse'], 'drab beige': ['no other'], 'wavy coral': ['muted cyan', 'dull bronze'], 'plaid black': ['posh orange', 'shiny tan', 'mirrored brown', 'shiny plum'], 'light gray': ['dim crimson', 'faded salmon'], 'shiny plum': ['dull tomato', 'mirrored tan', 'dull green', 'dark lime'], 'drab blue': ['mirrored chartreuse', 'dull tomato', 'mirrored beige', 'posh plum'], 'faded orange': ['striped yellow', 'drab gray', 'vibrant purple', 'muted fuchsia'], 'plaid purple': ['faded silver', 'shiny gold', 'dim cyan'], 'pale tan': ['shiny gold', 'shiny lavender', 'pale cyan'], 'bright crimson': ['clear cyan'], 'dotted lime': ['posh violet', 'striped beige', 'bright teal'], 'posh purple': ['mirrored silver', 'dim tan', 'pale white'], 'vibrant red': ['pale chartreuse', 'dim purple', 'wavy maroon', 'dull gray'], 'light fuchsia': ['drab maroon', 'faded violet'], 'bright blue': ['drab salmon', 'dotted gold'], 'bright turquoise': ['dotted gold', 'dim violet', 'vibrant bronze'], 'light orange': ['plaid olive'], 'light gold': ['clear plum', 'striped bronze', 'dark yellow', 'posh orange'], 'dotted magenta': ['wavy cyan'], 'muted teal': ['clear beige', 'plaid brown', 'posh plum'], 'light black': ['drab bronze', 'plaid silver', 'mirrored coral'], 'wavy turquoise': ['dotted orange'], 'muted fuchsia': ['dull black', 'striped coral', 'bright magenta'], 'posh white': ['bright blue', 'pale gray', 'dark lime', 'dotted gold'], 'striped black': ['drab maroon', 'faded green', 'mirrored silver', 'shiny white'], 'striped gold': ['dim gray'], 'dull violet': ['light plum', 'faded turquoise', 'mirrored cyan'], 'striped red': ['plaid orange', 'clear plum', 'vibrant lavender'], 'bright cyan': ['dim brown', 'mirrored turquoise'], 'dim cyan': ['bright turquoise'], 'shiny chartreuse': ['striped white'], 'vibrant blue': ['drab tan', 'dotted magenta'], 'mirrored aqua': ['shiny gold', 'drab brown', 'faded black', 'clear tan'], 'dark cyan': ['pale gray', 'dotted gold', 'dotted orange', 'pale magenta'], 'wavy fuchsia': ['mirrored teal', 'dotted gray'], 'pale gold': ['posh lavender', 'drab brown'], 'shiny orange': ['dim gray'], 'posh tomato': ['bright brown'], 'clear orange': ['posh plum', 'dull gray'], 'pale purple': ['drab purple', 'bright crimson'], 'drab brown': ['bright red', 'light turquoise', 'posh plum', 'dull chartreuse'], 'shiny tan': ['dotted gold', 'plaid orange', 'clear cyan'], 'faded cyan': ['wavy cyan', 'posh teal'], 'clear maroon': ['light coral'], 'drab cyan': ['wavy bronze', 'posh aqua', 'dull crimson', 'shiny gold'], 'plaid white': ['wavy brown'], 'bright tan': ['shiny silver'], 'drab turquoise': ['faded beige', 'vibrant lavender'], 'faded yellow': ['dull black', 'vibrant yellow', 'plaid silver', 'posh teal'], 'bright lime': ['striped aqua', 'dull tomato', 'dim gray'], 'plaid tan': ['plaid coral', 'drab blue', 'drab orange'], 'clear purple': ['drab tomato', 'mirrored bronze', 'dark teal', 'dull green'], 'wavy red': ['faded tan', 'wavy cyan'], 'vibrant purple': ['mirrored salmon', 'dark salmon'], 'wavy tan': ['shiny olive', 'faded maroon'], 'vibrant gray': ['mirrored olive', 'dotted turquoise', 'striped chartreuse', 'dull tomato'], 'mirrored gray': ['bright blue', 'striped olive'], 'dull aqua': ['vibrant purple', 'faded maroon', 'muted yellow'], 'clear red': ['posh violet'], 'light purple': ['shiny olive', 'striped yellow', 'dotted turquoise', 'shiny violet'], 'dull brown': ['wavy red', 'clear green'], 'wavy bronze': ['dull tomato'], 'muted beige': ['wavy aqua', 'striped maroon', 'drab tan'], 'muted black': ['posh green', 'clear green', 'striped bronze'], 'light green': ['dim lime', 'shiny gold', 'shiny crimson', 'muted yellow'], 'mirrored fuchsia': ['dull bronze'], 'pale tomato': ['vibrant maroon', 'muted orange', 'wavy brown', 'dull cyan'], 'drab chartreuse': ['mirrored magenta'], 'shiny indigo': ['pale teal', 'dull silver', 'mirrored olive'], 'bright aqua': ['bright violet'], 'shiny magenta': ['bright red'], 'vibrant orange': ['mirrored black', 'mirrored olive'], 'mirrored indigo': ['vibrant coral', 'mirrored crimson', 'mirrored red'], 'plaid blue': ['wavy aqua', 'plaid fuchsia', 'wavy purple', 'dim lime'], 'dotted plum': ['striped chartreuse', 'dotted yellow', 'light yellow', 'striped red'], 'light violet': ['shiny chartreuse', 'wavy lime', 'vibrant beige'], 'dotted salmon': ['drab maroon', 'muted black', 'posh violet', 'dull lime'], 'vibrant gold': ['dull magenta', 'clear aqua', 'mirrored beige', 'pale cyan'], 'mirrored lavender': ['clear gold'], 'dotted gold': ['drab beige', 'mirrored crimson'], 'bright magenta': ['striped maroon', 'striped bronze', 'mirrored beige', 'dotted maroon'], 'clear black': ['faded chartreuse', 'light blue'], 'bright tomato': ['mirrored tan', 'mirrored olive', 'muted bronze', 'posh violet'], 'mirrored violet': ['striped chartreuse', 'dim lime', 'pale chartreuse', 'posh tan'], 'faded gray': ['light crimson', 'muted turquoise'], 'dark red': ['muted green', 'mirrored maroon'], 'clear crimson': ['muted olive', 'striped chartreuse'], 'vibrant lime': ['dim crimson', 'faded coral', 'light crimson'], 'vibrant bronze': ['no other'], 'dotted white': ['dim purple', 'mirrored chartreuse'], 'clear indigo': ['mirrored olive', 'posh brown'], 'pale lime': ['faded salmon', 'striped tan', 'light white', 'pale chartreuse'], 'vibrant coral': ['muted orange'], 'clear teal': ['posh plum'], 'wavy white': ['dim chartreuse', 'dull tomato', 'dull fuchsia', 'faded silver'], 'dull yellow': ['mirrored gray', 'shiny olive', 'clear beige', 'dim crimson'], 'posh fuchsia': ['dull teal'], 'dotted teal': ['dull white', 'pale gray'], 'vibrant tomato': ['dull green'], 'dull purple': ['shiny red', 'dim crimson', 'drab turquoise'], 'vibrant aqua': ['bright cyan'], 'clear plum': ['drab magenta', 'mirrored salmon'], 'dark tomato': ['dull beige', 'faded violet'], 'bright violet': ['dim lime', 'muted cyan', 'dull gold'], 'dim teal': ['mirrored orange'], 'dark magenta': ['light tan', 'bright violet', 'dim aqua', 'bright teal'], 'faded silver': ['dotted gold'], 'light lavender': ['mirrored chartreuse'], 'vibrant chartreuse': ['pale indigo', 'drab tan', 'striped bronze'], 'dotted blue': ['faded gray', 'muted coral', 'drab red'], 'drab lavender': ['dull bronze'], 'wavy green': ['vibrant brown'], 'bright gold': ['shiny blue'], 'dull lavender': ['vibrant beige', 'wavy purple'], 'shiny tomato': ['plaid olive'], 'faded aqua': ['mirrored olive'], 'clear beige': ['shiny fuchsia', 'wavy bronze'], 'pale black': ['shiny lavender', 'muted olive', 'striped gold'], 'faded beige': ['clear yellow', 'bright turquoise'], 'dull salmon': ['plaid tomato', 'dull coral', 'dotted coral'], 'drab aqua': ['muted olive'], 'plaid fuchsia': ['wavy lime', 'mirrored gray', 'clear crimson'], 'pale turquoise': ['bright cyan', 'posh blue', 'dark olive'], 'dotted red': ['pale black', 'light blue', 'clear gold', 'pale olive'], 'dark olive': ['shiny coral'], 'dull white': ['no other'], 'shiny silver': ['posh plum', 'posh brown', 'dull chartreuse', 'drab beige'], 'muted gray': ['posh coral'], 'light magenta': ['vibrant cyan', 'striped tan', 'dark maroon', 'wavy cyan'], 'dim brown': ['dull green', 'dull beige', 'wavy gold', 'wavy bronze'], 'vibrant brown': ['striped violet', 'dull beige'], 'pale chartreuse': ['shiny gold', 'dotted gold'], 'vibrant plum': ['mirrored gray', 'bright silver', 'bright cyan', 'dull gray'], 'muted bronze': ['mirrored beige'], 'plaid green': ['striped tan', 'drab maroon'], 'dark orange': ['drab beige', 'striped beige', 'dim indigo'], 'bright olive': ['bright turquoise'], 'drab indigo': ['striped tan', 'dotted gold', 'shiny crimson', 'dull chartreuse'], 'light teal': ['dotted orange', 'posh brown', 'shiny gold'], 'dotted crimson': ['posh turquoise', 'clear salmon', 'faded salmon'], 'shiny red': ['bright blue', 'posh lime', 'shiny plum'], 'dark brown': ['posh magenta'], 'drab violet': ['posh indigo', 'light chartreuse', 'vibrant crimson'], 'plaid beige': ['drab olive', 'dim fuchsia', 'wavy turquoise'], 'bright plum': ['mirrored salmon', 'faded tan'], 'plaid lavender': ['striped coral', 'light coral'], 'shiny brown': ['wavy tan', 'pale salmon', 'clear bronze'], 'clear turquoise': ['dotted beige'], 'wavy orange': ['shiny green', 'pale magenta', 'dark plum', 'mirrored olive'], 'vibrant turquoise': ['dotted black', 'wavy salmon'], 'posh olive': ['dull black'], 'pale red': ['plaid tomato'], 'dim gold': ['wavy violet'], 'dotted fuchsia': ['pale plum', 'dim salmon', 'clear salmon', 'vibrant blue'], 'wavy indigo': ['muted fuchsia', 'drab maroon'], 'clear chartreuse': ['mirrored olive', 'posh yellow', 'faded salmon', 'drab salmon'], 'drab red': ['faded lime', 'bright fuchsia', 'bright olive', 'striped maroon'], 'dotted turquoise': ['dull white', 'bright olive', 'clear crimson'], 'muted coral': ['posh green', 'dim violet', 'faded silver', 'dim plum'], 'plaid olive': ['striped cyan', 'drab red', 'clear beige', 'plaid coral'], 'vibrant indigo': ['vibrant maroon'], 'clear olive': ['vibrant purple', 'plaid green'], 'light blue': ['plaid lavender', 'mirrored violet', 'muted yellow'], 'muted turquoise': ['plaid brown', 'clear aqua', 'drab silver'], 'muted cyan': ['shiny fuchsia'], 'plaid aqua': ['posh green', 'dull crimson'], 'dull teal': ['drab red'], 'dim olive': ['dark plum'], 'bright black': ['shiny salmon', 'dull white', 'clear brown'], 'mirrored maroon': ['drab turquoise', 'plaid red', 'faded black'], 'pale plum': ['dark salmon'], 'posh magenta': ['bright tan'], 'faded tan': ['pale magenta', 'drab beige', 'dull beige', 'shiny silver'], 'dark coral': ['shiny orange', 'dull green', 'dim crimson'], 'plaid silver': ['dim black', 'mirrored tan', 'shiny plum', 'wavy teal'], 'dim gray': ['dull green', 'dull white', 'clear yellow'], 'clear magenta': ['pale chartreuse', 'light magenta', 'mirrored gray'], 'posh coral': ['muted plum', 'dim turquoise'], 'dim yellow': ['striped white'], 'mirrored tan': ['dim cyan', 'wavy purple'], 'vibrant olive': ['striped fuchsia', 'shiny silver'], 'pale cyan': ['vibrant bronze', 'clear crimson', 'dim violet'], 'vibrant teal': ['pale white', 'clear gold', 'striped white'], 'shiny gold': ['shiny coral', 'posh white', 'wavy cyan'], 'dim lime': ['bright turquoise'], 'posh salmon': ['dotted aqua', 'faded cyan'], 'vibrant yellow': ['dim violet', 'striped bronze', 'clear crimson'], 'dull magenta': ['clear green'], 'bright orange': ['bright indigo', 'clear tan', 'dark brown'], 'mirrored blue': ['dotted aqua', 'dotted magenta'], 'clear salmon': ['striped chartreuse', 'drab brown'], 'light tan': ['drab orange', 'posh purple', 'faded plum'], 'dark purple': ['dim plum', 'dark beige', 'dull tomato', 'dull gray'], 'shiny maroon': ['dotted aqua'], 'faded lime': ['light turquoise'], 'mirrored yellow': ['muted orange', 'shiny black', 'shiny green'], 'bright yellow': ['plaid bronze', 'shiny gold'], 'striped crimson': ['dotted black']}\n",
            "289\n"
          ]
        }
      ]
    },
    {
      "cell_type": "code",
      "source": [
        "#@title Day 7-2: Handy Haversacks\n",
        "import re\n",
        "\n",
        "from google.colab import files\n",
        "with open('2020-7-1.txt','r') as f:\n",
        "  lines = [[b for b in re.split(r' (?:(?:bags?)|\\s|(?:contains?)|,|\\.)+', line) if b]\n",
        "           for line in f.read().splitlines()]\n",
        "\n",
        "m = {l[0]: [(int(b[0]), b[2:]) for b in l[1:] if b[0].isdigit()] for l in lines}\n",
        "calc = lambda b: sum([n * (calc(bi) + 1) for n,bi in m[b]]) if b in m else 0\n",
        "\n",
        "print(calc('shiny gold'))"
      ],
      "metadata": {
        "id": "d-Jzh0xyNQiN",
        "outputId": "be09e524-bdbd-4241-946f-838f5f7871fe",
        "colab": {
          "base_uri": "https://localhost:8080/"
        }
      },
      "execution_count": 161,
      "outputs": [
        {
          "output_type": "stream",
          "name": "stdout",
          "text": [
            "30055\n"
          ]
        }
      ]
    }
  ]
}