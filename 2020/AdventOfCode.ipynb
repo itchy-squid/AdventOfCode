{
  "nbformat": 4,
  "nbformat_minor": 0,
  "metadata": {
    "colab": {
      "provenance": [],
      "authorship_tag": "ABX9TyN/o61HCsbTpIKFnnFJmqW4",
      "include_colab_link": true
    },
    "kernelspec": {
      "name": "python3",
      "display_name": "Python 3"
    },
    "language_info": {
      "name": "python"
    }
  },
  "cells": [
    {
      "cell_type": "markdown",
      "metadata": {
        "id": "view-in-github",
        "colab_type": "text"
      },
      "source": [
        "<a href=\"https://colab.research.google.com/github/itchy-squid/AdventOfCode/blob/main/2020/AdventOfCode.ipynb\" target=\"_parent\"><img src=\"https://colab.research.google.com/assets/colab-badge.svg\" alt=\"Open In Colab\"/></a>"
      ]
    },
    {
      "cell_type": "code",
      "execution_count": null,
      "metadata": {
        "id": "Q2DU2vaUJEey",
        "colab": {
          "base_uri": "https://localhost:8080/"
        },
        "outputId": "1e1b6080-f79b-4664-d8f7-259f2729acec",
        "cellView": "form"
      },
      "outputs": [
        {
          "output_type": "stream",
          "name": "stdout",
          "text": [
            "1052 * 968 = 1018336\n",
            "846 * 530 * 644 = 288756720\n"
          ]
        }
      ],
      "source": [
        "#@title Day 1: Report Repair\n",
        "from google.colab import files\n",
        "with open('2020-1-1.txt','r') as f:\n",
        "  ns = list(map(int, f.read().splitlines()))\n",
        "\n",
        "x, y = next((x, y) for i, x in enumerate(ns) for y in (ns+[])[i+1:] if x + y == 2020)\n",
        "print(x*y)\n",
        "\n",
        "x, y, z = next((x, y, z) for i, x in enumerate(ns) for j, y in enumerate((ns+[])[i+1:]) for z in (ns+[])[j+1:] if x + y + z == 2020)\n",
        "print(x*y*z)"
      ]
    },
    {
      "cell_type": "code",
      "source": [
        "#@title Day 2: Password Philosophy\n",
        "import re\n",
        "from google.colab import files\n",
        "with open('2020-2-1.txt','r') as f:\n",
        "  lines = [re.split(\"[- :]+\", line) for line in f.read().splitlines()]\n",
        "\n",
        "print(len([1 for i,j,c,s in lines if int(i) <= s.count(c) <= int(j)]))\n",
        "print(len([1 for i,j,c,s in lines if (s[int(i)-1] == c) ^ (s[int(j)-1] == c)]))"
      ],
      "metadata": {
        "colab": {
          "base_uri": "https://localhost:8080/"
        },
        "id": "9yEOw1tHPAv2",
        "outputId": "2d29c73d-f914-43ef-906c-3bdb1993eae5",
        "cellView": "form"
      },
      "execution_count": null,
      "outputs": [
        {
          "output_type": "stream",
          "name": "stdout",
          "text": [
            "622\n",
            "263\n"
          ]
        }
      ]
    },
    {
      "cell_type": "code",
      "source": [
        "#@title Day 3: Toboggan Trajectory\n",
        "from google.colab import files\n",
        "with open('2020-3-1.txt','r') as f:\n",
        "  m = f.read().splitlines()\n",
        "\n",
        "w, h = len(m[0]), len(m)\n",
        "ct = lambda dx, dy: sum([1 for i in range(1, h // dy + 1) if dy * i < h and m[dy * i][(dx * i) % w] == \"#\"])\n",
        "\n",
        "print(ct(3, 1))\n",
        "\n",
        "acc = 1\n",
        "[acc := acc * x for x in map(lambda t: ct(*t), [(1,1), (3,1), (5,1), (7,1), (1,2)])]\n",
        "print(acc)\n"
      ],
      "metadata": {
        "colab": {
          "base_uri": "https://localhost:8080/"
        },
        "id": "YHqwiyLpaOpx",
        "outputId": "bf83b6b4-fec8-429d-a57e-0b121969ec7c",
        "cellView": "form"
      },
      "execution_count": null,
      "outputs": [
        {
          "output_type": "stream",
          "name": "stdout",
          "text": [
            "164\n",
            "5007658656\n"
          ]
        }
      ]
    },
    {
      "cell_type": "code",
      "source": [
        "#@title Day 4: Passport Processing\n",
        "import re\n",
        "from google.colab import files\n",
        "with open('2020-4-1.txt','r') as f:\n",
        "  lines = [[(re.split(':',kv)) for kv in re.split('\\s+', l)] for l in re.split('\\n\\n+', f.read())]\n",
        "\n",
        "pps = [{k:v[0] for k,*v in b if len(v) > 0} for b in lines]\n",
        "easy = lambda p: all([k in p for k in ['byr','iyr','eyr','hgt','hcl','ecl','pid']])\n",
        "print(sum([easy(p) for p in pps]))\n",
        "\n",
        "def valid_height(hstr):\n",
        "  m = re.match('(?P<num>\\d+)((?P<in>in)|(?P<cm>cm))\\Z', hstr)\n",
        "  if m == None: return 0\n",
        "  n = int(m['num']);\n",
        "  return 150 <= n <= 193 if m['cm'] else 59 <= n <= 76\n",
        "\n",
        "def strict(p):\n",
        "  return (easy(p)\n",
        "          and 1920 <= int(p['byr']) <= 2002\n",
        "          and 2010 <= int(p['iyr']) <= 2020\n",
        "          and 2020 <= int(p['eyr']) <= 2030\n",
        "          and valid_height(p['hgt'])\n",
        "          and re.match('#\\w{6}\\Z', p['hcl'])\n",
        "          and p['ecl'] in {'amb','blu','brn','gry','grn','hzl','oth'}\n",
        "          and re.match('\\d{9}\\Z', p['pid']))\n",
        "\n",
        "print(sum([1 for p in pps if strict(p)]))"
      ],
      "metadata": {
        "colab": {
          "base_uri": "https://localhost:8080/"
        },
        "id": "QTzlb7vmj9B8",
        "outputId": "e5e57eba-eb0f-4fcf-c58e-8e40b5d7a219",
        "cellView": "form"
      },
      "execution_count": null,
      "outputs": [
        {
          "output_type": "stream",
          "name": "stdout",
          "text": [
            "204\n",
            "179\n"
          ]
        }
      ]
    },
    {
      "cell_type": "code",
      "source": [
        "#@title Day 5: Binary Boarding\n",
        "from google.colab import files\n",
        "with open('2020-5-1.txt','r') as f:\n",
        "  ids = {sum(int(c in {'B','R'}) << i for i, c in enumerate(reversed(l))) for l in f.read().splitlines()}\n",
        "\n",
        "print(max(ids))\n",
        "print(next(id+1 for id in ids if (id+1) not in ids and (id+2) in ids))"
      ],
      "metadata": {
        "colab": {
          "base_uri": "https://localhost:8080/"
        },
        "id": "uJViMPoX2Zq2",
        "outputId": "ef9edae4-ddbe-481e-b58c-d6fcf0cb00c5",
        "cellView": "form"
      },
      "execution_count": null,
      "outputs": [
        {
          "output_type": "stream",
          "name": "stdout",
          "text": [
            "828\n",
            "565\n"
          ]
        }
      ]
    },
    {
      "cell_type": "code",
      "source": [
        "#@title Day 6: Custom Customs\n",
        "from google.colab import files\n",
        "with open('2020-6-1.txt','r') as f:\n",
        "  gps = [gp.strip().split('\\n') for gp in f.read().split('\\n\\n')]\n",
        "\n",
        "anys = [{c for i in gp for c in i} for gp in gps]\n",
        "alls = [{c for c in s if all([c in p for p in gps[i]])} for i, s in enumerate(anys)]\n",
        "print(sum(len(a) for a in anys))\n",
        "print(sum(len(a) for a in alls))\n"
      ],
      "metadata": {
        "colab": {
          "base_uri": "https://localhost:8080/"
        },
        "cellView": "form",
        "id": "yT9pHOmxaK5f",
        "outputId": "a2efedbe-3dee-496e-ca0f-6d983109cefb"
      },
      "execution_count": null,
      "outputs": [
        {
          "output_type": "stream",
          "name": "stdout",
          "text": [
            "6799\n",
            "3354\n"
          ]
        }
      ]
    },
    {
      "cell_type": "code",
      "source": [
        "#@title Day 7-1: Handy Haversacks\n",
        "import re\n",
        "\n",
        "from google.colab import files\n",
        "with open('2020-7-1.txt','r') as f:\n",
        "  lines = [[b for b in re.split(r' (?:(?:bags?)|\\s|(?:contains?)|\\d|,|\\.)+', line) if b]\n",
        "           for line in f.read().splitlines()]\n",
        "\n",
        "m = {l[0]: l[1:] for l in lines}\n",
        "\n",
        "seen = set()\n",
        "next = ['shiny gold']\n",
        "while next:\n",
        "  now = next.pop()\n",
        "  new = {k for k,s in m.items() if now in s}\n",
        "  next += [i for i in (new - seen)]\n",
        "  seen |= new\n",
        "\n",
        "print(len(seen))"
      ],
      "metadata": {
        "colab": {
          "base_uri": "https://localhost:8080/"
        },
        "cellView": "form",
        "id": "ZNxOkjiU_dyG",
        "outputId": "d9f33d5d-770a-4513-d8b5-1e958d2f7dfa"
      },
      "execution_count": null,
      "outputs": [
        {
          "output_type": "stream",
          "name": "stdout",
          "text": [
            "289\n"
          ]
        }
      ]
    },
    {
      "cell_type": "code",
      "source": [
        "#@title Day 7-2: Handy Haversacks\n",
        "import re\n",
        "\n",
        "from google.colab import files\n",
        "with open('2020-7-1.txt','r') as f:\n",
        "  lines = [[b for b in re.split(r' (?:(?:bags?)|\\s|(?:contains?)|,|\\.)+', line) if b]\n",
        "           for line in f.read().splitlines()]\n",
        "\n",
        "m = {l[0]: [(int(b[0]), b[2:]) for b in l[1:] if b[0].isdigit()] for l in lines}\n",
        "calc = lambda b: sum([n * (calc(bi) + 1) for n,bi in m[b]]) if b in m else 0\n",
        "\n",
        "print(calc('shiny gold'))"
      ],
      "metadata": {
        "colab": {
          "base_uri": "https://localhost:8080/"
        },
        "cellView": "form",
        "id": "d-Jzh0xyNQiN",
        "outputId": "be09e524-bdbd-4241-946f-838f5f7871fe"
      },
      "execution_count": null,
      "outputs": [
        {
          "output_type": "stream",
          "name": "stdout",
          "text": [
            "30055\n"
          ]
        }
      ]
    },
    {
      "cell_type": "code",
      "source": [
        "#@title Day 8: Handheld Halting\n",
        "import re\n",
        "\n",
        "from google.colab import files\n",
        "with open('2020-8-1.txt','r') as f:\n",
        "  lines = [[t for t in l.split()] for l in f.read().splitlines()]\n",
        "\n",
        "insts = [(i, int(n)) for i,n in lines]\n",
        "\n",
        "def run():\n",
        "  visited = set()\n",
        "  i = 0\n",
        "  a = 0\n",
        "\n",
        "  while i not in visited and i < len(insts):\n",
        "    visited.add(i)\n",
        "    a += insts[i][1] if insts[i][0] == 'acc' else 0\n",
        "    i += insts[i][1] if insts[i][0] == 'jmp' else 1\n",
        "\n",
        "  return (i, a)\n",
        "\n",
        "i, acc = run()\n",
        "print(acc)\n",
        "\n",
        "for i, t in enumerate(insts):\n",
        "  if t[0] != 'jmp': continue\n",
        "  insts[i] = ('nop',0)\n",
        "  j, acc = run()\n",
        "  if j >= len(insts): break\n",
        "  insts[i] = t\n",
        "\n",
        "print(acc)"
      ],
      "metadata": {
        "colab": {
          "base_uri": "https://localhost:8080/"
        },
        "cellView": "form",
        "id": "LMF3_muNoGuA",
        "outputId": "550c8f8c-e751-4a1a-8e4d-0e32427d404e"
      },
      "execution_count": null,
      "outputs": [
        {
          "output_type": "stream",
          "name": "stdout",
          "text": [
            "1675\n",
            "1532\n"
          ]
        }
      ]
    },
    {
      "cell_type": "code",
      "source": [
        "#@title Day 9: Encoding Error\n",
        "files = [('2020-9-0.txt',5),('2020-9-1.txt',25)]\n",
        "fname, pre = files[1]\n",
        "\n",
        "from google.colab import files\n",
        "with open(fname,'r') as f:\n",
        "  ns = [int(l) for l in f.read().splitlines()]\n",
        "\n",
        "vs = [(n, ns[i:pre+i]) for i, n in enumerate(ns[pre:])]\n",
        "oks = [(n, any([(x+y)==n for i, x in enumerate(l[:-1]) for y in l[i+1:]])) for n,l in vs]\n",
        "target = next(n for n,ok in oks if not ok)\n",
        "print(target)\n",
        "\n",
        "def find(i):\n",
        "  for j in range(i+1,len(ns)):\n",
        "    tot = sum(ns[i:j])\n",
        "    if tot>target: break\n",
        "    if tot==target: return [i,j]\n",
        "  return None\n",
        "\n",
        "ixs = next(t for t in map(find,range(len(ns)-1)) if t)\n",
        "ms = [ns[i] for i in range(*ixs)]\n",
        "print(min(ms)+max(ms))"
      ],
      "metadata": {
        "colab": {
          "base_uri": "https://localhost:8080/"
        },
        "id": "RAJhtMSj5vBj",
        "outputId": "38c5b7e1-cce4-4a1e-f44a-4153004adf3e",
        "cellView": "form"
      },
      "execution_count": null,
      "outputs": [
        {
          "output_type": "stream",
          "name": "stdout",
          "text": [
            "167829540\n",
            "28045630\n"
          ]
        }
      ]
    },
    {
      "cell_type": "code",
      "source": [
        "#@title 10: Adapter Array\n",
        "from google.colab import files\n",
        "with open('2020-10-1.txt','r') as f:\n",
        "  js = sorted([int(j) for i,j in enumerate(f.read().splitlines())])\n",
        "\n",
        "js = [0] + js + [js[-1]+3]\n",
        "ds = [js[i+1]-n for i, n in enumerate(js[:-1])]\n",
        "print(ds.count(1)*ds.count(3))\n",
        "\n",
        "def visit(i, cache):\n",
        "  if i in cache: return cache[i]\n",
        "  nexts = [i+j for j,v in enumerate(js[i:]) if j > 0 and v <= js[i]+3]\n",
        "  cache[i] = sum([visit(j, cache) for j in nexts]) if len(nexts) > 0 else 1\n",
        "  return cache[i]\n",
        "\n",
        "print(visit(0,{}))"
      ],
      "metadata": {
        "colab": {
          "base_uri": "https://localhost:8080/"
        },
        "id": "kGdKkIGAX7kn",
        "outputId": "7563766c-0804-41e3-bf22-61d9787ac22a"
      },
      "execution_count": 113,
      "outputs": [
        {
          "output_type": "stream",
          "name": "stdout",
          "text": [
            "2277\n",
            "37024595836928\n"
          ]
        }
      ]
    },
    {
      "cell_type": "code",
      "source": [
        "#@title Day 12-1: Rain Risk\n",
        "from numpy import multiply, add\n",
        "from google.colab import files\n",
        "with open('2020-12-0.txt','r') as f:\n",
        "  ls = f.read().splitlines()\n",
        "\n",
        "ins = [(l[0],int(l[1:])) for l in ls]\n",
        "dirs = [(1,0),(0,-1),(-1,0),(0,1)]\n",
        "\n",
        "def step(di, c, i, n):\n",
        "  if i in 'ESWN':\n",
        "    return (di, add(c,multiply(n, dirs['ESWN'.index(i)])))\n",
        "\n",
        "  if i in 'LR':\n",
        "    [di := (di + 'LFR'.index(i) - 1)%len(dirs) for deg in range(0,n,90)]\n",
        "    return (di, c)\n",
        "\n",
        "  return (di, add(c, multiply(n, dirs[di])))\n",
        "\n",
        "p = (0, (0,0))\n",
        "[p := step(*p, i, n) for i,n in ins]\n",
        "print(abs(p[1][0])+abs(p[1][1]))"
      ],
      "metadata": {
        "colab": {
          "base_uri": "https://localhost:8080/"
        },
        "id": "F-HN3rMtJf1j",
        "outputId": "f66e981d-b4b7-4701-9a2c-24088c28d569"
      },
      "execution_count": 17,
      "outputs": [
        {
          "output_type": "stream",
          "name": "stdout",
          "text": [
            "25\n"
          ]
        }
      ]
    }
  ]
}