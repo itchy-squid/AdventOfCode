{
  "cells": [
    {
      "cell_type": "code",
      "execution_count": null,
      "metadata": {
        "id": "SZmO-IfpAVBb"
      },
      "outputs": [],
      "source": [
        "#@title Day 1-1: Trebuchet?!\n",
        "from google.colab import files\n",
        "with open('2023-1-1.txt','r') as f:\n",
        "  print(sum(map(lambda d: int(d[0]+d[-1]),\n",
        "   [[c for c in l if '/' < c < ':'] for l in f.read().splitlines()])))"
      ]
    },
    {
      "cell_type": "code",
      "execution_count": null,
      "metadata": {
        "colab": {
          "base_uri": "https://localhost:8080/"
        },
        "id": "bpD2g7GnW7Xr",
        "outputId": "ec3e2b00-ace6-48f5-a0a8-62ac50760ae2"
      },
      "outputs": [
        {
          "name": "stdout",
          "output_type": "stream",
          "text": [
            "54591\n"
          ]
        }
      ],
      "source": [
        "#@title Day 1-2: Trebuchet?!\n",
        "import re\n",
        "\n",
        "numbers = dict(\n",
        "    {n: i for (i,n) in enumerate('zero,one,two,three,four,five,six,seven,eight,nine'.split(','))},\n",
        "    **{str(i): i for i in range(10)})\n",
        "\n",
        "with open('inputs/23-1-1.txt','r') as f:\n",
        "  ls = f.read().splitlines()\n",
        "\n",
        "num = lambda l, fn: numbers[fn(re.search('|'.join(['('+fn(n)+')' for n in dict.keys(numbers)]), fn(l)).group())]\n",
        "ns = [10*num(l, lambda x: x)+num(l, lambda x: x[::-1]) for l in ls]\n",
        "print(sum(ns))"
      ]
    },
    {
      "cell_type": "code",
      "source": [
        "#@title Day 2: Cube Conundrum\n",
        "import re\n",
        "\n",
        "tok = lambda s: [t for t in s.split(' ') if t]\n",
        "#12 red cubes, 13 green cubes, and 14 blue cubes\n",
        "maxes = {'red': 12, 'green': 13, 'blue': 14}\n",
        "\n",
        "from google.colab import files\n",
        "with open('23-2.txt','r') as f:\n",
        "  gs = [[{tok(p)[1]: int(tok(p)[0]) for p in r.split(',')}\n",
        "         for r in l.split(':')[1].split(';')]\n",
        "         for l in f.read().splitlines()]\n",
        "\n",
        "valid = [i+1 for (i,g) in enumerate(gs)\n",
        "  if all([all([maxes[k]>=r[k] for k in r]) for r in g])]\n",
        "\n",
        "print(sum(valid))\n",
        "\n",
        "#powers = [sum([max() for k in maxes]) for g in gs]"
      ],
      "metadata": {
        "colab": {
          "base_uri": "https://localhost:8080/"
        },
        "id": "RdwKBEmjCOqa",
        "outputId": "b75bea72-f92e-4e51-93d0-e2fa2cea7f70"
      },
      "execution_count": 28,
      "outputs": [
        {
          "output_type": "stream",
          "name": "stdout",
          "text": [
            "2727\n"
          ]
        }
      ]
    }
  ],
  "metadata": {
    "colab": {
      "provenance": []
    },
    "kernelspec": {
      "display_name": "Python 3",
      "name": "python3"
    },
    "language_info": {
      "codemirror_mode": {
        "name": "ipython",
        "version": 3
      },
      "file_extension": ".py",
      "mimetype": "text/x-python",
      "name": "python",
      "nbconvert_exporter": "python",
      "pygments_lexer": "ipython3",
      "version": "3.12.0b4"
    }
  },
  "nbformat": 4,
  "nbformat_minor": 0
}