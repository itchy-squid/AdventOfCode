{
  "cells": [
    {
      "cell_type": "markdown",
      "metadata": {
        "id": "trU2xDTodM-g"
      },
      "source": [
        "# Environment\n",
        "\n",
        "Run the appropriate \"environment\" code before running any solutions"
      ]
    },
    {
      "cell_type": "code",
      "execution_count": 2,
      "metadata": {
        "id": "RILFU5xEdM-h"
      },
      "outputs": [],
      "source": [
        "#@title environment: google.colab\n",
        "from google.colab import files\n",
        "fread = lambda path: open(path,'r').read()"
      ]
    },
    {
      "cell_type": "code",
      "execution_count": null,
      "metadata": {
        "cellView": "form",
        "id": "WIzXDPl4dM-i"
      },
      "outputs": [],
      "source": [
        "#@title environment: vscode\n",
        "fread = lambda path: open('inputs/'+path, 'r').read()"
      ]
    },
    {
      "cell_type": "markdown",
      "metadata": {
        "id": "uh0QyEOvdM-i"
      },
      "source": [
        "# Imports\n",
        "\n",
        "Import libraries before running any solutions"
      ]
    },
    {
      "cell_type": "code",
      "execution_count": 3,
      "metadata": {
        "id": "s8y-hhccdM-i"
      },
      "outputs": [],
      "source": [
        "import re, math\n",
        "from operator import add\n",
        "\n",
        "class formats:\n",
        "    PURPLE = '\\033[95m'\n",
        "    BLUE = '\\033[94m'\n",
        "    CYAN = '\\033[96m'\n",
        "    GREEN = '\\033[92m'\n",
        "    ORANGE = '\\033[93m'\n",
        "    RED = '\\033[91m'\n",
        "    WHITE = '\\033[0m'\n",
        "    BOLD = '\\033[1m'"
      ]
    },
    {
      "cell_type": "code",
      "execution_count": null,
      "metadata": {
        "colab": {
          "base_uri": "https://localhost:8080/"
        },
        "id": "SZmO-IfpAVBb",
        "outputId": "080d7ba6-79f3-4c3f-ccb7-6e9bad01c80a",
        "cellView": "form"
      },
      "outputs": [
        {
          "name": "stdout",
          "output_type": "stream",
          "text": [
            "54573\n",
            "54591\n"
          ]
        }
      ],
      "source": [
        "#@title Day 1: Trebuchet?!\n",
        "ls = fread('23-1.txt').splitlines()\n",
        "\n",
        "print(sum(map(lambda d: int(d[0]+d[-1]),[[c for c in l if '/' < c < ':'] for l in ls])))\n",
        "\n",
        "ns = {n: n[0]+str(i)+n[-1] for (i,n) in enumerate('zero,one,two,three,four,five,six,seven,eight,nine'.split(','))}\n",
        "[ls:= [l.replace(k,ns[k]) for l in ls] for k in ns]\n",
        "print(sum([int(re.search('\\\\d',l).group()+re.search('\\\\d',l[::-1]).group()) for l in ls]))\n"
      ]
    },
    {
      "cell_type": "code",
      "execution_count": null,
      "metadata": {
        "colab": {
          "base_uri": "https://localhost:8080/"
        },
        "id": "RdwKBEmjCOqa",
        "outputId": "df4f6f62-8f37-4332-b1b6-f56a4d356996",
        "cellView": "form"
      },
      "outputs": [
        {
          "name": "stdout",
          "output_type": "stream",
          "text": [
            "2727\n",
            "56580\n"
          ]
        }
      ],
      "source": [
        "#@title Day 2: Cube Conundrum\n",
        "maxes = {'red': 12, 'green': 13, 'blue': 14}\n",
        "\n",
        "ls = fread('23-2.txt').splitlines()\n",
        "gs = [[{p.strip().split(' ')[1]: int(p.strip().split(' ')[0])\n",
        "        for p in r.split(',')}\n",
        "        for r in l.split(':')[1].split(';')]\n",
        "        for l in ls]\n",
        "\n",
        "valid = [i+1 for (i,g) in enumerate(gs)\n",
        "             if all([all([maxes[k]>=r[k] for k in r]) for r in g])]\n",
        "print(sum(valid))\n",
        "\n",
        "powers = [math.prod([max([r.get(k,0) for r in g]) for k in maxes]) for g in gs]\n",
        "print(sum(powers))"
      ]
    },
    {
      "cell_type": "code",
      "execution_count": null,
      "metadata": {
        "cellView": "form",
        "id": "B0sfLsIJdM-k",
        "outputId": "6f5043d1-e871-45a5-c943-09a803bc766e"
      },
      "outputs": [
        {
          "name": "stdout",
          "output_type": "stream",
          "text": [
            "529618\n",
            "77509019\n"
          ]
        }
      ],
      "source": [
        "#@title Day 3: Gear Ratios\n",
        "f = fread('23-3.txt').splitlines()\n",
        "\n",
        "special = lambda x,y,n: [re.search('[^\\\\d.]',f[min(max(yi,0),len(f)-1)][max(x-1,0):min(x+n+1,len(f[0])-1)]) != None for yi in range(y-1,y+2)]\n",
        "ps = {(m.start(),y): m.group() for (y,l) in enumerate(f) for m in re.finditer('\\\\d+',l)}\n",
        "ns = [int(ps[(x,y)]) for (x,y) in ps if any(special(x,y,len(ps[(x,y)])))]\n",
        "print(sum(ns))\n",
        "\n",
        "stars = lambda x,y,n: [\n",
        "  (m.start(),yi)\n",
        "  for yi in range(max(0,y-1),min(y+2,len(f)))\n",
        "  for m in re.finditer('\\\\*', f[yi]) if (x-2)<m.start()<(x+n+1)\n",
        "]\n",
        "\n",
        "ss = [(s, int(ps[(x,y)])) for (x,y) in ps for s in stars(x,y,len(ps[(x,y)]))]\n",
        "pgs = [[n for t,n in ss if t==u] for u in set([s for s,n in ss])]\n",
        "gs = [pg for pg in pgs if len(pg)==2]\n",
        "print(sum([math.prod(g) for g in gs]))\n"
      ]
    },
    {
      "cell_type": "code",
      "execution_count": null,
      "metadata": {
        "cellView": "form",
        "id": "OV7OdeB6dM-k",
        "outputId": "24e057cc-f669-497d-ce31-82391413f2a0"
      },
      "outputs": [
        {
          "name": "stdout",
          "output_type": "stream",
          "text": [
            "18619\n",
            "8063216\n"
          ]
        }
      ],
      "source": [
        "#@title Day 4-1: Scratchcards\n",
        "f = fread('23-4.txt').splitlines()\n",
        "\n",
        "cs = [[set([int(n) for n in m.group().split(' ') if n != ''])\n",
        "  for m in re.finditer('[\\\\d ]+', l.split(':')[1])]\n",
        "  for l in f]\n",
        "\n",
        "wins = [sum([1 for n in c[1] if n in c[0]]) for c in cs]\n",
        "score = sum([1<<(w-1) for w in wins if w > 0])\n",
        "print(score)\n",
        "\n",
        "cards = [1]*len(wins)\n",
        "[cards:= [sum(n) for n in zip(cards,\n",
        "  ([0]*(i+1))+([cards[i]]*w)+([0]*(len(wins)-w-i-1)))]\n",
        "  for i,w in enumerate(wins)]\n",
        "print(sum(cards))"
      ]
    },
    {
      "cell_type": "code",
      "execution_count": null,
      "metadata": {
        "id": "dzu_LwTsdM-l",
        "outputId": "eb3ed4b7-ebc3-408d-cea9-a8ed165fe2b3"
      },
      "outputs": [
        {
          "name": "stdout",
          "output_type": "stream",
          "text": [
            "836040384\n"
          ]
        }
      ],
      "source": [
        "#@title Day 5-1: If You Give A Seed A Fertilizer\n",
        "f = [s.splitlines() for s in fread('23-5.txt').split('\\n\\n')]\n",
        "\n",
        "fn = lambda q,p,r: lambda n: (n-p)+q if p <= n < p + r else None\n",
        "seeds = list(map(int, f[0][0].split(' ')[1:]))\n",
        "maps = [[fn(*map(int, l.split(' ')))\n",
        "  for l in s[1:]]+[lambda n: n]\n",
        "  for s in f[1:]]\n",
        "\n",
        "applyone = lambda n, fns: next(g(n) for g in fns if g(n) != None)\n",
        "\n",
        "def apply(n):\n",
        "  result = n\n",
        "  [result := applyone(result, m) for m in maps]\n",
        "  return result\n",
        "\n",
        "print(min(apply(n) for n in seeds))\n",
        "\n",
        "# print(min(apply(n)\n",
        "#   for i in range(0,len(seeds),2)\n",
        "#   for n in range(seeds[i],seeds[i]+seeds[i+1])))"
      ]
    },
    {
      "cell_type": "code",
      "source": [
        "#@title Day 5-2: If You Give A Seed A Fertilizer\n",
        "f = [s.splitlines() for s in fread('23-5-0.txt').split('\\n\\n')]\n",
        "\n",
        "class AlmanacRange:\n",
        "  def __init__(self, dest, source, length):\n",
        "    self.source = source\n",
        "    self.dest = dest\n",
        "    self.length = length\n",
        "\n",
        "  def parse(line):\n",
        "    return AlmanacRange(*map(int, line.split(' ')))\n",
        "\n",
        "  def __str__(self):\n",
        "    return f'[{self.source}, {self.source + self.length}) -> [{self.dest}, {self.dest + self.length})'\n",
        "\n",
        "class AlmanacMap:\n",
        "  def __init__(self, name, ranges):\n",
        "    self.name = name\n",
        "    self.ranges = ranges\n",
        "\n",
        "  def parse(arr):\n",
        "    ranges = [AlmanacRange.parse(l) for l in arr[1:]]\n",
        "    return AlmanacMap(arr[0], arr[1:])\n",
        "\n",
        "  def __str__(self):\n",
        "    return '\\n'.join([str(r) for r in self.ranges])\n",
        "\n",
        "seeds = list(map(int, f[0][0].split(' ')[1:]))\n",
        "maps = [AlmanacMap.parse(s) for s in f[1:]]\n",
        "print(seeds)\n",
        "print(maps[0])\n"
      ],
      "metadata": {
        "id": "FG-2nx_Udbtk",
        "outputId": "b7e7a2d7-e86e-4ad9-9b7a-3109fac5f3f8",
        "colab": {
          "base_uri": "https://localhost:8080/"
        }
      },
      "execution_count": 17,
      "outputs": [
        {
          "output_type": "stream",
          "name": "stdout",
          "text": [
            "[79, 14, 55, 13]\n",
            "50 98 2\n",
            "52 50 48\n"
          ]
        }
      ]
    }
  ],
  "metadata": {
    "colab": {
      "provenance": []
    },
    "kernelspec": {
      "display_name": "Python 3",
      "name": "python3"
    },
    "language_info": {
      "codemirror_mode": {
        "name": "ipython",
        "version": 3
      },
      "file_extension": ".py",
      "mimetype": "text/x-python",
      "name": "python",
      "nbconvert_exporter": "python",
      "pygments_lexer": "ipython3",
      "version": "3.12.0b4"
    }
  },
  "nbformat": 4,
  "nbformat_minor": 0
}