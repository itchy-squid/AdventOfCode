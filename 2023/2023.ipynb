{
  "cells": [
    {
      "cell_type": "markdown",
      "metadata": {
        "id": "trU2xDTodM-g"
      },
      "source": [
        "## Environment\n",
        "\n",
        "Run the appropriate \"environment\" code before running any solutions."
      ]
    },
    {
      "cell_type": "code",
      "execution_count": 2,
      "metadata": {
        "cellView": "form",
        "id": "RILFU5xEdM-h"
      },
      "outputs": [],
      "source": [
        "#@title environment: google.colab\n",
        "from google.colab import files\n",
        "fread = lambda path: open(path,'r').read()"
      ]
    },
    {
      "cell_type": "code",
      "execution_count": null,
      "metadata": {
        "cellView": "form",
        "id": "WIzXDPl4dM-i"
      },
      "outputs": [],
      "source": [
        "#@title environment: vscode\n",
        "fread = lambda path: open('inputs/'+path, 'r').read()"
      ]
    },
    {
      "cell_type": "markdown",
      "metadata": {
        "id": "uh0QyEOvdM-i"
      },
      "source": [
        "## Imports\n",
        "\n",
        "Import general-purpose libraries before running any solutions"
      ]
    },
    {
      "cell_type": "code",
      "execution_count": 3,
      "metadata": {
        "id": "s8y-hhccdM-i"
      },
      "outputs": [],
      "source": [
        "import re, math\n",
        "from operator import add\n",
        "\n",
        "class formats:\n",
        "    PURPLE = '\\033[95m'\n",
        "    BLUE = '\\033[94m'\n",
        "    CYAN = '\\033[96m'\n",
        "    GREEN = '\\033[92m'\n",
        "    ORANGE = '\\033[93m'\n",
        "    RED = '\\033[91m'\n",
        "    WHITE = '\\033[0m'\n",
        "    BOLD = '\\033[1m'"
      ]
    },
    {
      "cell_type": "markdown",
      "source": [
        "# Solutions\n",
        "\n",
        "Solution inputs should be uploaded with the form `23-{dayNumber}.txt` (e.g., the input for Day 5 would be uploaded as `23-5.txt`). Each solution has the input file name hard-coded into the script, so if you want to run the script against a test file you will need to edit the file name."
      ],
      "metadata": {
        "id": "YKVqYVU4-Gc4"
      }
    },
    {
      "cell_type": "markdown",
      "source": [
        "## Week 1"
      ],
      "metadata": {
        "id": "dU8Yimzg-Z2y"
      }
    },
    {
      "cell_type": "code",
      "execution_count": null,
      "metadata": {
        "colab": {
          "base_uri": "https://localhost:8080/"
        },
        "id": "SZmO-IfpAVBb",
        "outputId": "080d7ba6-79f3-4c3f-ccb7-6e9bad01c80a",
        "cellView": "form"
      },
      "outputs": [
        {
          "name": "stdout",
          "output_type": "stream",
          "text": [
            "54573\n",
            "54591\n"
          ]
        }
      ],
      "source": [
        "#@title Day 1: Trebuchet?!\n",
        "ls = fread('23-1.txt').splitlines()\n",
        "\n",
        "print(sum(map(lambda d: int(d[0]+d[-1]),[[c for c in l if '/' < c < ':'] for l in ls])))\n",
        "\n",
        "ns = {n: n[0]+str(i)+n[-1] for (i,n) in enumerate('zero,one,two,three,four,five,six,seven,eight,nine'.split(','))}\n",
        "[ls:= [l.replace(k,ns[k]) for l in ls] for k in ns]\n",
        "print(sum([int(re.search('\\\\d',l).group()+re.search('\\\\d',l[::-1]).group()) for l in ls]))\n"
      ]
    },
    {
      "cell_type": "code",
      "execution_count": null,
      "metadata": {
        "colab": {
          "base_uri": "https://localhost:8080/"
        },
        "id": "RdwKBEmjCOqa",
        "outputId": "df4f6f62-8f37-4332-b1b6-f56a4d356996",
        "cellView": "form"
      },
      "outputs": [
        {
          "name": "stdout",
          "output_type": "stream",
          "text": [
            "2727\n",
            "56580\n"
          ]
        }
      ],
      "source": [
        "#@title Day 2: Cube Conundrum\n",
        "maxes = {'red': 12, 'green': 13, 'blue': 14}\n",
        "\n",
        "ls = fread('23-2.txt').splitlines()\n",
        "gs = [[{p.strip().split(' ')[1]: int(p.strip().split(' ')[0])\n",
        "        for p in r.split(',')}\n",
        "        for r in l.split(':')[1].split(';')]\n",
        "        for l in ls]\n",
        "\n",
        "valid = [i+1 for (i,g) in enumerate(gs)\n",
        "             if all([all([maxes[k]>=r[k] for k in r]) for r in g])]\n",
        "print(sum(valid))\n",
        "\n",
        "powers = [math.prod([max([r.get(k,0) for r in g]) for k in maxes]) for g in gs]\n",
        "print(sum(powers))"
      ]
    },
    {
      "cell_type": "code",
      "execution_count": null,
      "metadata": {
        "cellView": "form",
        "id": "B0sfLsIJdM-k",
        "outputId": "6f5043d1-e871-45a5-c943-09a803bc766e"
      },
      "outputs": [
        {
          "name": "stdout",
          "output_type": "stream",
          "text": [
            "529618\n",
            "77509019\n"
          ]
        }
      ],
      "source": [
        "#@title Day 3: Gear Ratios\n",
        "f = fread('23-3.txt').splitlines()\n",
        "\n",
        "special = lambda x,y,n: [re.search('[^\\\\d.]',f[min(max(yi,0),len(f)-1)][max(x-1,0):min(x+n+1,len(f[0])-1)]) != None for yi in range(y-1,y+2)]\n",
        "ps = {(m.start(),y): m.group() for (y,l) in enumerate(f) for m in re.finditer('\\\\d+',l)}\n",
        "ns = [int(ps[(x,y)]) for (x,y) in ps if any(special(x,y,len(ps[(x,y)])))]\n",
        "print(sum(ns))\n",
        "\n",
        "stars = lambda x,y,n: [\n",
        "  (m.start(),yi)\n",
        "  for yi in range(max(0,y-1),min(y+2,len(f)))\n",
        "  for m in re.finditer('\\\\*', f[yi]) if (x-2)<m.start()<(x+n+1)\n",
        "]\n",
        "\n",
        "ss = [(s, int(ps[(x,y)])) for (x,y) in ps for s in stars(x,y,len(ps[(x,y)]))]\n",
        "pgs = [[n for t,n in ss if t==u] for u in set([s for s,n in ss])]\n",
        "gs = [pg for pg in pgs if len(pg)==2]\n",
        "print(sum([math.prod(g) for g in gs]))\n"
      ]
    },
    {
      "cell_type": "code",
      "execution_count": null,
      "metadata": {
        "cellView": "form",
        "id": "OV7OdeB6dM-k",
        "outputId": "24e057cc-f669-497d-ce31-82391413f2a0"
      },
      "outputs": [
        {
          "name": "stdout",
          "output_type": "stream",
          "text": [
            "18619\n",
            "8063216\n"
          ]
        }
      ],
      "source": [
        "#@title Day 4-1: Scratchcards\n",
        "f = fread('23-4.txt').splitlines()\n",
        "\n",
        "cs = [[set([int(n) for n in m.group().split(' ') if n != ''])\n",
        "  for m in re.finditer('[\\\\d ]+', l.split(':')[1])]\n",
        "  for l in f]\n",
        "\n",
        "wins = [sum([1 for n in c[1] if n in c[0]]) for c in cs]\n",
        "score = sum([1<<(w-1) for w in wins if w > 0])\n",
        "print(score)\n",
        "\n",
        "cards = [1]*len(wins)\n",
        "[cards:= [sum(n) for n in zip(cards,\n",
        "  ([0]*(i+1))+([cards[i]]*w)+([0]*(len(wins)-w-i-1)))]\n",
        "  for i,w in enumerate(wins)]\n",
        "print(sum(cards))"
      ]
    },
    {
      "cell_type": "code",
      "execution_count": null,
      "metadata": {
        "cellView": "form",
        "id": "dzu_LwTsdM-l",
        "outputId": "eb3ed4b7-ebc3-408d-cea9-a8ed165fe2b3"
      },
      "outputs": [
        {
          "name": "stdout",
          "output_type": "stream",
          "text": [
            "836040384\n"
          ]
        }
      ],
      "source": [
        "#@title Day 5-1: If You Give A Seed A Fertilizer\n",
        "f = [s.splitlines() for s in fread('23-5.txt').split('\\n\\n')]\n",
        "\n",
        "fn = lambda q,p,r: lambda n: (n-p)+q if p <= n < p + r else None\n",
        "seeds = list(map(int, f[0][0].split(' ')[1:]))\n",
        "maps = [[fn(*map(int, l.split(' ')))\n",
        "  for l in s[1:]]+[lambda n: n]\n",
        "  for s in f[1:]]\n",
        "\n",
        "applyone = lambda n, fns: next(g(n) for g in fns if g(n) != None)\n",
        "\n",
        "def apply(n):\n",
        "  result = n\n",
        "  [result := applyone(result, m) for m in maps]\n",
        "  return result\n",
        "\n",
        "print(min(apply(n) for n in seeds))"
      ]
    },
    {
      "cell_type": "code",
      "source": [
        "#@title Day 6: Wait For It\n",
        "from functools import reduce\n",
        "from math import prod\n",
        "\n",
        "f = fread('23-6.txt').splitlines()\n",
        "\n",
        "solve = lambda t0,t1: [math.ceil((0.5*t0) + (s*0.5*math.sqrt((t0*t0)-(4*t1)))) for s in [1,-1]]\n",
        "solutions = lambda rs: prod([reduce(lambda a,b: a-b, list(map(math.ceil, solve(*r)))) for r in rs])\n",
        "\n",
        "races = list(zip(*[map(int, re.split('[ ]+', l)[1:]) for l in f]))\n",
        "print(solutions(races))\n",
        "\n",
        "race = tuple(int(l.replace(' ','').split(':')[1]) for l in f)\n",
        "print(solutions([race]))"
      ],
      "metadata": {
        "colab": {
          "base_uri": "https://localhost:8080/"
        },
        "cellView": "form",
        "id": "D4yjbZPFsRVy",
        "outputId": "170b46cf-c5e9-413a-c5da-d8cd703eb9db"
      },
      "execution_count": 72,
      "outputs": [
        {
          "output_type": "stream",
          "name": "stdout",
          "text": [
            "800280\n",
            "45128024\n"
          ]
        }
      ]
    }
  ],
  "metadata": {
    "colab": {
      "provenance": []
    },
    "kernelspec": {
      "display_name": "Python 3",
      "name": "python3"
    },
    "language_info": {
      "codemirror_mode": {
        "name": "ipython",
        "version": 3
      },
      "file_extension": ".py",
      "mimetype": "text/x-python",
      "name": "python",
      "nbconvert_exporter": "python",
      "pygments_lexer": "ipython3",
      "version": "3.12.0b4"
    }
  },
  "nbformat": 4,
  "nbformat_minor": 0
}