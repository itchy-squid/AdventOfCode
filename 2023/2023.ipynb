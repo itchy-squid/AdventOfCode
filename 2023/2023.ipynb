{
  "cells": [
    {
      "cell_type": "markdown",
      "metadata": {},
      "source": [
        "Run the \"environment\" code before running any solutions"
      ]
    },
    {
      "cell_type": "code",
      "execution_count": null,
      "metadata": {},
      "outputs": [],
      "source": [
        "#@title environment: google.colab\n",
        "import re, math\n",
        "fread = lambda path: from google.colab import files with open(path,'r') as f: f.read()"
      ]
    },
    {
      "cell_type": "code",
      "execution_count": 2,
      "metadata": {},
      "outputs": [],
      "source": [
        "#@title environment: vscode\n",
        "import re, math\n",
        "fread = lambda path: open('inputs/'+path, 'r').read()"
      ]
    },
    {
      "cell_type": "code",
      "execution_count": 46,
      "metadata": {
        "colab": {
          "base_uri": "https://localhost:8080/"
        },
        "id": "SZmO-IfpAVBb",
        "outputId": "080d7ba6-79f3-4c3f-ccb7-6e9bad01c80a"
      },
      "outputs": [
        {
          "name": "stdout",
          "output_type": "stream",
          "text": [
            "54573\n",
            "54591\n"
          ]
        }
      ],
      "source": [
        "#@title Day 1: Trebuchet?!\n",
        "ls = fread('23-1.txt').splitlines()\n",
        "\n",
        "print(sum(map(lambda d: int(d[0]+d[-1]),[[c for c in l if '/' < c < ':'] for l in ls])))\n",
        "\n",
        "ns = {n: n[0]+str(i)+n[-1] for (i,n) in enumerate('zero,one,two,three,four,five,six,seven,eight,nine'.split(','))}\n",
        "[ls:= [l.replace(k,ns[k]) for l in ls] for k in ns]\n",
        "print(sum([int(re.search('\\\\d',l).group()+re.search('\\\\d',l[::-1]).group()) for l in ls]))\n"
      ]
    },
    {
      "cell_type": "code",
      "execution_count": null,
      "metadata": {
        "colab": {
          "base_uri": "https://localhost:8080/"
        },
        "id": "RdwKBEmjCOqa",
        "outputId": "df4f6f62-8f37-4332-b1b6-f56a4d356996"
      },
      "outputs": [
        {
          "name": "stdout",
          "output_type": "stream",
          "text": [
            "2727\n",
            "56580\n"
          ]
        }
      ],
      "source": [
        "#@title Day 2: Cube Conundrum\n",
        "maxes = {'red': 12, 'green': 13, 'blue': 14}\n",
        "\n",
        "ls = fread('23-2.txt').splitlines()\n",
        "gs = [[{p.strip().split(' ')[1]: int(p.strip().split(' ')[0])\n",
        "        for p in r.split(',')}\n",
        "        for r in l.split(':')[1].split(';')]\n",
        "        for l in ls]\n",
        "\n",
        "valid = [i+1 for (i,g) in enumerate(gs)\n",
        "             if all([all([maxes[k]>=r[k] for k in r]) for r in g])]\n",
        "print(sum(valid))\n",
        "\n",
        "powers = [math.prod([max([r.get(k,0) for r in g]) for k in maxes]) for g in gs]\n",
        "print(sum(powers))"
      ]
    },
    {
      "cell_type": "code",
      "execution_count": null,
      "metadata": {},
      "outputs": [
        {
          "name": "stdout",
          "output_type": "stream",
          "text": [
            "529618\n"
          ]
        }
      ],
      "source": [
        "#@title Day 3-1: Gear Ratios\n",
        "f = fread('23-3.txt').splitlines()\n",
        "\n",
        "special = lambda x,y,n: [re.search('[^\\\\d.]',f[min(max(yi,0),len(f))][max(x-1,0):min(x+n+1,len(f[0]))]) != None for yi in range(y-1,y+2)]\n",
        "ps = {(m.start(),y): m.group() for (y,l) in enumerate(f) for m in re.finditer('\\\\d+',l)}\n",
        "ns = [int(ps[(x,y)]) for (x,y) in ps if any(\n",
        "     [re.search('\\\\d+',f[min(max(yi,0),len(f)-1)][max(x-1,0):min(x+len(ps[(x,y)])+1,len(f[0])-1)]) != None for yi in range(y-1,y+2)]\n",
        "     )]\n",
        "print(sum(ns))"
      ]
    },
    {
      "cell_type": "code",
      "execution_count": 21,
      "metadata": {},
      "outputs": [
        {
          "name": "stdout",
          "output_type": "stream",
          "text": [
            "[5, 10, 4, 4, 3, 9, 10, 0, 2, 6, 4, 0, 1, 2, 1, 0, 0, 10, 2, 5, 6, 1, 7, 8, 3, 5, 5, 1, 0, 3, 1, 1, 0, 10, 0, 10, 2, 8, 9, 3, 1, 0, 6, 4, 3, 2, 1, 6, 0, 2, 1, 1, 0, 0, 10, 1, 10, 1, 0, 7, 2, 9, 4, 2, 3, 8, 2, 3, 9, 3, 0, 5, 3, 5, 4, 2, 1, 0, 0, 4, 10, 10, 9, 0, 3, 0, 4, 0, 5, 2, 0, 2, 1, 0, 10, 10, 10, 10, 5, 0, 3, 4, 7, 10, 3, 4, 3, 7, 2, 4, 2, 4, 4, 2, 2, 0, 0, 10, 3, 8, 2, 2, 2, 4, 2, 9, 6, 3, 1, 4, 3, 3, 2, 1, 0, 10, 7, 10, 1, 5, 9, 2, 10, 7, 10, 7, 9, 9, 7, 3, 7, 4, 1, 4, 2, 2, 1, 0, 4, 10, 7, 3, 3, 4, 3, 9, 6, 5, 10, 1, 10, 0, 6, 4, 5, 1, 2, 4, 2, 2, 1, 0, 7, 10, 7, 10, 7, 10, 10, 2, 10, 5, 5, 7, 7, 0, 0, 0, 0, 0, 1, 0]\n",
            "18619\n"
          ]
        }
      ],
      "source": [
        "#@title Day 4: Scratchcards \n",
        "f = fread('23-4.txt').splitlines()\n",
        "\n",
        "cs = [[set([int(n) for n in m.group().split(' ') if n != '']) \n",
        "  for m in re.finditer('[\\\\d ]+', l.split(':')[1])] \n",
        "  for l in f]\n",
        "\n",
        "ws = [sum([1 for n in c[1] if n in c[0]]) for c in cs]\n",
        "score = sum([1<<(w-1) for w in ws if w > 0])\n",
        "print(score)"
      ]
    }
  ],
  "metadata": {
    "colab": {
      "provenance": []
    },
    "kernelspec": {
      "display_name": "Python 3",
      "name": "python3"
    },
    "language_info": {
      "codemirror_mode": {
        "name": "ipython",
        "version": 3
      },
      "file_extension": ".py",
      "mimetype": "text/x-python",
      "name": "python",
      "nbconvert_exporter": "python",
      "pygments_lexer": "ipython3",
      "version": "3.12.0b4"
    }
  },
  "nbformat": 4,
  "nbformat_minor": 0
}
