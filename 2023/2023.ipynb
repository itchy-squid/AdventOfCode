{
  "cells": [
    {
      "cell_type": "code",
      "execution_count": null,
      "metadata": {},
      "outputs": [],
      "source": [
        "#@title google.colab\n",
        "fread = lambda path: from google.colab import files with open(path,'r') as f: f.read()"
      ]
    },
    {
      "cell_type": "code",
      "execution_count": 41,
      "metadata": {},
      "outputs": [],
      "source": [
        "#@title vscode\n",
        "fread = lambda path: open('inputs/'+path, 'r').read()"
      ]
    },
    {
      "cell_type": "code",
      "execution_count": 42,
      "metadata": {
        "colab": {
          "base_uri": "https://localhost:8080/"
        },
        "id": "SZmO-IfpAVBb",
        "outputId": "080d7ba6-79f3-4c3f-ccb7-6e9bad01c80a"
      },
      "outputs": [
        {
          "name": "stderr",
          "output_type": "stream",
          "text": [
            "<>:8: SyntaxWarning: invalid escape sequence '\\d'\n",
            "<>:8: SyntaxWarning: invalid escape sequence '\\d'\n",
            "<>:8: SyntaxWarning: invalid escape sequence '\\d'\n",
            "<>:8: SyntaxWarning: invalid escape sequence '\\d'\n",
            "C:\\Users\\amand\\AppData\\Local\\Temp\\ipykernel_8440\\3593574796.py:8: SyntaxWarning: invalid escape sequence '\\d'\n",
            "  print(sum([int(re.search('\\d',l).group()+re.search('\\d',l[::-1]).group()) for l in ls]))\n",
            "C:\\Users\\amand\\AppData\\Local\\Temp\\ipykernel_8440\\3593574796.py:8: SyntaxWarning: invalid escape sequence '\\d'\n",
            "  print(sum([int(re.search('\\d',l).group()+re.search('\\d',l[::-1]).group()) for l in ls]))\n",
            "C:\\Users\\amand\\AppData\\Local\\Temp\\ipykernel_8440\\3593574796.py:8: SyntaxWarning: invalid escape sequence '\\d'\n",
            "  print(sum([int(re.search('\\d',l).group()+re.search('\\d',l[::-1]).group()) for l in ls]))\n",
            "C:\\Users\\amand\\AppData\\Local\\Temp\\ipykernel_8440\\3593574796.py:8: SyntaxWarning: invalid escape sequence '\\d'\n",
            "  print(sum([int(re.search('\\d',l).group()+re.search('\\d',l[::-1]).group()) for l in ls]))\n"
          ]
        },
        {
          "ename": "TypeError",
          "evalue": "<lambda>() takes 1 positional argument but 2 were given",
          "output_type": "error",
          "traceback": [
            "\u001b[1;31m---------------------------------------------------------------------------\u001b[0m",
            "\u001b[1;31mTypeError\u001b[0m                                 Traceback (most recent call last)",
            "\u001b[1;32mc:\\Users\\amand\\Source\\AdventOfCode\\2023\\2023.ipynb Cell 3\u001b[0m line \u001b[0;36m2\n\u001b[0;32m      <a href='vscode-notebook-cell:/c%3A/Users/amand/Source/AdventOfCode/2023/2023.ipynb#X13sZmlsZQ%3D%3D?line=0'>1</a>\u001b[0m \u001b[39m#@title Day 1: Trebuchet?!\u001b[39;00m\n\u001b[1;32m----> <a href='vscode-notebook-cell:/c%3A/Users/amand/Source/AdventOfCode/2023/2023.ipynb#X13sZmlsZQ%3D%3D?line=1'>2</a>\u001b[0m ls \u001b[39m=\u001b[39m fread(\u001b[39m'\u001b[39;49m\u001b[39m23-1.txt\u001b[39;49m\u001b[39m'\u001b[39;49m,\u001b[39m'\u001b[39;49m\u001b[39mr\u001b[39;49m\u001b[39m'\u001b[39;49m)\u001b[39m.\u001b[39msplitlines()\n\u001b[0;32m      <a href='vscode-notebook-cell:/c%3A/Users/amand/Source/AdventOfCode/2023/2023.ipynb#X13sZmlsZQ%3D%3D?line=3'>4</a>\u001b[0m \u001b[39mprint\u001b[39m(\u001b[39msum\u001b[39m(\u001b[39mmap\u001b[39m(\u001b[39mlambda\u001b[39;00m d: \u001b[39mint\u001b[39m(d[\u001b[39m0\u001b[39m]\u001b[39m+\u001b[39md[\u001b[39m-\u001b[39m\u001b[39m1\u001b[39m]),[[c \u001b[39mfor\u001b[39;00m c \u001b[39min\u001b[39;00m l \u001b[39mif\u001b[39;00m \u001b[39m'\u001b[39m\u001b[39m/\u001b[39m\u001b[39m'\u001b[39m \u001b[39m<\u001b[39m c \u001b[39m<\u001b[39m \u001b[39m'\u001b[39m\u001b[39m:\u001b[39m\u001b[39m'\u001b[39m] \u001b[39mfor\u001b[39;00m l \u001b[39min\u001b[39;00m ls])))\n\u001b[0;32m      <a href='vscode-notebook-cell:/c%3A/Users/amand/Source/AdventOfCode/2023/2023.ipynb#X13sZmlsZQ%3D%3D?line=5'>6</a>\u001b[0m ns \u001b[39m=\u001b[39m {n: n[\u001b[39m0\u001b[39m]\u001b[39m+\u001b[39m\u001b[39mstr\u001b[39m(i)\u001b[39m+\u001b[39mn[\u001b[39m-\u001b[39m\u001b[39m1\u001b[39m] \u001b[39mfor\u001b[39;00m (i,n) \u001b[39min\u001b[39;00m \u001b[39menumerate\u001b[39m(\u001b[39m'\u001b[39m\u001b[39mzero,one,two,three,four,five,six,seven,eight,nine\u001b[39m\u001b[39m'\u001b[39m\u001b[39m.\u001b[39msplit(\u001b[39m'\u001b[39m\u001b[39m,\u001b[39m\u001b[39m'\u001b[39m))}\n",
            "\u001b[1;31mTypeError\u001b[0m: <lambda>() takes 1 positional argument but 2 were given"
          ]
        }
      ],
      "source": [
        "#@title Day 1: Trebuchet?!\n",
        "ls = fread('23-1.txt','r').splitlines()\n",
        "\n",
        "print(sum(map(lambda d: int(d[0]+d[-1]),[[c for c in l if '/' < c < ':'] for l in ls])))\n",
        "\n",
        "ns = {n: n[0]+str(i)+n[-1] for (i,n) in enumerate('zero,one,two,three,four,five,six,seven,eight,nine'.split(','))}\n",
        "[ls:= [l.replace(k,ns[k]) for l in ls] for k in ns]\n",
        "print(sum([int(re.search('\\d',l).group()+re.search('\\d',l[::-1]).group()) for l in ls]))\n"
      ]
    },
    {
      "cell_type": "code",
      "execution_count": null,
      "metadata": {
        "colab": {
          "base_uri": "https://localhost:8080/"
        },
        "id": "RdwKBEmjCOqa",
        "outputId": "df4f6f62-8f37-4332-b1b6-f56a4d356996"
      },
      "outputs": [],
      "source": [
        "#@title Day 2: Cube Conundrum\n",
        "import re, math\n",
        "\n",
        "maxes = {'red': 12, 'green': 13, 'blue': 14}\n",
        "\n",
        "from google.colab import files\n",
        "with open('23-2.txt','r') as f:\n",
        "  gs = [[{p.strip().split(' ')[1]: int(p.strip().split(' ')[0])\n",
        "          for p in r.split(',')}\n",
        "          for r in l.split(':')[1].split(';')]\n",
        "          for l in f.read().splitlines()]\n",
        "\n",
        "valid = [i+1 for (i,g) in enumerate(gs)\n",
        "             if all([all([maxes[k]>=r[k] for k in r]) for r in g])]\n",
        "print(sum(valid))\n",
        "\n",
        "powers = [math.prod([max([r.get(k,0) for r in g]) for k in maxes]) for g in gs]\n",
        "print(sum(powers))"
      ]
    },
    {
      "cell_type": "code",
      "execution_count": null,
      "metadata": {},
      "outputs": [],
      "source": [
        "#@title Day 3:\n",
        "import re, math\n",
        "\n",
        "from google.colab import files\n",
        "with open('23-3.txt','r') as f:\n",
        "  gs = [[{p.strip().split(' ')[1]: int(p.strip().split(' ')[0])\n",
        "          for p in r.split(',')}\n",
        "          for r in l.split(':')[1].split(';')]\n",
        "          for l in f.read().splitlines()]\n",
        "\n",
        "valid = [i+1 for (i,g) in enumerate(gs)\n",
        "             if all([all([maxes[k]>=r[k] for k in r]) for r in g])]\n",
        "print(sum(valid))\n",
        "\n",
        "powers = [math.prod([max([r.get(k,0) for r in g]) for k in maxes]) for g in gs]\n",
        "print(sum(powers))"
      ]
    }
  ],
  "metadata": {
    "colab": {
      "provenance": []
    },
    "kernelspec": {
      "display_name": "Python 3",
      "name": "python3"
    },
    "language_info": {
      "codemirror_mode": {
        "name": "ipython",
        "version": 3
      },
      "file_extension": ".py",
      "mimetype": "text/x-python",
      "name": "python",
      "nbconvert_exporter": "python",
      "pygments_lexer": "ipython3",
      "version": "3.12.0b4"
    }
  },
  "nbformat": 4,
  "nbformat_minor": 0
}
