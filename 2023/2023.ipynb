{
  "cells": [
    {
      "cell_type": "markdown",
      "metadata": {},
      "source": [
        "Run the \"environment\" code before running any solutions"
      ]
    },
    {
      "cell_type": "code",
      "execution_count": null,
      "metadata": {},
      "outputs": [],
      "source": [
        "#@title environment: google.colab\n",
        "import re, math\n",
        "fread = lambda path: from google.colab import files with open(path,'r') as f: f.read()"
      ]
    },
    {
      "cell_type": "code",
      "execution_count": 0,
      "metadata": {},
      "outputs": [],
      "source": [
        "#@title environment: vscode\n",
        "import re, math\n",
        "fread = lambda path: open('inputs/'+path, 'r').read()"
      ]
    },
    {
      "cell_type": "code",
      "execution_count": 46,
      "metadata": {
        "colab": {
          "base_uri": "https://localhost:8080/"
        },
        "id": "SZmO-IfpAVBb",
        "outputId": "080d7ba6-79f3-4c3f-ccb7-6e9bad01c80a"
      },
      "outputs": [
        {
          "name": "stdout",
          "output_type": "stream",
          "text": [
            "54573\n",
            "54591\n"
          ]
        }
      ],
      "source": [
        "#@title Day 1: Trebuchet?!\n",
        "ls = fread('23-1.txt').splitlines()\n",
        "\n",
        "print(sum(map(lambda d: int(d[0]+d[-1]),[[c for c in l if '/' < c < ':'] for l in ls])))\n",
        "\n",
        "ns = {n: n[0]+str(i)+n[-1] for (i,n) in enumerate('zero,one,two,three,four,five,six,seven,eight,nine'.split(','))}\n",
        "[ls:= [l.replace(k,ns[k]) for l in ls] for k in ns]\n",
        "print(sum([int(re.search('\\\\d',l).group()+re.search('\\\\d',l[::-1]).group()) for l in ls]))\n"
      ]
    },
    {
      "cell_type": "code",
      "execution_count": 0,
      "metadata": {
        "colab": {
          "base_uri": "https://localhost:8080/"
        },
        "id": "RdwKBEmjCOqa",
        "outputId": "df4f6f62-8f37-4332-b1b6-f56a4d356996"
      },
      "outputs": [
        {
          "name": "stdout",
          "output_type": "stream",
          "text": [
            "2727\n",
            "56580\n"
          ]
        }
      ],
      "source": [
        "#@title Day 2: Cube Conundrum\n",
        "maxes = {'red': 12, 'green': 13, 'blue': 14}\n",
        "\n",
        "ls = fread('23-2.txt').splitlines()\n",
        "gs = [[{p.strip().split(' ')[1]: int(p.strip().split(' ')[0])\n",
        "        for p in r.split(',')}\n",
        "        for r in l.split(':')[1].split(';')]\n",
        "        for l in ls]\n",
        "\n",
        "valid = [i+1 for (i,g) in enumerate(gs)\n",
        "             if all([all([maxes[k]>=r[k] for k in r]) for r in g])]\n",
        "print(sum(valid))\n",
        "\n",
        "powers = [math.prod([max([r.get(k,0) for r in g]) for k in maxes]) for g in gs]\n",
        "print(sum(powers))"
      ]
    },
    {
      "cell_type": "code",
      "execution_count": 0,
      "metadata": {},
      "outputs": [
        {
          "name": "stdout",
          "output_type": "stream",
          "text": [
            "529618\n"
          ]
        }
      ],
      "source": [
        "#@title Day 3-1: Gear Ratios\n",
        "f = fread('23-3.txt').splitlines()\n",
        "\n",
        "special = lambda x,y,n: [re.search('[^\\\\d.]',f[min(max(yi,0),len(f))][max(x-1,0):min(x+n+1,len(f[0]))]) != None for yi in range(y-1,y+2)]\n",
        "ps = {(m.start(),y): m.group() for (y,l) in enumerate(f) for m in re.finditer('\\\\d+',l)}\n",
        "ns = [int(ps[(x,y)]) for (x,y) in ps if any(\n",
        "     [re.search('\\\\d+',f[min(max(yi,0),len(f)-1)][max(x-1,0):min(x+len(ps[(x,y)])+1,len(f[0])-1)]) != None for yi in range(y-1,y+2)]\n",
        "     )]\n",
        "print(sum(ns))"
      ]
    },
    {
      "cell_type": "code",
      "execution_count": 91,
      "metadata": {},
      "outputs": [
        {
          "ename": "AttributeError",
          "evalue": "'set' object has no attribute 'contains'",
          "output_type": "error",
          "traceback": [
            "\u001b[1;31m---------------------------------------------------------------------------\u001b[0m",
            "\u001b[1;31mAttributeError\u001b[0m                            Traceback (most recent call last)",
            "\u001b[1;32mc:\\Users\\amand\\Source\\AdventOfCode\\2023\\2023.ipynb Cell 7\u001b[0m line \u001b[0;36m1\n\u001b[0;32m      <a href='vscode-notebook-cell:/c%3A/Users/amand/Source/AdventOfCode/2023/2023.ipynb#X23sZmlsZQ%3D%3D?line=3'>4</a>\u001b[0m \u001b[39m# cs = [[set(map(int, [n for n in ss.strip().split(' ') if n != '']))\u001b[39;00m\n\u001b[0;32m      <a href='vscode-notebook-cell:/c%3A/Users/amand/Source/AdventOfCode/2023/2023.ipynb#X23sZmlsZQ%3D%3D?line=4'>5</a>\u001b[0m \u001b[39m#   for ss in re.split('(\\\\|||(Card \\\\d+:))', l) if ss != None]\u001b[39;00m\n\u001b[0;32m      <a href='vscode-notebook-cell:/c%3A/Users/amand/Source/AdventOfCode/2023/2023.ipynb#X23sZmlsZQ%3D%3D?line=5'>6</a>\u001b[0m \u001b[39m#   for l in f]\u001b[39;00m\n\u001b[0;32m      <a href='vscode-notebook-cell:/c%3A/Users/amand/Source/AdventOfCode/2023/2023.ipynb#X23sZmlsZQ%3D%3D?line=6'>7</a>\u001b[0m cs \u001b[39m=\u001b[39m [[\u001b[39mset\u001b[39m([\u001b[39mint\u001b[39m(n) \u001b[39mfor\u001b[39;00m n \u001b[39min\u001b[39;00m m\u001b[39m.\u001b[39mgroup()\u001b[39m.\u001b[39msplit(\u001b[39m'\u001b[39m\u001b[39m \u001b[39m\u001b[39m'\u001b[39m) \u001b[39mif\u001b[39;00m n \u001b[39m!=\u001b[39m \u001b[39m'\u001b[39m\u001b[39m'\u001b[39m]) \n\u001b[0;32m      <a href='vscode-notebook-cell:/c%3A/Users/amand/Source/AdventOfCode/2023/2023.ipynb#X23sZmlsZQ%3D%3D?line=7'>8</a>\u001b[0m   \u001b[39mfor\u001b[39;00m m \u001b[39min\u001b[39;00m re\u001b[39m.\u001b[39mfinditer(\u001b[39m'\u001b[39m\u001b[39m(\u001b[39m\u001b[39m\\\\\u001b[39;00m\u001b[39md+ +)+\u001b[39m\u001b[39m'\u001b[39m, l)] \n\u001b[0;32m      <a href='vscode-notebook-cell:/c%3A/Users/amand/Source/AdventOfCode/2023/2023.ipynb#X23sZmlsZQ%3D%3D?line=8'>9</a>\u001b[0m   \u001b[39mfor\u001b[39;00m l \u001b[39min\u001b[39;00m f]\n\u001b[1;32m---> <a href='vscode-notebook-cell:/c%3A/Users/amand/Source/AdventOfCode/2023/2023.ipynb#X23sZmlsZQ%3D%3D?line=10'>11</a>\u001b[0m ws \u001b[39m=\u001b[39m [\u001b[39msum\u001b[39m([\u001b[39m1\u001b[39m \u001b[39mfor\u001b[39;00m n \u001b[39min\u001b[39;00m c[\u001b[39m1\u001b[39m] \u001b[39mif\u001b[39;00m c[\u001b[39m0\u001b[39;49m]\u001b[39m.\u001b[39;49mcontains(c[\u001b[39m1\u001b[39m])])\n\u001b[0;32m     <a href='vscode-notebook-cell:/c%3A/Users/amand/Source/AdventOfCode/2023/2023.ipynb#X23sZmlsZQ%3D%3D?line=11'>12</a>\u001b[0m   \u001b[39mfor\u001b[39;00m c \u001b[39min\u001b[39;00m cs]\n\u001b[0;32m     <a href='vscode-notebook-cell:/c%3A/Users/amand/Source/AdventOfCode/2023/2023.ipynb#X23sZmlsZQ%3D%3D?line=13'>14</a>\u001b[0m \u001b[39mprint\u001b[39m(cs)\n",
            "\u001b[1;31mAttributeError\u001b[0m: 'set' object has no attribute 'contains'"
          ]
        }
      ],
      "source": [
        "#@title Day 4: Scratchcards \n",
        "f = fread('23-4.txt').splitlines()\n",
        "\n",
        "# cs = [[set(map(int, [n for n in ss.strip().split(' ') if n != '']))\n",
        "#   for ss in re.split('(\\\\|||(Card \\\\d+:))', l) if ss != None]\n",
        "#   for l in f]\n",
        "cs = [[set([int(n) for n in m.group().split(' ') if n != '']) \n",
        "  for m in re.finditer('(\\\\d+ +)+', l)] \n",
        "  for l in f]\n",
        "\n",
        "ws = [sum([1 for n in c[1] if c[0].contains(c[1])])\n",
        "  for c in cs]\n",
        "\n",
        "print(cs)"
      ]
    }
  ],
  "metadata": {
    "colab": {
      "provenance": []
    },
    "kernelspec": {
      "display_name": "Python 3",
      "name": "python3"
    },
    "language_info": {
      "codemirror_mode": {
        "name": "ipython",
        "version": 3
      },
      "file_extension": ".py",
      "mimetype": "text/x-python",
      "name": "python",
      "nbconvert_exporter": "python",
      "pygments_lexer": "ipython3",
      "version": "3.12.0b4"
    }
  },
  "nbformat": 4,
  "nbformat_minor": 0
}
