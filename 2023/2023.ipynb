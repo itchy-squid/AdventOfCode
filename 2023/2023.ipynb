{
  "cells": [
    {
      "cell_type": "code",
      "execution_count": null,
      "metadata": {
        "colab": {
          "base_uri": "https://localhost:8080/"
        },
        "id": "SZmO-IfpAVBb",
        "outputId": "e7d4f66e-6599-4def-e4ab-c87324cfec6d"
      },
      "outputs": [
        {
          "name": "stdout",
          "output_type": "stream",
          "text": [
            "54573\n"
          ]
        }
      ],
      "source": [
        "#@title Day 1-1: Trebuchet?!\n",
        "from google.colab import files\n",
        "with open('2023-1-1.txt','r') as f:\n",
        "  print(sum(map(lambda d: int(d[0]+d[-1]),\n",
        "   [[c for c in l if '/' < c < ':'] for l in f.read().splitlines()])))"
      ]
    },
    {
      "cell_type": "code",
      "execution_count": 7,
      "metadata": {
        "colab": {
          "base_uri": "https://localhost:8080/"
        },
        "id": "bpD2g7GnW7Xr",
        "outputId": "ec3e2b00-ace6-48f5-a0a8-62ac50760ae2"
      },
      "outputs": [
        {
          "output_type": "stream",
          "name": "stdout",
          "text": [
            "54591\n"
          ]
        }
      ],
      "source": [
        "#@title Day 1-2: Trebuchet?!\n",
        "import re\n",
        "\n",
        "numbers = dict(\n",
        "    {n: i for (i,n) in enumerate('zero,one,two,three,four,five,six,seven,eight,nine'.split(','))},\n",
        "    **{str(i): i for i in range(10)})\n",
        "\n",
        "from google.colab import files\n",
        "with open('2023-01-01.txt','r') as f:\n",
        "  ls = f.read().splitlines()\n",
        "\n",
        "first = lambda l: numbers[re.search('|'.join(['('+n+')' for n in dict.keys(numbers)]), l).group()]\n",
        "last = lambda l: numbers[re.search('|'.join(['('+n[::-1]+')' for n in dict.keys(numbers)]), l[::-1]).group()[::-1]]\n",
        "ns = [10*first(l)+last(l) for l in ls]\n",
        "print(sum(ns))"
      ]
    }
  ],
  "metadata": {
    "colab": {
      "provenance": []
    },
    "kernelspec": {
      "display_name": "Python 3",
      "name": "python3"
    },
    "language_info": {
      "codemirror_mode": {
        "name": "ipython",
        "version": 3
      },
      "file_extension": ".py",
      "mimetype": "text/x-python",
      "name": "python",
      "nbconvert_exporter": "python",
      "pygments_lexer": "ipython3",
      "version": "3.12.0b4"
    }
  },
  "nbformat": 4,
  "nbformat_minor": 0
}