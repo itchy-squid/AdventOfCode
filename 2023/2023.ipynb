{
  "cells": [
    {
      "cell_type": "code",
      "execution_count": 13,
      "metadata": {
        "id": "SZmO-IfpAVBb",
        "colab": {
          "base_uri": "https://localhost:8080/"
        },
        "outputId": "080d7ba6-79f3-4c3f-ccb7-6e9bad01c80a"
      },
      "outputs": [
        {
          "output_type": "stream",
          "name": "stdout",
          "text": [
            "54573\n",
            "54591\n"
          ]
        }
      ],
      "source": [
        "#@title Day 1: Trebuchet?!\n",
        "from google.colab import files\n",
        "with open('23-1.txt','r') as f:\n",
        "  ls = f.read().splitlines()\n",
        "\n",
        "print(sum(map(lambda d: int(d[0]+d[-1]),[[c for c in l if '/' < c < ':'] for l in ls])))\n",
        "\n",
        "ns = {n: n[0]+str(i)+n[-1] for (i,n) in enumerate('zero,one,two,three,four,five,six,seven,eight,nine'.split(','))}\n",
        "[ls:= [l.replace(k,ns[k]) for l in ls] for k in ns]\n",
        "print(sum([int(re.search('\\d',l).group()+re.search('\\d',l[::-1]).group()) for l in ls]))\n"
      ]
    },
    {
      "cell_type": "code",
      "source": [
        "#@title Day 2: Cube Conundrum\n",
        "import re, math\n",
        "\n",
        "maxes = {'red': 12, 'green': 13, 'blue': 14}\n",
        "\n",
        "from google.colab import files\n",
        "with open('23-2.txt','r') as f:\n",
        "  gs = [[{p.strip().split(' ')[1]: int(p.strip().split(' ')[0])\n",
        "          for p in r.split(',')}\n",
        "          for r in l.split(':')[1].split(';')]\n",
        "          for l in f.read().splitlines()]\n",
        "\n",
        "valid = [i+1 for (i,g) in enumerate(gs)\n",
        "             if all([all([maxes[k]>=r[k] for k in r]) for r in g])]\n",
        "print(sum(valid))\n",
        "\n",
        "powers = [math.prod([max([r.get(k,0) for r in g]) for k in maxes]) for g in gs]\n",
        "print(sum(powers))"
      ],
      "metadata": {
        "colab": {
          "base_uri": "https://localhost:8080/"
        },
        "id": "RdwKBEmjCOqa",
        "outputId": "df4f6f62-8f37-4332-b1b6-f56a4d356996"
      },
      "execution_count": null,
      "outputs": [
        {
          "output_type": "stream",
          "name": "stdout",
          "text": [
            "2727\n",
            "56580\n"
          ]
        }
      ]
    }
  ],
  "metadata": {
    "colab": {
      "provenance": []
    },
    "kernelspec": {
      "display_name": "Python 3",
      "name": "python3"
    },
    "language_info": {
      "codemirror_mode": {
        "name": "ipython",
        "version": 3
      },
      "file_extension": ".py",
      "mimetype": "text/x-python",
      "name": "python",
      "nbconvert_exporter": "python",
      "pygments_lexer": "ipython3",
      "version": "3.12.0b4"
    }
  },
  "nbformat": 4,
  "nbformat_minor": 0
}