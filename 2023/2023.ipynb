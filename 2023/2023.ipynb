{
  "nbformat": 4,
  "nbformat_minor": 0,
  "metadata": {
    "colab": {
      "provenance": [],
      "authorship_tag": "ABX9TyM+DPF6EJ4rbaMGxcTMzCJb"
    },
    "kernelspec": {
      "name": "python3",
      "display_name": "Python 3"
    },
    "language_info": {
      "name": "python"
    }
  },
  "cells": [
    {
      "cell_type": "code",
      "execution_count": 11,
      "metadata": {
        "colab": {
          "base_uri": "https://localhost:8080/"
        },
        "cellView": "form",
        "id": "SZmO-IfpAVBb",
        "outputId": "98e10728-66e2-4571-d60e-6ab641ee7690"
      },
      "outputs": [
        {
          "output_type": "stream",
          "name": "stdout",
          "text": [
            "54573\n"
          ]
        }
      ],
      "source": [
        "#@title Day 1-1 Trebuchet?!\n",
        "from google.colab import files\n",
        "with open('2023-1-1.txt','r') as f:\n",
        "  lines = f.read().splitlines()\n",
        "\n",
        "digits = [[i for i in l if '0' <= i <= '9'] for l in lines]\n",
        "values = list(map(int, [d[0]+d[-1] for d in digits]))\n",
        "print (sum(values))"
      ]
    }
  ]
}