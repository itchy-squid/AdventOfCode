{
  "cells": [
    {
      "cell_type": "markdown",
      "metadata": {
        "id": "trU2xDTodM-g"
      },
      "source": [
        "## Environment\n",
        "\n",
        "Run the appropriate \"environment\" code before running any solutions."
      ]
    },
    {
      "cell_type": "code",
      "execution_count": 8,
      "metadata": {
        "id": "RILFU5xEdM-h",
        "cellView": "form"
      },
      "outputs": [],
      "source": [
        "#@title environment: google.colab\n",
        "from google.colab import files\n",
        "fread = lambda path: open(path,'r').read()"
      ]
    },
    {
      "cell_type": "code",
      "execution_count": 7,
      "metadata": {
        "cellView": "form",
        "id": "WIzXDPl4dM-i"
      },
      "outputs": [],
      "source": [
        "#@title environment: vscode\n",
        "fread = lambda path: open('inputs/'+path, 'r').read()"
      ]
    },
    {
      "cell_type": "markdown",
      "metadata": {
        "id": "uh0QyEOvdM-i"
      },
      "source": [
        "## Imports\n",
        "\n",
        "Import general-purpose libraries before running any solutions"
      ]
    },
    {
      "cell_type": "code",
      "execution_count": 16,
      "metadata": {
        "id": "s8y-hhccdM-i"
      },
      "outputs": [],
      "source": [
        "import re, math\n",
        "from operator import add, sub\n",
        "from functools import reduce\n",
        "from math import prod\n",
        "from itertools import repeat\n",
        "\n",
        "sign = lambda n: int(math.copysign(1, n))\n",
        "\n",
        "class formats:\n",
        "    PURPLE = '\\033[95m'\n",
        "    BLUE = '\\033[94m'\n",
        "    CYAN = '\\033[96m'\n",
        "    GREEN = '\\033[92m'\n",
        "    ORANGE = '\\033[93m'\n",
        "    RED = '\\033[91m'\n",
        "    WHITE = '\\033[0m'\n",
        "    BOLD = '\\033[1m'"
      ]
    },
    {
      "cell_type": "markdown",
      "metadata": {
        "id": "YKVqYVU4-Gc4"
      },
      "source": [
        "# Solutions\n",
        "\n",
        "Solution inputs should be uploaded with the form `23-{dayNumber}.txt` (e.g., the input for Day 5 would be uploaded as `23-5.txt`). Each solution has the input file name hard-coded into the script, so if you want to run the script against a test file you will need to edit the file name."
      ]
    },
    {
      "cell_type": "markdown",
      "metadata": {
        "id": "dU8Yimzg-Z2y"
      },
      "source": [
        "## Week 1"
      ]
    },
    {
      "cell_type": "code",
      "execution_count": null,
      "metadata": {
        "cellView": "form",
        "colab": {
          "base_uri": "https://localhost:8080/"
        },
        "id": "SZmO-IfpAVBb",
        "outputId": "080d7ba6-79f3-4c3f-ccb7-6e9bad01c80a"
      },
      "outputs": [
        {
          "name": "stdout",
          "output_type": "stream",
          "text": [
            "54573\n",
            "54591\n"
          ]
        }
      ],
      "source": [
        "#@title Day 1: Trebuchet?!\n",
        "ls = fread('23-1.txt').splitlines()\n",
        "\n",
        "print(sum(map(lambda d: int(d[0]+d[-1]),[[c for c in l if '/' < c < ':'] for l in ls])))\n",
        "\n",
        "ns = {n: n[0]+str(i)+n[-1] for (i,n) in enumerate('zero,one,two,three,four,five,six,seven,eight,nine'.split(','))}\n",
        "[ls:= [l.replace(k,ns[k]) for l in ls] for k in ns]\n",
        "print(sum([int(re.search('\\\\d',l).group()+re.search('\\\\d',l[::-1]).group()) for l in ls]))\n"
      ]
    },
    {
      "cell_type": "code",
      "execution_count": null,
      "metadata": {
        "cellView": "form",
        "colab": {
          "base_uri": "https://localhost:8080/"
        },
        "id": "RdwKBEmjCOqa",
        "outputId": "df4f6f62-8f37-4332-b1b6-f56a4d356996"
      },
      "outputs": [
        {
          "name": "stdout",
          "output_type": "stream",
          "text": [
            "2727\n",
            "56580\n"
          ]
        }
      ],
      "source": [
        "#@title Day 2: Cube Conundrum\n",
        "maxes = {'red': 12, 'green': 13, 'blue': 14}\n",
        "\n",
        "ls = fread('23-2.txt').splitlines()\n",
        "gs = [[{p.strip().split(' ')[1]: int(p.strip().split(' ')[0])\n",
        "        for p in r.split(',')}\n",
        "        for r in l.split(':')[1].split(';')]\n",
        "        for l in ls]\n",
        "\n",
        "valid = [i+1 for (i,g) in enumerate(gs)\n",
        "             if all([all([maxes[k]>=r[k] for k in r]) for r in g])]\n",
        "print(sum(valid))\n",
        "\n",
        "powers = [math.prod([max([r.get(k,0) for r in g]) for k in maxes]) for g in gs]\n",
        "print(sum(powers))"
      ]
    },
    {
      "cell_type": "code",
      "execution_count": null,
      "metadata": {
        "cellView": "form",
        "id": "B0sfLsIJdM-k",
        "outputId": "6f5043d1-e871-45a5-c943-09a803bc766e"
      },
      "outputs": [
        {
          "name": "stdout",
          "output_type": "stream",
          "text": [
            "529618\n",
            "77509019\n"
          ]
        }
      ],
      "source": [
        "#@title Day 3: Gear Ratios\n",
        "f = fread('23-3.txt').splitlines()\n",
        "\n",
        "special = lambda x,y,n: [re.search('[^\\\\d.]',f[min(max(yi,0),len(f)-1)][max(x-1,0):min(x+n+1,len(f[0])-1)]) != None for yi in range(y-1,y+2)]\n",
        "ps = {(m.start(),y): m.group() for (y,l) in enumerate(f) for m in re.finditer('\\\\d+',l)}\n",
        "ns = [int(ps[(x,y)]) for (x,y) in ps if any(special(x,y,len(ps[(x,y)])))]\n",
        "print(sum(ns))\n",
        "\n",
        "stars = lambda x,y,n: [\n",
        "  (m.start(),yi)\n",
        "  for yi in range(max(0,y-1),min(y+2,len(f)))\n",
        "  for m in re.finditer('\\\\*', f[yi]) if (x-2)<m.start()<(x+n+1)\n",
        "]\n",
        "\n",
        "ss = [(s, int(ps[(x,y)])) for (x,y) in ps for s in stars(x,y,len(ps[(x,y)]))]\n",
        "pgs = [[n for t,n in ss if t==u] for u in set([s for s,n in ss])]\n",
        "gs = [pg for pg in pgs if len(pg)==2]\n",
        "print(sum([math.prod(g) for g in gs]))\n"
      ]
    },
    {
      "cell_type": "code",
      "execution_count": null,
      "metadata": {
        "cellView": "form",
        "id": "OV7OdeB6dM-k",
        "outputId": "24e057cc-f669-497d-ce31-82391413f2a0"
      },
      "outputs": [
        {
          "name": "stdout",
          "output_type": "stream",
          "text": [
            "18619\n",
            "8063216\n"
          ]
        }
      ],
      "source": [
        "#@title Day 4: Scratchcards\n",
        "f = fread('23-4.txt').splitlines()\n",
        "\n",
        "cs = [[set([int(n) for n in m.group().split(' ') if n != ''])\n",
        "  for m in re.finditer('[\\\\d ]+', l.split(':')[1])]\n",
        "  for l in f]\n",
        "\n",
        "wins = [sum([1 for n in c[1] if n in c[0]]) for c in cs]\n",
        "score = sum([1<<(w-1) for w in wins if w > 0])\n",
        "print(score)\n",
        "\n",
        "cards = [1]*len(wins)\n",
        "[cards:= [sum(n) for n in zip(cards,\n",
        "  ([0]*(i+1))+([cards[i]]*w)+([0]*(len(wins)-w-i-1)))]\n",
        "  for i,w in enumerate(wins)]\n",
        "print(sum(cards))"
      ]
    },
    {
      "cell_type": "code",
      "execution_count": null,
      "metadata": {
        "cellView": "form",
        "id": "dzu_LwTsdM-l",
        "outputId": "a5f8201a-63af-4045-e9e9-bdcf12a349bf"
      },
      "outputs": [
        {
          "name": "stdout",
          "output_type": "stream",
          "text": [
            "836040384\n"
          ]
        }
      ],
      "source": [
        "#@title Day 5-1: If You Give A Seed A Fertilizer\n",
        "f = [s.splitlines() for s in fread('23-5.txt').split('\\n\\n')]\n",
        "\n",
        "fn = lambda q,p,r: lambda n: (n-p)+q if p <= n < p + r else None\n",
        "seeds = list(map(int, f[0][0].split(' ')[1:]))\n",
        "maps = [[fn(*map(int, l.split(' ')))\n",
        "  for l in s[1:]]+[lambda n: n]\n",
        "  for s in f[1:]]\n",
        "\n",
        "applyone = lambda n, fns: next(g(n) for g in fns if g(n) != None)\n",
        "\n",
        "def apply(n):\n",
        "  result = n\n",
        "  [result := applyone(result, m) for m in maps]\n",
        "  return result\n",
        "\n",
        "print(min(apply(n) for n in seeds))"
      ]
    },
    {
      "cell_type": "code",
      "execution_count": null,
      "metadata": {
        "cellView": "form",
        "colab": {
          "base_uri": "https://localhost:8080/"
        },
        "id": "pqiB8xMZD9cR",
        "outputId": "6b4b133d-3a2e-4c41-f04f-d8e0c63dda82"
      },
      "outputs": [
        {
          "name": "stdout",
          "output_type": "stream",
          "text": [
            "10834440\n"
          ]
        }
      ],
      "source": [
        "#@title Day 5-2: If You Give A Seed A Fertilizer\n",
        "f = [s.splitlines() for s in fread('23-5.txt').split('\\n\\n')]\n",
        "\n",
        "class Range:\n",
        "  def __init__(self, start, end):\n",
        "    self.start = start\n",
        "    self.end = end\n",
        "    self.length = end - start\n",
        "\n",
        "class AlmanacRange(Range):\n",
        "  def __init__(self, dest, source, length):\n",
        "    Range.__init__(self, source, source + length)\n",
        "    self.__op = lambda n: n + (dest - source)\n",
        "\n",
        "  def apply(self, r):\n",
        "    return (\n",
        "        (set() if self.start <= r.start else {Range(r.start, min(r.end, self.start))})\n",
        "        .union(set() if self.end >= r.end else {Range(max(r.start, self.end), r.end)}),\n",
        "        set() if self.end < r.start or r.end < self.start else\n",
        "        {Range(self.__op(max(self.start, r.start)), self.__op(min(self.end, r.end)))}\n",
        "        )\n",
        "\n",
        "class AlmanacMap:\n",
        "  def __init__(self, name, ranges):\n",
        "    self.__name = name\n",
        "    self.__ranges = ranges\n",
        "\n",
        "  def apply(self, rs):\n",
        "    acc = (set(rs),{})\n",
        "    [acc := reduce(\n",
        "          lambda a,b: (a[0].union(b[0]), a[1].union(b[1])),\n",
        "          [amr.apply(r) for r in acc[0]] + [(set(),acc[1])])\n",
        "          for amr in self.__ranges]\n",
        "\n",
        "    return acc[0].union(acc[1])\n",
        "\n",
        "class Almanac:\n",
        "  def __init__(self, maps):\n",
        "    self.__maps = maps\n",
        "\n",
        "  def parse(lines):\n",
        "    return Almanac([\n",
        "      AlmanacMap(s[0], [AlmanacRange(*map(int, l.split(' '))) for l in s[1:]])\n",
        "      for s in lines])\n",
        "\n",
        "  def apply(self, rs):\n",
        "    acc = set(rs)\n",
        "    [acc := m.apply(acc) for m in self.__maps]\n",
        "    return acc\n",
        "\n",
        "ps = list(map(int, f[0][0].split(' ')[1:]))\n",
        "seeds = [Range(ps[i], ps[i]+ps[i+1])\n",
        "    for i in range(0,len(ps),2)]\n",
        "\n",
        "almanac = Almanac.parse(f[1:])\n",
        "best = min([r.start for r in almanac.apply(seeds)])\n",
        "print(best)"
      ]
    },
    {
      "cell_type": "code",
      "execution_count": null,
      "metadata": {
        "colab": {
          "base_uri": "https://localhost:8080/"
        },
        "id": "D4yjbZPFsRVy",
        "outputId": "36e8be37-c503-4106-80cb-ba1742aa69d3",
        "cellView": "form"
      },
      "outputs": [
        {
          "name": "stdout",
          "output_type": "stream",
          "text": [
            "800280\n",
            "45128024\n"
          ]
        }
      ],
      "source": [
        "#@title Day 6: Wait For It\n",
        "f = fread('23-6.txt').splitlines()\n",
        "\n",
        "solve = lambda t0,t1: [math.ceil((0.5*t0) + (s*0.5*math.sqrt((t0*t0)-(4*t1)))) for s in [1,-1]]\n",
        "solutions = lambda rs: prod([reduce(lambda a,b: a-b, list(map(math.ceil, solve(*r)))) for r in rs])\n",
        "\n",
        "races = list(zip(*[map(int, re.split('[ ]+', l)[1:]) for l in f]))\n",
        "print(solutions(races))\n",
        "\n",
        "race = tuple(int(l.replace(' ','').split(':')[1]) for l in f)\n",
        "print(solutions([race]))"
      ]
    },
    {
      "cell_type": "code",
      "execution_count": null,
      "metadata": {
        "colab": {
          "base_uri": "https://localhost:8080/"
        },
        "id": "wBW9wScQ6jvG",
        "outputId": "fc179ad9-b61a-47f8-c2b3-8e55d6df9fd6",
        "cellView": "form"
      },
      "outputs": [
        {
          "name": "stdout",
          "output_type": "stream",
          "text": [
            "251136060\n",
            "249400220\n"
          ]
        }
      ],
      "source": [
        "#@title Day 7: Camel Cards\n",
        "f = fread('23-7.txt')\n",
        "[f := f.replace(*c) for c in ['T:','Kk','Az']]\n",
        "\n",
        "# Helpers\n",
        "get_type = lambda h: 5 * (max(h.count(c) for c in set(h))) - len(set(h))\n",
        "get_joker_type = lambda h: get_type(h.replace('J', max(set(h), key=lambda c: (c != 'J', h.count(c)))))\n",
        "winnings = lambda hs: sum((i + 1) * h[1] for i, h in enumerate(hs))\n",
        "\n",
        "# Part 1\n",
        "hands = [[l[0:5],int(l[6:])] for l in f.splitlines()]\n",
        "hands.sort(key=lambda h: (get_type(h[0]), h[0]))\n",
        "print(winnings(hands))\n",
        "\n",
        "# Part 2\n",
        "hands.sort(key=lambda h: (get_joker_type(h[0]), h[0].replace('J','!')))\n",
        "print(winnings(hands))"
      ]
    },
    {
      "cell_type": "markdown",
      "metadata": {
        "id": "i8AncBZp6bYx"
      },
      "source": [
        "## Week 2"
      ]
    },
    {
      "cell_type": "code",
      "execution_count": null,
      "metadata": {
        "cellView": "form",
        "colab": {
          "base_uri": "https://localhost:8080/"
        },
        "id": "lP_G403T5XZt",
        "outputId": "cdcaec29-825c-4d7f-de81-504cb91aec35"
      },
      "outputs": [
        {
          "name": "stdout",
          "output_type": "stream",
          "text": [
            "20513\n",
            "15995167053923\n"
          ]
        }
      ],
      "source": [
        "#@title Day 8: Haunted Wasteland\n",
        "from itertools import count\n",
        "from math import lcm, gcd\n",
        "\n",
        "f = fread('23-8.txt').splitlines()\n",
        "\n",
        "graph = {n[0]: n[1:] for n in [[m.group() for m in re.finditer('[A-Z]+', l)] for l in f[2:]]}\n",
        "walk = lambda u: next(i for i in count() if (u := graph[u][f[0][i%len(f[0])]=='R']) == 'ZZZ') + 1\n",
        "print(walk('AAA'))\n",
        "\n",
        "walkToZ = lambda curr: next(i for i in count() if (curr := graph[curr][f[0][i%len(f[0])]=='R'])[-1] == 'Z') + 1\n",
        "print(lcm(*[walkToZ(k) for k in graph if k[-1] == 'A']))"
      ]
    },
    {
      "cell_type": "code",
      "execution_count": null,
      "metadata": {
        "cellView": "form",
        "colab": {
          "base_uri": "https://localhost:8080/"
        },
        "id": "9OmvzQSd9Wet",
        "outputId": "0eb1e0bb-8dd8-40e4-f7f2-c901a70c7bff"
      },
      "outputs": [
        {
          "name": "stdout",
          "output_type": "stream",
          "text": [
            "1666172641\n",
            "933\n"
          ]
        }
      ],
      "source": [
        "#@title Day 9: Mirage Maintenance\n",
        "f = [[int(n) for n in l.split(' ')] for l in fread('23-9.txt').splitlines()]\n",
        "\n",
        "deltas = lambda l: [l[i]-l[i-1] for i in range(1,len(l))]\n",
        "predict = lambda l: l[-1] if set(deltas(l)) == {0} else predict(deltas(l))+l[-1]\n",
        "print(sum([predict(l) for l in f]))\n",
        "\n",
        "history = lambda l: l[0] if set(deltas(l)) == {0} else l[0]-history(deltas(l))\n",
        "print(sum([history(l) for l in f]))"
      ]
    },
    {
      "cell_type": "code",
      "execution_count": null,
      "metadata": {
        "colab": {
          "base_uri": "https://localhost:8080/"
        },
        "id": "rSRuSezSF1dl",
        "outputId": "e4386519-e42d-46fc-9bae-7bc2e2f42d4a",
        "cellView": "form"
      },
      "outputs": [
        {
          "name": "stdout",
          "output_type": "stream",
          "text": [
            "6786\n",
            "495\n"
          ]
        }
      ],
      "source": [
        "#@title Day 10: Pipe Maze\n",
        "import sys\n",
        "\n",
        "f = fread('23-10.txt').splitlines()\n",
        "\n",
        "start = next((col, row) for row,l in enumerate(f) for col,c in enumerate(l) if c == 'S')\n",
        "connects = '-J7 7|F -LF J|L'.split(' ')\n",
        "\n",
        "def get_neighbors (u):\n",
        "  c = f[u[1]][u[0]]\n",
        "  x,y = u\n",
        "  ns = [] + [[None],[(x+1,y)]][c in set('S-LF')] \\\n",
        "    + [[None],[(x,y-1)]][c in set('S|JL')] \\\n",
        "    + [[None],[(x-1,y)]][c in set('S-J7')] \\\n",
        "    + [[None],[(x,y+1)]][c in set('S|7F')]\n",
        "\n",
        "  ns = {n for i,n in enumerate(ns)\n",
        "    if n != None and n[0] < len(f[0]) and n[1] < len(f) and f[n[1]][n[0]] in set(connects[i])}\n",
        "  return ns\n",
        "\n",
        "seen = set()\n",
        "distances = {start: 0}\n",
        "to_visit = {start}\n",
        "\n",
        "while(len(to_visit) > 0):\n",
        "  u = min(to_visit, key=lambda n: distances[n])\n",
        "  to_visit.remove(u)\n",
        "\n",
        "  neighbors = get_neighbors(u)\n",
        "\n",
        "  for v in neighbors:\n",
        "    distances[v] = min(distances.get(v,sys.maxsize), distances[u]+1)\n",
        "  seen = seen.union({u})\n",
        "  to_visit = to_visit.union(neighbors.difference(seen))\n",
        "\n",
        "print(max(distances[k] for k in distances))\n",
        "\n",
        "from itertools import groupby\n",
        "\n",
        "f = [''.join([c if (col,row) in distances and distances[(col,row)] < sys.maxsize else '.' for col,c in enumerate(l)]) for row,l in enumerate(f)]\n",
        "\n",
        "ks = sorted(distances, key=lambda k: (k[1],k[0]))\n",
        "ks = [list(v) for k,v in groupby(ks, lambda k: k[1])]\n",
        "#print(ks)\n",
        "\n",
        "filled = 0\n",
        "for l in f:\n",
        "  #print(l,end=' => ')\n",
        "  l = l.replace('S','|')\n",
        "  l = l.replace('-','')\n",
        "  l = l.replace('F7','')\n",
        "  l = l.replace('FJ','|')\n",
        "  l = l.replace('L7','|')\n",
        "  l = l.replace('LJ','')\n",
        "  #print(l)\n",
        "\n",
        "  filling = False\n",
        "  for c in l:\n",
        "    if c == '|': filling = not filling\n",
        "    else: filled += int(filling)\n",
        "\n",
        "print(filled)"
      ]
    },
    {
      "cell_type": "code",
      "source": [
        "#@title Day 11: Cosmic Expansion\n",
        "from itertools import repeat\n",
        "\n",
        "f = fread('23-11.txt').splitlines()\n",
        "\n",
        "expand = ({x for x in range(len(f[0]))[::-1] if all([l[x]=='.' for l in f])},\n",
        "          {y for y in range(len(f))[::-1] if re.match('\\.*$', f[y])})\n",
        "galaxies = [(x,y) for y,l in enumerate(f) for x,c in enumerate(l) if c == '#']\n",
        "\n",
        "def get_distance(g,h,n):\n",
        "  return sum([\n",
        "      abs(g[i]-h[i]) + (n-1)*len(expand[i].intersection(range(g[i],h[i],sign(h[i]-g[i]))))\n",
        "      for i in [0,1]])\n",
        "\n",
        "tally = lambda n: sum([get_distance(g,h,n) for i,g in enumerate(galaxies) for h in galaxies[i+1:]])\n",
        "\n",
        "print(tally(2))\n",
        "print(tally(1000000))"
      ],
      "metadata": {
        "colab": {
          "base_uri": "https://localhost:8080/"
        },
        "id": "Q8N5yfBoLmHa",
        "outputId": "48f8653c-46ee-4a09-b5a8-ad5a2009dca6",
        "cellView": "form"
      },
      "execution_count": null,
      "outputs": [
        {
          "output_type": "stream",
          "name": "stdout",
          "text": [
            "9543156\n",
            "625243292686\n"
          ]
        }
      ]
    },
    {
      "cell_type": "code",
      "source": [
        "#@title Day 12: Hot Springs\n",
        "import numpy as np\n",
        "\n",
        "f = [l.split(' ') for l in fread('23-12.txt').splitlines()]\n",
        "\n",
        "def check(s, d):\n",
        "  cache = [np.zeros(len(d)+1) for i in range(len(s)+1)]\n",
        "  cache[0][0] = 1\n",
        "\n",
        "  for i in range(1,len(s)+1):\n",
        "    c = s[i-1]\n",
        "\n",
        "    for j in range(0, len(d)+1):\n",
        "      if c in set('.?'):\n",
        "        cache[i][j] += cache[i-1][j]\n",
        "\n",
        "      if j > 0 and i >= d[j-1]:\n",
        "        i_start = i-d[j-1]\n",
        "        if all(c in set('#?') for c in s[i_start:i]) and (i_start == 0 or s[i_start-1] in set('.?')):\n",
        "          cache[i][j] += cache[max(0,i_start-1)][j-1]\n",
        "\n",
        "  return cache[len(s)][len(d)]\n",
        "\n",
        "def tally(ls, vs): return sum([check(p, vs[i]) for i,p in enumerate(ls)])\n",
        "\n",
        "springs = [l[0] for l in f]\n",
        "damages = [list(map(int,l[1].split(','))) for l in f]\n",
        "print(tally(springs,damages))\n",
        "\n",
        "springs = ['?'.join(repeat(p,5)) for p in springs]\n",
        "damages = [list(chain(*repeat(n,5))) for n in damages]\n",
        "print(tally(springs,damages))"
      ],
      "metadata": {
        "colab": {
          "base_uri": "https://localhost:8080/"
        },
        "id": "TBs6SP3DYZRV",
        "outputId": "8d22f9e0-76e5-4570-b5e6-e6b1d0cfafe9",
        "cellView": "form"
      },
      "execution_count": null,
      "outputs": [
        {
          "output_type": "stream",
          "name": "stdout",
          "text": [
            "6949.0\n",
            "51456609952403.0\n"
          ]
        }
      ]
    },
    {
      "cell_type": "code",
      "source": [
        "#@title Day 13: Point of Incidence\n",
        "f = [p.splitlines() for p in fread('23-13.txt').replace('#','1').replace('.','0').split('\\n\\n')]\n",
        "\n",
        "maps = list(zip(\n",
        "    [list(map(lambda l: int(l,2), ls)) for ls in f],\n",
        "    [list(map(lambda x: int(''.join(l[x] for l in ls),2), range(len(ls[0])))) for ls in f]\n",
        "))\n",
        "\n",
        "def is_symmetric(n, ls, smudge=1):\n",
        "  ct = 0\n",
        "  for i in range(0,min(n,len(ls)-n)):\n",
        "    if ls[n-i-1] == ls[n+i]: continue\n",
        "    if ct == smudge: return False\n",
        "    if '{0:b}'.format(ls[n-i-1]^ls[n+i]).strip('0') != '1': return False\n",
        "    ct += 1\n",
        "  return ct == smudge\n",
        "\n",
        "hs = [i for m in maps for i in range(1,len(m[0])) if is_symmetric(i,m[0],smudge=0)]\n",
        "vs = [i for m in maps for i in range(1,len(m[1])) if is_symmetric(i,m[1],smudge=0)]\n",
        "print(sum(hs)*100 + sum(vs))\n",
        "\n",
        "hs = [i for m in maps for i in range(1,len(m[0])) if is_symmetric(i,m[0],smudge=1)]\n",
        "vs = [i for m in maps for i in range(1,len(m[1])) if is_symmetric(i,m[1],smudge=1)]\n",
        "print(sum(hs)*100 + sum(vs))"
      ],
      "metadata": {
        "id": "ojIID2b8Dr84",
        "colab": {
          "base_uri": "https://localhost:8080/"
        },
        "outputId": "90bd4948-05f4-4029-a9bb-870e4c1ed056",
        "cellView": "form"
      },
      "execution_count": null,
      "outputs": [
        {
          "output_type": "stream",
          "name": "stdout",
          "text": [
            "32723\n",
            "34536\n"
          ]
        }
      ]
    },
    {
      "cell_type": "markdown",
      "source": [
        "## Latest"
      ],
      "metadata": {
        "id": "e38gmU6zBfsA"
      }
    },
    {
      "cell_type": "code",
      "source": [
        "#@title Day 14: Parabolic Reflector Dish\n",
        "f = fread('23-14.txt').splitlines()\n",
        "\n",
        "# Part 1\n",
        "rotate = lambda m,direction=1: zip(*m[::direction])\n",
        "tally = lambda p: sum((i+1)*l.count('O') for i,l in enumerate(p[::-1]))\n",
        "\n",
        "slide_left = lambda p: [''.join(\n",
        "  ['O' * chunk.count('O') + '.' * chunk.count('.') + '#'\n",
        "  for chunk in ''.join(l).split('#') ])[:-1]\n",
        "  for i,l in enumerate(p)]\n",
        "\n",
        "print(tally(list(rotate(slide_left(rotate(f))))))\n",
        "\n",
        "# Part 2\n",
        "log = lambda p: '\\n'.join(''.join(l) for l in p)\n",
        "\n",
        "def cycle(p):\n",
        "  n = slide_left(rotate(p))\n",
        "  w = slide_left(rotate(n))\n",
        "  s = slide_left(rotate(w,-1))\n",
        "  e = slide_left(rotate(s,-1))\n",
        "  return list(map(lambda l: l[::-1], e[::-1]))\n",
        "\n",
        "def project(curr, n):\n",
        "  states = {}\n",
        "  steps = [curr]\n",
        "\n",
        "  for i in range(1,n+1):\n",
        "    steps.append(cycle(steps[i-1]))\n",
        "    s = log(steps[i])\n",
        "\n",
        "    if(s in states):\n",
        "      last = states[s]\n",
        "      cycle_length = i - last\n",
        "      return steps[((n - last) % cycle_length) + last]\n",
        "\n",
        "    states[s] = i\n",
        "  return curr\n",
        "\n",
        "print(tally(project(f, 1000000000)))"
      ],
      "metadata": {
        "colab": {
          "base_uri": "https://localhost:8080/"
        },
        "id": "cpjEgNI3l-_m",
        "outputId": "74ae2783-ca96-4fc1-e237-57a67593bc8c"
      },
      "execution_count": 84,
      "outputs": [
        {
          "output_type": "stream",
          "name": "stdout",
          "text": [
            "113424\n",
            "96003\n"
          ]
        }
      ]
    }
  ],
  "metadata": {
    "colab": {
      "provenance": []
    },
    "kernelspec": {
      "display_name": "Python 3",
      "name": "python3"
    },
    "language_info": {
      "codemirror_mode": {
        "name": "ipython",
        "version": 3
      },
      "file_extension": ".py",
      "mimetype": "text/x-python",
      "name": "python",
      "nbconvert_exporter": "python",
      "pygments_lexer": "ipython3",
      "version": "3.11.6"
    }
  },
  "nbformat": 4,
  "nbformat_minor": 0
}