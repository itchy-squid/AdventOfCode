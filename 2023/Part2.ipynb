{
  "nbformat": 4,
  "nbformat_minor": 0,
  "metadata": {
    "colab": {
      "provenance": [],
      "authorship_tag": "ABX9TyPXxvEAmYBo6l57/OAN61fW"
    },
    "kernelspec": {
      "name": "python3",
      "display_name": "Python 3"
    },
    "language_info": {
      "name": "python"
    }
  },
  "cells": [
    {
      "cell_type": "markdown",
      "source": [
        "## Globals"
      ],
      "metadata": {
        "id": "4_q2bs5Oj2ac"
      }
    },
    {
      "cell_type": "code",
      "source": [
        "#@title Imports\n",
        "try:\n",
        "  import files from google.colab\n",
        "  IN_COLAB = True\n",
        "except:\n",
        "  IN_COLAB = False\n",
        "\n",
        "fread = lambda path: open(f'{['inputs/',''][IN_COLAB]}{path}','r').read()"
      ],
      "metadata": {
        "id": "_mDvfr0jj4bv"
      },
      "execution_count": null,
      "outputs": []
    }
  ]
}