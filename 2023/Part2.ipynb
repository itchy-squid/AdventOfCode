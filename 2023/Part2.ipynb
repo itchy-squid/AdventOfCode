{
  "nbformat": 4,
  "nbformat_minor": 0,
  "metadata": {
    "colab": {
      "provenance": [],
      "authorship_tag": "ABX9TyP5DZNXmynlMggW1eq59LkZ"
    },
    "kernelspec": {
      "name": "python3",
      "display_name": "Python 3"
    },
    "language_info": {
      "name": "python"
    }
  },
  "cells": [
    {
      "cell_type": "markdown",
      "source": [
        "## Globals"
      ],
      "metadata": {
        "id": "4_q2bs5Oj2ac"
      }
    },
    {
      "cell_type": "code",
      "source": [
        "#@title Imports\n",
        "try:\n",
        "  from google.colab import files\n",
        "  IN_COLAB = True\n",
        "except:\n",
        "  IN_COLAB = False\n",
        "\n",
        "fread = lambda path: open(['inputs/',''][IN_COLAB]+path,'r').read()"
      ],
      "metadata": {
        "cellView": "form",
        "id": "_mDvfr0jj4bv"
      },
      "execution_count": 5,
      "outputs": []
    },
    {
      "cell_type": "markdown",
      "source": [
        "## Solutions"
      ],
      "metadata": {
        "id": "EFzI8nKiorvp"
      }
    },
    {
      "cell_type": "code",
      "source": [
        "#@title Day 17: Clumsy Crucible\n",
        "\n",
        "input = fread('23-17-0.txt').splitlines()\n",
        "graph = [list(map(int,l)) for l in input]"
      ],
      "metadata": {
        "id": "-LWxUZMLouhz"
      },
      "execution_count": 7,
      "outputs": []
    },
    {
      "cell_type": "code",
      "source": [
        "#@title Day 18: Lavaduct Lagoon\n",
        "\n",
        "input = [l.split(' ') for l in fread('23-18-0.txt').splitlines()]\n",
        "data = [(l[0],int(l[1])) for l in input]"
      ],
      "metadata": {
        "id": "wUmSQcXuqNTa"
      },
      "execution_count": null,
      "outputs": []
    }
  ]
}