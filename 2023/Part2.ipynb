{
  "nbformat": 4,
  "nbformat_minor": 0,
  "metadata": {
    "colab": {
      "provenance": [],
      "authorship_tag": "ABX9TyP6HiG38GMcWlEUqTE08PiY"
    },
    "kernelspec": {
      "name": "python3",
      "display_name": "Python 3"
    },
    "language_info": {
      "name": "python"
    }
  },
  "cells": [
    {
      "cell_type": "markdown",
      "source": [
        "## Globals"
      ],
      "metadata": {
        "id": "4_q2bs5Oj2ac"
      }
    },
    {
      "cell_type": "code",
      "source": [
        "#@title Imports\n",
        "try:\n",
        "  from google.colab import files\n",
        "  IN_COLAB = True\n",
        "except:\n",
        "  IN_COLAB = False\n",
        "\n",
        "import re\n",
        "\n",
        "fread = lambda path: open(['inputs/',''][IN_COLAB]+path,'r').read()"
      ],
      "metadata": {
        "cellView": "form",
        "id": "_mDvfr0jj4bv"
      },
      "execution_count": 15,
      "outputs": []
    },
    {
      "cell_type": "markdown",
      "source": [
        "## Solutions"
      ],
      "metadata": {
        "id": "EFzI8nKiorvp"
      }
    },
    {
      "cell_type": "code",
      "source": [
        "#@title Day 17: Clumsy Crucible\n",
        "\n",
        "input = fread('23-17-0.txt').splitlines()\n",
        "graph = [list(map(int,l)) for l in input]"
      ],
      "metadata": {
        "id": "-LWxUZMLouhz",
        "cellView": "form",
        "outputId": "f819b660-e299-4cbe-c38e-04baedcfa11a",
        "colab": {
          "base_uri": "https://localhost:8080/",
          "height": 228
        }
      },
      "execution_count": 2,
      "outputs": [
        {
          "output_type": "error",
          "ename": "NameError",
          "evalue": "ignored",
          "traceback": [
            "\u001b[0;31m---------------------------------------------------------------------------\u001b[0m",
            "\u001b[0;31mNameError\u001b[0m                                 Traceback (most recent call last)",
            "\u001b[0;32m<ipython-input-2-72ca6416c770>\u001b[0m in \u001b[0;36m<cell line: 3>\u001b[0;34m()\u001b[0m\n\u001b[1;32m      1\u001b[0m \u001b[0;31m#@title Day 17: Clumsy Crucible\u001b[0m\u001b[0;34m\u001b[0m\u001b[0;34m\u001b[0m\u001b[0m\n\u001b[1;32m      2\u001b[0m \u001b[0;34m\u001b[0m\u001b[0m\n\u001b[0;32m----> 3\u001b[0;31m \u001b[0minput\u001b[0m \u001b[0;34m=\u001b[0m \u001b[0mfread\u001b[0m\u001b[0;34m(\u001b[0m\u001b[0;34m'23-17-0.txt'\u001b[0m\u001b[0;34m)\u001b[0m\u001b[0;34m.\u001b[0m\u001b[0msplitlines\u001b[0m\u001b[0;34m(\u001b[0m\u001b[0;34m)\u001b[0m\u001b[0;34m\u001b[0m\u001b[0;34m\u001b[0m\u001b[0m\n\u001b[0m\u001b[1;32m      4\u001b[0m \u001b[0mgraph\u001b[0m \u001b[0;34m=\u001b[0m \u001b[0;34m[\u001b[0m\u001b[0mlist\u001b[0m\u001b[0;34m(\u001b[0m\u001b[0mmap\u001b[0m\u001b[0;34m(\u001b[0m\u001b[0mint\u001b[0m\u001b[0;34m,\u001b[0m\u001b[0ml\u001b[0m\u001b[0;34m)\u001b[0m\u001b[0;34m)\u001b[0m \u001b[0;32mfor\u001b[0m \u001b[0ml\u001b[0m \u001b[0;32min\u001b[0m \u001b[0minput\u001b[0m\u001b[0;34m]\u001b[0m\u001b[0;34m\u001b[0m\u001b[0;34m\u001b[0m\u001b[0m\n",
            "\u001b[0;31mNameError\u001b[0m: name 'fread' is not defined"
          ]
        }
      ]
    },
    {
      "cell_type": "code",
      "source": [
        "#@title Day 18: Lavaduct Lagoon\n",
        "input = [l.split(' ') for l in fread('23-18.txt').splitlines()]\n",
        "\n",
        "def calculate_area(insts, dirs):\n",
        "  pts = [(0,0)]\n",
        "  for l in insts:\n",
        "    x,y = pts[-1]\n",
        "    dx,dy = dirs[l[0]]\n",
        "    mag = l[1]\n",
        "    pts.append((x+mag*dx,y+mag*dy))\n",
        "\n",
        "  # Shoelace\n",
        "  pts = pts[::-1]\n",
        "  n = len(pts)\n",
        "  shoelace = 0.5*abs(sum([pts[i+1][1]*pts[i][0] - pts[i+1][0]*pts[i][1] for i in range(n-1)]))\n",
        "\n",
        "  # Perimeter\n",
        "  p = 0\n",
        "  for i,pt in enumerate(pts[1:]):\n",
        "    p += abs(pt[0]-pts[i][0])+abs(pt[1]-pts[i][1])\n",
        "\n",
        "  # Pick's theorem\n",
        "  return shoelace + (0.5 * p) + 1\n",
        "\n",
        "data = [(l[0],int(l[1])) for l in input]\n",
        "directions = {'U':(0,-1),'R':(1,0),'D':(0,1),'L':(-1,0)}\n",
        "print(calculate_area(data, directions))\n",
        "\n",
        "data = [re.sub('[()#]','',l[2]) for l in input]\n",
        "data = [(l[-1],int(l[0:5],16)) for l in data]\n",
        "directions = {'3':(0,-1),'0':(1,0),'1':(0,1),'2':(-1,0)}\n",
        "print(calculate_area(data, directions))"
      ],
      "metadata": {
        "id": "wUmSQcXuqNTa",
        "outputId": "53d304a3-b1d2-4c74-abcc-5e66a1c8c471",
        "colab": {
          "base_uri": "https://localhost:8080/"
        }
      },
      "execution_count": 18,
      "outputs": [
        {
          "output_type": "stream",
          "name": "stdout",
          "text": [
            "92758.0\n",
            "62762509300678.0\n"
          ]
        }
      ]
    }
  ]
}