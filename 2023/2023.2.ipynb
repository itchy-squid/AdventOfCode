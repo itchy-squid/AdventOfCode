{
  "cells": [
    {
      "cell_type": "markdown",
      "metadata": {
        "id": "4_q2bs5Oj2ac"
      },
      "source": [
        "## Globals"
      ]
    },
    {
      "cell_type": "code",
      "execution_count": 22,
      "metadata": {
        "cellView": "form",
        "id": "_mDvfr0jj4bv"
      },
      "outputs": [],
      "source": [
        "#@title Imports\n",
        "try:\n",
        "  from google.colab import files\n",
        "  IN_COLAB = True\n",
        "except:\n",
        "  IN_COLAB = False\n",
        "\n",
        "import re\n",
        "\n",
        "fread = lambda path: open(['inputs/',''][IN_COLAB]+path,'r').read()\n",
        "\n",
        "class colors:\n",
        "    PURPLE = '\\033[95m'\n",
        "    BLUE = '\\033[94m'\n",
        "    CYAN = '\\033[96m'\n",
        "    GREEN = '\\033[92m'\n",
        "    ORANGE = '\\033[93m'\n",
        "    RED = '\\033[91m'\n",
        "    WHITE = '\\033[0m'\n",
        "    BOLD = '\\033[1m'"
      ]
    },
    {
      "cell_type": "markdown",
      "metadata": {
        "id": "EFzI8nKiorvp"
      },
      "source": [
        "## Solutions"
      ]
    },
    {
      "cell_type": "code",
      "execution_count": 35,
      "metadata": {
        "id": "-LWxUZMLouhz"
      },
      "outputs": [
        {
          "name": "stdout",
          "output_type": "stream",
          "text": [
            "\u001b[94m2\u001b[0m\u001b[94m4\u001b[0m\u001b[94m1\u001b[0m3\u001b[94m4\u001b[0m\u001b[94m3\u001b[0m\u001b[94m2\u001b[0m\u001b[94m3\u001b[0m\u001b[94m1\u001b[0m1323\n",
            "32\u001b[94m1\u001b[0m\u001b[94m5\u001b[0m\u001b[94m4\u001b[0m535\u001b[94m3\u001b[0m\u001b[94m5\u001b[0m623\n",
            "325524565\u001b[94m4\u001b[0m\u001b[94m2\u001b[0m54\n",
            "3446585845\u001b[94m4\u001b[0m\u001b[94m5\u001b[0m2\n",
            "45466578675\u001b[94m3\u001b[0m6\n",
            "14385987984\u001b[94m5\u001b[0m\u001b[94m4\u001b[0m\n",
            "445787698776\u001b[94m6\u001b[0m\n",
            "363787797965\u001b[94m3\u001b[0m\n",
            "46549679868\u001b[94m8\u001b[0m\u001b[94m7\u001b[0m\n",
            "45646799864\u001b[94m5\u001b[0m\u001b[94m3\u001b[0m\n",
            "122468686556\u001b[94m3\u001b[0m\n",
            "254654888773\u001b[94m5\u001b[0m\n",
            "432267465553\u001b[94m3\u001b[0m\n",
            "106\n"
          ]
        }
      ],
      "source": [
        "#@title Day 17: Clumsy Crucible\n",
        "from queue import PriorityQueue\n",
        "\n",
        "input = fread('23-17-0.txt').splitlines()\n",
        "graph = [list(map(int,l)) for l in input]\n",
        "\n",
        "# Implementation of A* shamelessly stolen from redblobgames.com\n",
        "def minimize_heat(g, start, goal):\n",
        "  w = len(g[0])\n",
        "  h = len(g)\n",
        "\n",
        "  frontier = PriorityQueue()\n",
        "  frontier.put((0, start, (0,0)))\n",
        "  came_from = {start: None}\n",
        "  cost_so_far = {start: 0}\n",
        "\n",
        "  while not frontier.empty():\n",
        "    _, current, d = frontier.get()\n",
        "    if current == goal: break\n",
        "    \n",
        "    for dx,dy in {(1,0),(-1,0),(0,1),(0,-1)}-{d,(-d[0],-d[1])}:\n",
        "      nexts = [(current[0]+mag*dx, current[1]+mag*dy) for mag in range(4)]\n",
        "      for i,n in enumerate(nexts[1:]):\n",
        "        nx,ny = (n[0], n[1])\n",
        "        if 0 > nx or w <= nx or 0 > ny or h <= ny: break\n",
        "\n",
        "        new_cost = cost_so_far[nexts[i]] + g[ny][nx]\n",
        "        if (nx,ny) not in cost_so_far or new_cost <= cost_so_far[(nx,ny)]:\n",
        "          cost_so_far[(nx,ny)] = new_cost\n",
        "          priority = new_cost + goal[0] - nx + goal[1] - ny\n",
        "          frontier.put((priority, (nx,ny), (dx,dy)))\n",
        "          came_from[(nx,ny)] = nexts[i]\n",
        "\n",
        "  curr = goal\n",
        "  path = set()\n",
        "  while curr in came_from:\n",
        "    path = path.union({curr})\n",
        "    curr = came_from[curr]\n",
        "\n",
        "  for y in range(h):\n",
        "    for x in range(w):\n",
        "      if (x,y) in path: print(colors.BLUE,end='')\n",
        "      print(g[y][x],end='')\n",
        "      if (x,y) in path: print(colors.WHITE,end='')\n",
        "    print()\n",
        "\n",
        "  return cost_so_far[goal]\n",
        "\n",
        "print(minimize_heat(graph,(0,0),(len(graph[0])-1,len(graph)-1)))"
      ]
    },
    {
      "cell_type": "code",
      "execution_count": 4,
      "metadata": {
        "colab": {
          "base_uri": "https://localhost:8080/"
        },
        "id": "wUmSQcXuqNTa",
        "outputId": "403a1c32-865f-4c02-e5e0-89f38891bb88"
      },
      "outputs": [
        {
          "name": "stdout",
          "output_type": "stream",
          "text": [
            "92758\n",
            "62762509300678\n"
          ]
        }
      ],
      "source": [
        "#@title Day 18: Lavaduct Lagoon\n",
        "input = [l.split(' ') for l in fread('23-18.txt').splitlines()]\n",
        "\n",
        "def calculate_area(insts, dirs):\n",
        "  pts = [(0,0)]\n",
        "  for l in insts:\n",
        "    x,y = pts[-1]\n",
        "    dx,dy = dirs[l[0]]\n",
        "    mag = l[1]\n",
        "    pts.append((x+mag*dx,y+mag*dy))\n",
        "\n",
        "  # Pick's theorem:\n",
        "  # A = i + b/2 - 1\n",
        "  # Find i + b.\n",
        "\n",
        "  # Shoelace theorem\n",
        "  A = 0.5*abs(sum([pts[i+1][1]*pts[i][0] - pts[i+1][0]*pts[i][1] for i in range(len(pts)-1)]))\n",
        "\n",
        "  # Count points on perimeter\n",
        "  b = sum(abs(pt[0]-pts[i][0])+abs(pt[1]-pts[i][1]) for i,pt in enumerate(pts[1:]))\n",
        "\n",
        "  # => A - b/2 + 1 = i\n",
        "  # => A + b/2 + 1 = i + b\n",
        "  return int(A + (0.5 * b) + 1)\n",
        "\n",
        "data = [(l[0],int(l[1])) for l in input]\n",
        "directions = {'U':(0,-1),'R':(1,0),'D':(0,1),'L':(-1,0)}\n",
        "print(calculate_area(data, directions))\n",
        "\n",
        "data = [re.sub('[()#]','',l[2]) for l in input]\n",
        "data = [(l[-1],int(l[0:5],16)) for l in data]\n",
        "directions = {'3':(0,-1),'0':(1,0),'1':(0,1),'2':(-1,0)}\n",
        "print(calculate_area(data, directions))"
      ]
    },
    {
      "cell_type": "code",
      "execution_count": null,
      "metadata": {},
      "outputs": [],
      "source": [
        "#@title Day 19:"
      ]
    }
  ],
  "metadata": {
    "colab": {
      "authorship_tag": "ABX9TyNG3c5OzqzgIe9IKp6kRdBd",
      "provenance": []
    },
    "kernelspec": {
      "display_name": "Python 3",
      "name": "python3"
    },
    "language_info": {
      "codemirror_mode": {
        "name": "ipython",
        "version": 3
      },
      "file_extension": ".py",
      "mimetype": "text/x-python",
      "name": "python",
      "nbconvert_exporter": "python",
      "pygments_lexer": "ipython3",
      "version": "3.11.6"
    }
  },
  "nbformat": 4,
  "nbformat_minor": 0
}
