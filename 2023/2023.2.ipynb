{
  "nbformat": 4,
  "nbformat_minor": 0,
  "metadata": {
    "colab": {
      "provenance": [],
      "authorship_tag": "ABX9TyNG3c5OzqzgIe9IKp6kRdBd"
    },
    "kernelspec": {
      "name": "python3",
      "display_name": "Python 3"
    },
    "language_info": {
      "name": "python"
    }
  },
  "cells": [
    {
      "cell_type": "markdown",
      "source": [
        "## Globals"
      ],
      "metadata": {
        "id": "4_q2bs5Oj2ac"
      }
    },
    {
      "cell_type": "code",
      "source": [
        "#@title Imports\n",
        "try:\n",
        "  from google.colab import files\n",
        "  IN_COLAB = True\n",
        "except:\n",
        "  IN_COLAB = False\n",
        "\n",
        "import re\n",
        "\n",
        "fread = lambda path: open(['inputs/',''][IN_COLAB]+path,'r').read()"
      ],
      "metadata": {
        "cellView": "form",
        "id": "_mDvfr0jj4bv"
      },
      "execution_count": 15,
      "outputs": []
    },
    {
      "cell_type": "markdown",
      "source": [
        "## Solutions"
      ],
      "metadata": {
        "id": "EFzI8nKiorvp"
      }
    },
    {
      "cell_type": "code",
      "source": [
        "#@title Day 17: Clumsy Crucible\n",
        "\n",
        "input = fread('23-17-0.txt').splitlines()\n",
        "graph = [list(map(int,l)) for l in input]"
      ],
      "metadata": {
        "id": "-LWxUZMLouhz"
      },
      "execution_count": null,
      "outputs": []
    },
    {
      "cell_type": "code",
      "source": [
        "#@title Day 18: Lavaduct Lagoon\n",
        "input = [l.split(' ') for l in fread('23-18.txt').splitlines()]\n",
        "\n",
        "def calculate_area(insts, dirs):\n",
        "  pts = [(0,0)]\n",
        "  for l in insts:\n",
        "    x,y = pts[-1]\n",
        "    dx,dy = dirs[l[0]]\n",
        "    mag = l[1]\n",
        "    pts.append((x+mag*dx,y+mag*dy))\n",
        "\n",
        "  # Pick's theorem:\n",
        "  # A = i + b/2 - 1\n",
        "  # Find i + b.\n",
        "\n",
        "  # Shoelace theorem\n",
        "  A = 0.5*abs(sum([pts[i+1][1]*pts[i][0] - pts[i+1][0]*pts[i][1] for i in range(len(pts)-1)]))\n",
        "\n",
        "  # Count points on perimeter\n",
        "  b = sum(abs(pt[0]-pts[i][0])+abs(pt[1]-pts[i][1]) for i,pt in enumerate(pts[1:]))\n",
        "\n",
        "  # => A - b/2 + 1 = i\n",
        "  # => A + b/2 + 1 = i + b\n",
        "  return A + (0.5 * b) + 1\n",
        "\n",
        "data = [(l[0],int(l[1])) for l in input]\n",
        "directions = {'U':(0,-1),'R':(1,0),'D':(0,1),'L':(-1,0)}\n",
        "print(calculate_area(data, directions))\n",
        "\n",
        "data = [re.sub('[()#]','',l[2]) for l in input]\n",
        "data = [(l[-1],int(l[0:5],16)) for l in data]\n",
        "directions = {'3':(0,-1),'0':(1,0),'1':(0,1),'2':(-1,0)}\n",
        "print(calculate_area(data, directions))"
      ],
      "metadata": {
        "id": "wUmSQcXuqNTa",
        "colab": {
          "base_uri": "https://localhost:8080/"
        },
        "outputId": "403a1c32-865f-4c02-e5e0-89f38891bb88"
      },
      "execution_count": 23,
      "outputs": [
        {
          "output_type": "stream",
          "name": "stdout",
          "text": [
            "92758.0\n",
            "62762509300678.0\n"
          ]
        }
      ]
    }
  ]
}