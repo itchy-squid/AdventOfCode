{
  "cells": [
    {
      "cell_type": "markdown",
      "metadata": {
        "id": "4_q2bs5Oj2ac"
      },
      "source": [
        "## Globals"
      ]
    },
    {
      "cell_type": "code",
      "execution_count": 2,
      "metadata": {
        "cellView": "form",
        "id": "_mDvfr0jj4bv"
      },
      "outputs": [],
      "source": [
        "#@title Imports\n",
        "try:\n",
        "  from google.colab import files\n",
        "  IN_COLAB = True\n",
        "except:\n",
        "  IN_COLAB = False\n",
        "\n",
        "import re\n",
        "\n",
        "fread = lambda path: open(['inputs/',''][IN_COLAB]+path,'r').read()\n",
        "\n",
        "class colors:\n",
        "    PURPLE = '\\033[95m'\n",
        "    BLUE = '\\033[94m'\n",
        "    CYAN = '\\033[96m'\n",
        "    GREEN = '\\033[92m'\n",
        "    ORANGE = '\\033[93m'\n",
        "    RED = '\\033[91m'\n",
        "    WHITE = '\\033[0m'\n",
        "    BOLD = '\\033[1m'"
      ]
    },
    {
      "cell_type": "markdown",
      "metadata": {
        "id": "EFzI8nKiorvp"
      },
      "source": [
        "## Solutions"
      ]
    },
    {
      "cell_type": "code",
      "execution_count": 2,
      "metadata": {
        "cellView": "form",
        "id": "-LWxUZMLouhz"
      },
      "outputs": [
        {
          "name": "stdout",
          "output_type": "stream",
          "text": [
            "current (5, 0) \td (1, 0)\n",
            "\u001b[94m2\u001b[0m413432311323\n",
            "\u001b[94m3\u001b[0m\u001b[94m2\u001b[0m\u001b[94m1\u001b[0m54\u001b[94m5\u001b[0m\u001b[94m3\u001b[0m\u001b[94m5\u001b[0m\u001b[94m3\u001b[0m5623\n",
            "32\u001b[94m5\u001b[0m\u001b[94m5\u001b[0m\u001b[94m2\u001b[0m\u001b[94m4\u001b[0m56\u001b[94m5\u001b[0m\u001b[94m4\u001b[0m\u001b[94m2\u001b[0m54\n",
            "3446585845\u001b[94m4\u001b[0m52\n",
            "4546657867\u001b[94m5\u001b[0m\u001b[94m3\u001b[0m6\n",
            "14385987984\u001b[94m5\u001b[0m4\n",
            "44578769877\u001b[94m6\u001b[0m6\n",
            "3637877979\u001b[94m6\u001b[0m\u001b[94m5\u001b[0m3\n",
            "4654967986\u001b[94m8\u001b[0m87\n",
            "4564679986\u001b[94m4\u001b[0m\u001b[94m5\u001b[0m\u001b[94m3\u001b[0m\n",
            "122468686556\u001b[94m3\u001b[0m\n",
            "254654888773\u001b[94m5\u001b[0m\n",
            "432267465553\u001b[94m3\u001b[0m\n",
            "114\n"
          ]
        }
      ],
      "source": [
        "#@title Day 17: Clumsy Crucible\n",
        "from queue import PriorityQueue\n",
        "\n",
        "input = fread('23-17-0.txt').splitlines()\n",
        "graph = [list(map(int,l)) for l in input]\n",
        "\n",
        "# Implementation of A* shamelessly stolen from redblobgames.com\n",
        "def minimize_heat(g, start, goal):\n",
        "  w = len(g[0])\n",
        "  h = len(g)\n",
        "\n",
        "  frontier = PriorityQueue()\n",
        "  frontier.put((0, start, (0,0)))\n",
        "  came_from = {start: None}\n",
        "  cost_so_far = {start: 0}\n",
        "\n",
        "  while not frontier.empty():\n",
        "    _, current, d = frontier.get()\n",
        "    if current == goal: break\n",
        "\n",
        "    for dx,dy in {(1,0),(-1,0),(0,1),(0,-1)}-{d,(-d[0],-d[1])}:\n",
        "      nexts = [(current[0]+mag*dx, current[1]+mag*dy) for mag in range(4)]\n",
        "      for i,n in enumerate(nexts[1:]):\n",
        "        nx,ny = (n[0], n[1])\n",
        "        if 0 > nx or w <= nx or 0 > ny or h <= ny: break\n",
        "\n",
        "        new_cost = cost_so_far[nexts[i]] + g[ny][nx]\n",
        "        if (nx,ny) not in cost_so_far or new_cost < cost_so_far[(nx,ny)]:\n",
        "          if (nx,ny) == (8,0): print('current',current,'\\td',(dx,dy))\n",
        "          cost_so_far[(nx,ny)] = new_cost\n",
        "          priority = new_cost + goal[0] - nx + goal[1] - ny\n",
        "          frontier.put((priority, (nx,ny), (dx,dy)))\n",
        "          came_from[(nx,ny)] = nexts[i]\n",
        "\n",
        "  curr = goal\n",
        "  path = set()\n",
        "  while curr in came_from:\n",
        "    path = path.union({curr})\n",
        "    curr = came_from[curr]\n",
        "\n",
        "  for y in range(h):\n",
        "    for x in range(w):\n",
        "      if (x,y) in path: print(colors.BLUE,end='')\n",
        "      print(g[y][x],end='')\n",
        "      if (x,y) in path: print(colors.WHITE,end='')\n",
        "    print()\n",
        "\n",
        "  return cost_so_far[goal]\n",
        "\n",
        "print(minimize_heat(graph,(0,0),(len(graph[0])-1,len(graph)-1)))"
      ]
    },
    {
      "cell_type": "code",
      "execution_count": 3,
      "metadata": {
        "cellView": "form",
        "colab": {
          "base_uri": "https://localhost:8080/"
        },
        "id": "wUmSQcXuqNTa",
        "outputId": "403a1c32-865f-4c02-e5e0-89f38891bb88"
      },
      "outputs": [
        {
          "name": "stdout",
          "output_type": "stream",
          "text": [
            "92758\n",
            "62762509300678\n"
          ]
        }
      ],
      "source": [
        "#@title Day 18: Lavaduct Lagoon\n",
        "input = [l.split(' ') for l in fread('23-18.txt').splitlines()]\n",
        "\n",
        "def calculate_area(insts, dirs):\n",
        "  pts = [(0,0)]\n",
        "  for l in insts:\n",
        "    x,y = pts[-1]\n",
        "    dx,dy = dirs[l[0]]\n",
        "    mag = l[1]\n",
        "    pts.append((x+mag*dx,y+mag*dy))\n",
        "\n",
        "  # Pick's theorem:\n",
        "  # A = i + b/2 - 1\n",
        "  # Find i + b.\n",
        "\n",
        "  # Shoelace theorem\n",
        "  A = 0.5*abs(sum([pts[i+1][1]*pts[i][0] - pts[i+1][0]*pts[i][1] for i in range(len(pts)-1)]))\n",
        "\n",
        "  # Count points on perimeter\n",
        "  b = sum(abs(pt[0]-pts[i][0])+abs(pt[1]-pts[i][1]) for i,pt in enumerate(pts[1:]))\n",
        "\n",
        "  # => A - b/2 + 1 = i\n",
        "  # => A + b/2 + 1 = i + b\n",
        "  return int(A + (0.5 * b) + 1)\n",
        "\n",
        "data = [(l[0],int(l[1])) for l in input]\n",
        "directions = {'U':(0,-1),'R':(1,0),'D':(0,1),'L':(-1,0)}\n",
        "print(calculate_area(data, directions))\n",
        "\n",
        "data = [re.sub('[()#]','',l[2]) for l in input]\n",
        "data = [(l[-1],int(l[0:5],16)) for l in data]\n",
        "directions = {'3':(0,-1),'0':(1,0),'1':(0,1),'2':(-1,0)}\n",
        "print(calculate_area(data, directions))"
      ]
    },
    {
      "cell_type": "code",
      "execution_count": 17,
      "metadata": {
        "colab": {
          "base_uri": "https://localhost:8080/"
        },
        "id": "_xbClYvL9k-x",
        "outputId": "9fb1a351-da56-4c3b-d755-6605db7e5413"
      },
      "outputs": [
        {
          "name": "stdout",
          "output_type": "stream",
          "text": [
            "399284\n"
          ]
        }
      ],
      "source": [
        "#@title Day 19-1: Aplenty\n",
        "import operator\n",
        "\n",
        "f = fread('23-19.txt').split('\\n\\n')\n",
        "\n",
        "OPERATORS = { '<': operator.lt, '>': operator.gt }\n",
        "INDEXES = {'x': 0, 'm': 1, 'a': 2, 's': 3}\n",
        "\n",
        "class Node: \n",
        "  def __init__(self, name, rules):\n",
        "    self.name = name\n",
        "    self.rules = rules\n",
        "\n",
        "  def parse(l):\n",
        "    name = re.match('(\\w+){',l).group()[:-1]\n",
        "    \n",
        "    rules = []\n",
        "    rs = list(re.findall('{.*}',l)[0][1:-1].split(','))\n",
        "    for r in rs[:-1]:\n",
        "      idx, op, num, result = re.match('(\\w+)([<>])(\\d+):(\\w+)',r).groups()\n",
        "      rules.append(Node.__rule__(idx,op,num,result))\n",
        "    rules.append(Node.__fallback__(rs[-1]))\n",
        "\n",
        "    return Node(name, rules)\n",
        "  \n",
        "  def __rule__(idx, op, num, result):\n",
        "    return lambda part: [None,result][OPERATORS[op](part[INDEXES[idx]],int(num))]\n",
        "  \n",
        "  def __fallback__(result):\n",
        "    return lambda part: result\n",
        "\n",
        "  def process(self, part) -> None | bool | str: \n",
        "    for r in self.rules:\n",
        "      result = r(part)\n",
        "      if result != None: return result\n",
        "\n",
        "    raise Exception('No rules defined')\n",
        "  \n",
        "def process(lookup_table, part):\n",
        "  result = 'in'\n",
        "  while result not in set('AR'):\n",
        "    result = lookup_table[result].process(part)\n",
        "  return result == 'A'\n",
        "\n",
        "nodes = {Node.parse(l) for l in f[0].splitlines()}\n",
        "lookup = {n.name: n for n in nodes}\n",
        "parts = [tuple(map(int,re.match('{x=(\\d+),m=(\\d+),a=(\\d+),s=(\\d+)}',l).groups())) for l in f[1].splitlines()]\n",
        "print(sum(sum(p) for p in parts if process(lookup, p)))\n"
      ]
    },
    {
      "cell_type": "code",
      "execution_count": 48,
      "metadata": {},
      "outputs": [
        {
          "name": "stdout",
          "output_type": "stream",
          "text": [
            "121964982771486\n"
          ]
        }
      ],
      "source": [
        "#@title Day 19-2: Aplenty\n",
        "import operator\n",
        "from math import prod\n",
        "\n",
        "f = fread('23-19.txt').split('\\n\\n')\n",
        "\n",
        "OPERATORS = { '<': operator.lt, '>': operator.gt }\n",
        "INDEXES = {'x': 0, 'm': 1, 'a': 2, 's': 3}\n",
        "\n",
        "class PartRange:\n",
        "  def __init__(self, ranges={c: (1,4001) for c in 'xmas'}):\n",
        "    self.ranges = ranges\n",
        "\n",
        "  def split(self, key, op, num):\n",
        "    # print('splitting',key,op,num,'with ranges',self.ranges)\n",
        "    if op == '<':\n",
        "      if self.ranges[key][1] <= num:\n",
        "        print('returning self, None')\n",
        "        return [self, None]\n",
        "      \n",
        "      if self.ranges[key][0] > num:\n",
        "        print('returning None,Self') \n",
        "        return [None, self]\n",
        "      return [\n",
        "        PartRange({**self.ranges, key: (self.ranges[key][0],num)}),\n",
        "        PartRange({**self.ranges, key: (num, self.ranges[key][1])})\n",
        "      ]\n",
        "      \n",
        "    if self.ranges[key][1] <= num: return [None, self]\n",
        "    if self.ranges[key][0] > num: return [self, None] \n",
        "    return [\n",
        "      PartRange({**self.ranges, key: (num+1, self.ranges[key][1])}),\n",
        "      PartRange({**self.ranges, key: (self.ranges[key][0],num+1)})\n",
        "    ]\n",
        "  \n",
        "  def count(self):\n",
        "    return prod(self.ranges[key][1] - self.ranges[key][0] for key in self.ranges)\n",
        "    \n",
        "  def __str__(self) -> str:\n",
        "    return str(self.ranges)\n",
        "  \n",
        "  def __repr__(self) -> str:\n",
        "    return str(self.ranges)\n",
        "\n",
        "class Node:\n",
        "  def __init__(self, rules):\n",
        "    self.rules = rules\n",
        "\n",
        "  def parse(l):\n",
        "    rules = []\n",
        "    conditions = list(re.findall('{.*}',l)[0][1:-1].split(','))\n",
        "    for cond in conditions[:-1]:\n",
        "      rules.append(Node.__rule__(*re.match('(\\w+)([<>])(\\d+):(\\w+)',cond).groups()))\n",
        "    rules.append(Node.__fallback__(conditions[-1]))\n",
        "    return Node(rules)\n",
        "\n",
        "  def split(self, part):\n",
        "    curr = part\n",
        "    results = []\n",
        "    for r in self.rules:\n",
        "      key,p1,p2 = r(curr)\n",
        "      # print(curr,'=>',key,p1,p2)\n",
        "      if p1 != None: results.append((key, p1))\n",
        "      if p2 == None: break\n",
        "      curr = p2\n",
        "    return results\n",
        "    \n",
        "  def __rule__(idx, op, num, result) -> tuple:\n",
        "    return lambda part: tuple([result] + part.split(idx, op, int(num)))\n",
        "\n",
        "  def __fallback__(result) -> tuple:\n",
        "    return lambda part: (result, part, None)\n",
        "\n",
        "lookup = {l.split('{')[0]: Node.parse(l) for l in f[0].splitlines()}\n",
        "\n",
        "total = 0\n",
        "to_process = [('in', PartRange())]\n",
        "while to_process:\n",
        "  key,part = to_process[0]\n",
        "  to_process = to_process[1:]\n",
        "  # print(key,part)\n",
        "  if key == 'A': total += part.count()\n",
        "  if key not in set('AR'): to_process += lookup[key].split(part)\n",
        "print(total)\n",
        "#   if curr is int:\n",
        "#     total += curr\n",
        "#   else:\n",
        "#     to_process.push(curr)\n",
        "\n"
      ]
    }
  ],
  "metadata": {
    "colab": {
      "provenance": []
    },
    "kernelspec": {
      "display_name": "Python 3",
      "name": "python3"
    },
    "language_info": {
      "codemirror_mode": {
        "name": "ipython",
        "version": 3
      },
      "file_extension": ".py",
      "mimetype": "text/x-python",
      "name": "python",
      "nbconvert_exporter": "python",
      "pygments_lexer": "ipython3",
      "version": "3.11.6"
    }
  },
  "nbformat": 4,
  "nbformat_minor": 0
}
