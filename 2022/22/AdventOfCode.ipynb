{
  "nbformat": 4,
  "nbformat_minor": 0,
  "metadata": {
    "colab": {
      "provenance": [],
      "authorship_tag": "ABX9TyM+9ZNDvy4DXsjUIzXjVQuh",
      "include_colab_link": true
    },
    "kernelspec": {
      "name": "python3",
      "display_name": "Python 3"
    },
    "language_info": {
      "name": "python"
    }
  },
  "cells": [
    {
      "cell_type": "markdown",
      "metadata": {
        "id": "view-in-github",
        "colab_type": "text"
      },
      "source": [
        "<a href=\"https://colab.research.google.com/github/itchy-squid/AdventOfCode/blob/main/2022/22/AdventOfCode.ipynb\" target=\"_parent\"><img src=\"https://colab.research.google.com/assets/colab-badge.svg\" alt=\"Open In Colab\"/></a>"
      ]
    },
    {
      "cell_type": "code",
      "source": [
        "import re\n",
        "\n",
        "DIRECTIONS = [(1,0),(0,1),(-1,0),(0,-1)]\n",
        "\n",
        "class Tile:\n",
        "  WALL = '#'\n",
        "  PATH = '.'\n",
        "  VOID = ' '\n",
        "\n",
        "class MonkeyMap:\n",
        "  def __init__(self, mm):\n",
        "    self._height = len(mm)\n",
        "    self._width = max([len(l) for l in mm])\n",
        "    self._map = mm\n",
        "\n",
        "  def height(self): return self._height\n",
        "  def width(self): return self._width\n",
        "  def starting_position(self): return (self._map[0].index(Tile.PATH),0)\n",
        "\n",
        "  def tile(self, p): return [*(self._map[p[1]][p[0]:]),' '][0]\n",
        "\n",
        "  def __next_position(self, p, d):\n",
        "    return ((p[0]+d[0])%self.width(),(p[1]+d[1])%self.height())\n",
        "\n",
        "  def what_if(self, p0, d):\n",
        "    p1 = self.__next_position(p0,d)\n",
        "    match self.tile(p1):\n",
        "      case Tile.PATH: return p1\n",
        "      case Tile.WALL: return p0\n",
        "      case Tile.VOID:\n",
        "        while self.tile(p1) == Tile.VOID:\n",
        "          p1 = self.__next_position(p1,d)\n",
        "        return p1 if self.tile(p1) == Tile.PATH else p0\n",
        "\n",
        "class Person:\n",
        "  def __init__(self, pos):\n",
        "    self._d_i = 0\n",
        "    self.position = pos\n",
        "\n",
        "  def direction(self): return DIRECTIONS[self._d_i]\n",
        "  def turn(self, inc): self._d_i = (self._d_i + inc) % len(DIRECTIONS)\n",
        "\n",
        "class Turn:\n",
        "  RIGHT = 'R'\n",
        "  LEFT = 'L'\n",
        "\n",
        "class Brain:\n",
        "  def __init__(self, body, instructions):\n",
        "    self._body = body\n",
        "    self._instructions = instructions\n",
        "\n",
        "  def move(self, map):\n",
        "    #print(self._instructions)\n",
        "    now = re.search(f'(\\d+|{Turn.RIGHT}|{Turn.LEFT})', self._instructions).group()\n",
        "    self._instructions = self._instructions[len(now):]\n",
        "\n",
        "    match now:\n",
        "      case Turn.RIGHT: self._body.turn(1)\n",
        "      case Turn.LEFT: self._body.turn(-1)\n",
        "      case _:\n",
        "        for i in range(0,int(now)):\n",
        "          self._body.position = map.what_if(\n",
        "              self._body.position,\n",
        "              self._body.direction())\n",
        "\n",
        "    return self._instructions\n"
      ],
      "metadata": {
        "id": "H8dnVc6Vh5XM"
      },
      "execution_count": 23,
      "outputs": []
    },
    {
      "cell_type": "code",
      "source": [
        "from google.colab import files\n",
        "with open('2022-22-1.txt','r') as f:\n",
        "  lines = f.read().splitlines()\n",
        "\n",
        "mmap = MonkeyMap(lines[:-2])\n",
        "body = Person(mmap.starting_position())\n",
        "brain = Brain(body, lines[-1])\n",
        "\n",
        "def printScene ():\n",
        "  for y in range(0,mmap.height()):\n",
        "    print(''.join(['X' if (x,y) in visited\n",
        "                   else mmap.tile((x,y)) for x in range(0,mmap.width())]))\n",
        "\n",
        "visited = {body.position}\n",
        "while brain.move(mmap):\n",
        "  visited |= {body.position}\n",
        "  #printScene()\n",
        "  #print()\n",
        "\n",
        "row,col=body.position[1]+1,body.position[0]+1\n",
        "print((1000*row)+(4*col)+DIRECTIONS.index(body.direction()))"
      ],
      "metadata": {
        "colab": {
          "base_uri": "https://localhost:8080/"
        },
        "id": "RigrP2zZNY5c",
        "outputId": "17cf75ee-823e-4475-d398-1471c3c90f24"
      },
      "execution_count": 25,
      "outputs": [
        {
          "output_type": "stream",
          "name": "stdout",
          "text": [
            "106094\n"
          ]
        }
      ]
    }
  ]
}