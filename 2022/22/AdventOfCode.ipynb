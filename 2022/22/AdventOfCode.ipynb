{
  "nbformat": 4,
  "nbformat_minor": 0,
  "metadata": {
    "colab": {
      "provenance": [],
      "authorship_tag": "ABX9TyN5Q7YxvkBxGm6mDyq7MpaF",
      "include_colab_link": true
    },
    "kernelspec": {
      "name": "python3",
      "display_name": "Python 3"
    },
    "language_info": {
      "name": "python"
    }
  },
  "cells": [
    {
      "cell_type": "markdown",
      "metadata": {
        "id": "view-in-github",
        "colab_type": "text"
      },
      "source": [
        "<a href=\"https://colab.research.google.com/github/itchy-squid/AdventOfCode/blob/main/2022/22/AdventOfCode.ipynb\" target=\"_parent\"><img src=\"https://colab.research.google.com/assets/colab-badge.svg\" alt=\"Open In Colab\"/></a>"
      ]
    },
    {
      "cell_type": "code",
      "source": [
        "import re\n",
        "from google.colab import files\n",
        "with open('2022-22-1.txt','r') as f:\n",
        "  lines = f.read().splitlines()\n",
        "\n",
        "DIRECTIONS = [(1,0),(0,1),(-1,0),(0,-1)]\n",
        "\n",
        "class Tile:\n",
        "  WALL = '#'\n",
        "  PATH = '.'\n",
        "  VOID = ' '\n",
        "\n",
        "class MonkeyMap:\n",
        "  def __init__(self, mm):\n",
        "    self._height = len(mm)\n",
        "    self._width = max([len(l) for l in mm])\n",
        "    self._map = mm\n",
        "\n",
        "  def height(self): return self._height\n",
        "  def width(self): return self._width\n",
        "\n",
        "  def tile(self, p): return [*(self._map[p[1]][p[0]:]),' '][0]\n",
        "\n",
        "  def what_if(self, p0, d):\n",
        "    p1 = add(p0,d)\n",
        "    match tile(p1):\n",
        "      case Tile.PATH: return p1\n",
        "      case Tile.WALL: return p0\n",
        "      case Tile.VOID:\n",
        "        while tile(p1) == Tile.VOID:\n",
        "          p1 = add(p1,d)\n",
        "        return p1\n",
        "\n",
        "class Person:\n",
        "  def __init__(self, pos):\n",
        "    self._d_i = 0\n",
        "    self.position = pos\n",
        "\n",
        "  def direction(self): return DIRECTIONS[self._direction_i]\n",
        "\n",
        "monkey_map = lines[:-2]\n",
        "instructions = lines[-1]\n",
        "\n",
        "class Turn:\n",
        "  RIGHT = 'R'\n",
        "  LEFT = 'L'\n"
      ],
      "metadata": {
        "id": "H8dnVc6Vh5XM"
      },
      "execution_count": 38,
      "outputs": []
    },
    {
      "cell_type": "code",
      "source": [
        "\n",
        "def add(p,d): return ((p[0]+d[0])%w,(p[1]+d[1])%h)\n",
        "\n",
        "pos = (mmap[0].index(Tile.PATH),0)\n",
        "visited = {pos}\n",
        "next = instructions\n",
        "\n",
        "def printScene ():\n",
        "  for y in range(0,h):\n",
        "    print(''.join(['X' if (x,y) in visited else tile((x,y)) for x in range(0,w)]))\n",
        "\n",
        "while next != '':\n",
        "  #printScene()\n",
        "  now = re.search(f'(\\d+|{Turn.RIGHT}|{Turn.LEFT})', next).group()\n",
        "  next = next[len(now):]\n",
        "\n",
        "  match now:\n",
        "    case Turn.RIGHT: d_i = (d_i + 1) % len(dirs)\n",
        "    case Turn.LEFT: d_i = (d_i - 1) % len(dirs)\n",
        "    case _:\n",
        "      for i in range(0,int(now)):\n",
        "        pos = step(pos, dirs[d_i])\n",
        "        visited |= {pos}\n",
        "\n",
        "#printScene()\n",
        "\n",
        "row,col=pos[1]+1,pos[0]+1\n",
        "print((1000*row)+(4*col)+d_i)"
      ],
      "metadata": {
        "colab": {
          "base_uri": "https://localhost:8080/"
        },
        "id": "RigrP2zZNY5c",
        "outputId": "7fb153d7-fb94-4a3b-8329-9b755dda2aa6"
      },
      "execution_count": 35,
      "outputs": [
        {
          "output_type": "stream",
          "name": "stdout",
          "text": [
            "45258\n"
          ]
        }
      ]
    }
  ]
}