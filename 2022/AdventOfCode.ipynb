{
  "nbformat": 4,
  "nbformat_minor": 0,
  "metadata": {
    "colab": {
      "provenance": [],
      "authorship_tag": "ABX9TyOMqI854nKTSuFg3qSBv3kI",
      "include_colab_link": true
    },
    "kernelspec": {
      "name": "python3",
      "display_name": "Python 3"
    },
    "language_info": {
      "name": "python"
    }
  },
  "cells": [
    {
      "cell_type": "markdown",
      "metadata": {
        "id": "view-in-github",
        "colab_type": "text"
      },
      "source": [
        "<a href=\"https://colab.research.google.com/github/itchy-squid/AdventOfCode/blob/main/2022/AdventOfCode.ipynb\" target=\"_parent\"><img src=\"https://colab.research.google.com/assets/colab-badge.svg\" alt=\"Open In Colab\"/></a>"
      ]
    },
    {
      "cell_type": "code",
      "source": [
        "#@title 16\n",
        "import sys, re\n",
        "from google.colab import files\n",
        "with open('input.txt','r') as f:\n",
        "  lines = [re.split('[ ,;=]+',line) for line in f.read().splitlines()]\n",
        "flows = {x[1]: int(x[5]) for x in lines if int(x[5]) != 0}\n",
        "bits = {x: 1<<i for i,x in enumerate(flows)}\n",
        "graph = {x[1]: set(x[10:]) for x in lines}\n",
        "distances = {x: {y: 1 if y in graph[x] else float('+inf') for y in graph} for x in graph}\n",
        "\n",
        "for k in distances:\n",
        "  for i in distances:\n",
        "    for j in distances:\n",
        "      distances[i][j] = min(distances[i][j], distances[i][k]+distances[k][j])\n",
        "\n",
        "def visit (x, budget, state, flow, bests):\n",
        "  bests[state] = max(bests.get(state, 0), flow)\n",
        "  for y in flows:\n",
        "    newbudget = budget - distances[x][y] - 1\n",
        "    if newbudget <= 0 or bits[y] & state: continue\n",
        "    visit(y, newbudget, state | bits[y], flow + newbudget*flows[y], bests)\n",
        "  return bests\n",
        "\n",
        "visit30 = visit ('AA', 30, 0, 0, {})\n",
        "print(max(visit30.values()))\n",
        "\n",
        "visit26 = visit('AA', 26, 0, 0, {})\n",
        "best26 = max(eBest+myBest for eState, eBest in visit26.items()\n",
        "                        for myState, myBest in visit26.items() if myState & eState == 0)\n",
        "print(best26)\n"
      ],
      "metadata": {
        "id": "SLezVXpjHJkk",
        "colab": {
          "base_uri": "https://localhost:8080/"
        },
        "outputId": "548f9d24-089f-4cb3-d48f-9f8ef3054347",
        "cellView": "form"
      },
      "execution_count": null,
      "outputs": [
        {
          "output_type": "stream",
          "name": "stdout",
          "text": [
            "1896\n",
            "2576\n"
          ]
        }
      ]
    },
    {
      "cell_type": "code",
      "source": [
        "#@title 18-1\n",
        "import sys, re\n",
        "from google.colab import files\n",
        "with open('2022-18-0.txt','r') as f:\n",
        "  cubes = {tuple(map(int,line.split(','))) for line in f.read().splitlines()}\n",
        "\n",
        "sides = lambda x,y,z: {(x-1,y,z):1,(x+1,y,z):2,(x,y-1,z):4,(x,y+1,z):8,(x,y,z-1):16,(x,y,z+1):32}\n",
        "\n",
        "print(sum(1 for c in cubes for s in sides(*c) if s not in cubes))"
      ],
      "metadata": {
        "id": "bS8y_LKug3Ez",
        "colab": {
          "base_uri": "https://localhost:8080/"
        },
        "cellView": "form",
        "outputId": "ed5c04d5-f163-45ef-eb66-04e5e44c7af1"
      },
      "execution_count": 4,
      "outputs": [
        {
          "output_type": "stream",
          "name": "stdout",
          "text": [
            "64\n"
          ]
        }
      ]
    },
    {
      "cell_type": "code",
      "source": [
        "#@title 18-2\n",
        "import sys, re\n",
        "from google.colab import files\n",
        "with open('2022-18-0.txt','r') as f:\n",
        "  cubes = {tuple(map(int,line.split(','))) for line in f.read().splitlines()}\n",
        "\n",
        "sides = lambda x,y,z: {(x-1,y,z):1,(x+1,y,z):2,(x,y-1,z):4,(x,y+1,z):8,(x,y,z-1):16,(x,y,z+1):32}\n",
        "\n",
        "print(sum(1 for c in cubes for s in sides(*c) if s not in cubes))"
      ],
      "metadata": {
        "id": "D0zd15s41pwB"
      },
      "execution_count": null,
      "outputs": []
    },
    {
      "cell_type": "code",
      "source": [],
      "metadata": {
        "id": "oEARGLH0h8qq"
      },
      "execution_count": null,
      "outputs": []
    }
  ]
}