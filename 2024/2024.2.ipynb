{
  "nbformat": 4,
  "nbformat_minor": 0,
  "metadata": {
    "colab": {
      "provenance": [],
      "authorship_tag": "ABX9TyMJRDS/Zo9aiLLvNILuunr0",
      "include_colab_link": true
    },
    "kernelspec": {
      "name": "python3",
      "display_name": "Python 3"
    },
    "language_info": {
      "name": "python"
    }
  },
  "cells": [
    {
      "cell_type": "markdown",
      "metadata": {
        "id": "view-in-github",
        "colab_type": "text"
      },
      "source": [
        "<a href=\"https://colab.research.google.com/github/itchy-squid/AdventOfCode/blob/main/2024/2024.2.ipynb\" target=\"_parent\"><img src=\"https://colab.research.google.com/assets/colab-badge.svg\" alt=\"Open In Colab\"/></a>"
      ]
    },
    {
      "cell_type": "code",
      "execution_count": 17,
      "metadata": {
        "id": "2t4VCKYVF1tw"
      },
      "outputs": [],
      "source": [
        "from google.colab import files\n",
        "fread = lambda path: open(path,'r').read()"
      ]
    },
    {
      "cell_type": "code",
      "source": [
        "#@title Day 10:\n",
        "DEBUG = False\n",
        "\n",
        "sample = '''.....0.\n",
        "..4321.\n",
        "..5..2.\n",
        "..6543.\n",
        "..7..4.\n",
        "..8765.\n",
        "..9....'''\n",
        "input = sample if DEBUG else fread('input 10.txt')\n",
        "topography = input.splitlines()\n",
        "\n",
        "L = len(topography)\n",
        "W = len(topography[0])\n",
        "TRAILHEAD = '0'\n",
        "SUMMIT = '9'\n",
        "NOISE = '.'\n",
        "\n",
        "def neighbors(i,j):\n",
        "  return [(i+deltaI,j+deltaJ) for deltaI,deltaJ in [(-1,0),(0,-1),(1,0),(0,1)]]\n",
        "\n",
        "def score(m,i0,j0):\n",
        "  toVisit = [(i0,j0)]\n",
        "  summits = set()\n",
        "  while toVisit:\n",
        "    i,j = toVisit.pop()\n",
        "    currLevel = m[i][j]\n",
        "    if(currLevel == SUMMIT):\n",
        "      summits.add((i,j))\n",
        "      continue\n",
        "    nextLevel = str(int(currLevel)+1)\n",
        "    ns = neighbors(i,j)\n",
        "    toVisit = toVisit + \\\n",
        "     [(iN,jN) for iN,jN in neighbors(i,j)\n",
        "      if -1<iN<L and -1<jN<W and m[iN][jN] == nextLevel]\n",
        "  return len(summits)\n",
        "\n",
        "def rating(m,i0,j0):\n",
        "  return 0\n",
        "\n",
        "def trailheads(m):\n",
        "  return [(i,j) for j in range(W) for i in range(L) if m[i][j] == TRAILHEAD]\n",
        "\n",
        "print(sum([score(topography, i,j) for i,j in trailheads(topography)]))\n",
        "print(sum([rating(topography, i,j) for i,j in trailheads(topography)]))"
      ],
      "metadata": {
        "colab": {
          "base_uri": "https://localhost:8080/"
        },
        "id": "3GI9JzokGfoo",
        "outputId": "ac2340c7-15fe-4bf3-e9ce-34207fcb183a"
      },
      "execution_count": 19,
      "outputs": [
        {
          "output_type": "stream",
          "name": "stdout",
          "text": [
            "652\n",
            "0\n"
          ]
        }
      ]
    }
  ]
}