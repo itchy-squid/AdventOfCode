{
  "nbformat": 4,
  "nbformat_minor": 0,
  "metadata": {
    "colab": {
      "provenance": [],
      "authorship_tag": "ABX9TyPY4o2gnLEpj/k1H2PGMR4b",
      "include_colab_link": true
    },
    "kernelspec": {
      "name": "python3",
      "display_name": "Python 3"
    },
    "language_info": {
      "name": "python"
    }
  },
  "cells": [
    {
      "cell_type": "markdown",
      "metadata": {
        "id": "view-in-github",
        "colab_type": "text"
      },
      "source": [
        "<a href=\"https://colab.research.google.com/github/itchy-squid/AdventOfCode/blob/main/2024/2024.2.ipynb\" target=\"_parent\"><img src=\"https://colab.research.google.com/assets/colab-badge.svg\" alt=\"Open In Colab\"/></a>"
      ]
    },
    {
      "cell_type": "code",
      "execution_count": null,
      "metadata": {
        "id": "2t4VCKYVF1tw"
      },
      "outputs": [],
      "source": [
        "from google.colab import files\n",
        "fread = lambda path: open(path,'r').read()"
      ]
    },
    {
      "cell_type": "code",
      "source": [
        "#@title Day 10:\n",
        "input = fread('input 10.txt')\n",
        "topography = input.splitlines()\n",
        "\n",
        "L = len(topography)\n",
        "W = len(topography[0])\n",
        "TRAILHEAD = '0'\n",
        "SUMMIT = '9'\n",
        "NOISE = '.'\n",
        "\n",
        "trailheads = lambda m: [(i,j) for j in range(W) for i in range(L) if m[i][j] == TRAILHEAD]\n",
        "neighbors = lambda i,j: [(i+deltaI,j+deltaJ) for deltaI,deltaJ in [(-1,0),(0,-1),(1,0),(0,1)]]\n",
        "score = lambda m,i,j: len(set([p[-1] for p in getPaths(m,i,j)]))\n",
        "rating = lambda m,i,j: len(getPaths(m,i,j))\n",
        "\n",
        "def getPaths(m,i0,j0):\n",
        "  toVisit = [[(i0,j0)]]\n",
        "  paths = []\n",
        "  while toVisit:\n",
        "    path = toVisit.pop()\n",
        "    i,j = path[-1]\n",
        "    nextLevel = str(int(m[i][j])+1)\n",
        "    viableNeighbors = [path+[(iN,jN)] for iN,jN in neighbors(i,j) if -1<iN<L and -1<jN<W and m[iN][jN] == nextLevel]\n",
        "    if nextLevel == SUMMIT: paths = paths + viableNeighbors\n",
        "    else: toVisit = toVisit + viableNeighbors\n",
        "  return paths\n",
        "\n",
        "print(sum([score(topography, i,j) for i,j in trailheads(topography)]))\n",
        "print(sum([rating(topography, i,j) for i,j in trailheads(topography)]))"
      ],
      "metadata": {
        "colab": {
          "base_uri": "https://localhost:8080/"
        },
        "id": "3GI9JzokGfoo",
        "outputId": "ab226bcf-e5b1-4e40-cba3-b5aca6122632"
      },
      "execution_count": 26,
      "outputs": [
        {
          "output_type": "stream",
          "name": "stdout",
          "text": [
            "652\n",
            "1432\n"
          ]
        }
      ]
    }
  ]
}