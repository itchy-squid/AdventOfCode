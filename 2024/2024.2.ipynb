{
  "nbformat": 4,
  "nbformat_minor": 0,
  "metadata": {
    "colab": {
      "provenance": [],
      "authorship_tag": "ABX9TyO2fYf0LolDak3ZJ/FSGK+l",
      "include_colab_link": true
    },
    "kernelspec": {
      "name": "python3",
      "display_name": "Python 3"
    },
    "language_info": {
      "name": "python"
    }
  },
  "cells": [
    {
      "cell_type": "markdown",
      "metadata": {
        "id": "view-in-github",
        "colab_type": "text"
      },
      "source": [
        "<a href=\"https://colab.research.google.com/github/itchy-squid/AdventOfCode/blob/main/2024/2024.2.ipynb\" target=\"_parent\"><img src=\"https://colab.research.google.com/assets/colab-badge.svg\" alt=\"Open In Colab\"/></a>"
      ]
    },
    {
      "cell_type": "code",
      "execution_count": 7,
      "metadata": {
        "id": "2t4VCKYVF1tw"
      },
      "outputs": [],
      "source": [
        "from google.colab import files\n",
        "fread = lambda path: open(path,'r').read()"
      ]
    },
    {
      "cell_type": "code",
      "source": [
        "#@title Day 10: Hoof It\n",
        "input = fread('input 10.txt')\n",
        "topography = input.splitlines()\n",
        "\n",
        "L = len(topography)\n",
        "W = len(topography[0])\n",
        "TRAILHEAD = '0'\n",
        "SUMMIT = '9'\n",
        "NOISE = '.'\n",
        "\n",
        "trailheads = lambda m: [(i,j) for j in range(W) for i in range(L) if m[i][j] == TRAILHEAD]\n",
        "neighbors = lambda i,j: [(i+deltaI,j+deltaJ) for deltaI,deltaJ in [(-1,0),(0,-1),(1,0),(0,1)]]\n",
        "score = lambda m,i,j: len(set([p[-1] for p in getPaths(m,i,j)]))\n",
        "rating = lambda m,i,j: len(getPaths(m,i,j))\n",
        "\n",
        "def getPaths(m,i0,j0):\n",
        "  toVisit = [[(i0,j0)]]\n",
        "  paths = []\n",
        "  while toVisit:\n",
        "    path = toVisit.pop()\n",
        "    i,j = path[-1]\n",
        "    nextLevel = str(int(m[i][j])+1)\n",
        "    viableNeighbors = [path+[(iN,jN)] for iN,jN in neighbors(i,j) if -1<iN<L and -1<jN<W and m[iN][jN] == nextLevel]\n",
        "    if nextLevel == SUMMIT: paths = paths + viableNeighbors\n",
        "    else: toVisit = toVisit + viableNeighbors\n",
        "  return paths\n",
        "\n",
        "print(sum([score(topography, i,j) for i,j in trailheads(topography)]))\n",
        "print(sum([rating(topography, i,j) for i,j in trailheads(topography)]))"
      ],
      "metadata": {
        "colab": {
          "base_uri": "https://localhost:8080/"
        },
        "id": "3GI9JzokGfoo",
        "outputId": "ab226bcf-e5b1-4e40-cba3-b5aca6122632",
        "cellView": "form"
      },
      "execution_count": null,
      "outputs": [
        {
          "output_type": "stream",
          "name": "stdout",
          "text": [
            "652\n",
            "1432\n"
          ]
        }
      ]
    },
    {
      "cell_type": "code",
      "source": [
        "#@title Day 11: Plutonian Pebbles\n",
        "import re\n",
        "\n",
        "input = fread('input 11.txt')\n",
        "lines = list(map(int,re.split('\\s+',input.strip())))\n",
        "\n",
        "def applyRules(n):\n",
        "  s = str(n)\n",
        "  if n == 0: return [1]\n",
        "  if len(s) % 2 == 0: return [int(s[0:int(len(s)/2)]), int(s[int(len(s)/2):])]\n",
        "  return [2024 * n]\n",
        "\n",
        "def blinkOne(n,ct,cache):\n",
        "  if ct == 0: return 1\n",
        "  if (n,ct) not in cache:\n",
        "    cache[(n,ct)] = sum(blinkOne(m,ct-1,cache) for m in applyRules(n))\n",
        "  return cache[(n,ct)]\n",
        "\n",
        "def blink(ns,ct):\n",
        "  cache = {}\n",
        "  return sum([blinkOne(n,ct,cache) for n in ns])\n",
        "\n",
        "print(blink(lines,25))\n",
        "print(blink(lines,75))"
      ],
      "metadata": {
        "colab": {
          "base_uri": "https://localhost:8080/"
        },
        "id": "dg7Jh5YfY8Fw",
        "outputId": "2c148249-01cc-4c8e-b7db-95684ce6b741"
      },
      "execution_count": 12,
      "outputs": [
        {
          "output_type": "stream",
          "name": "stdout",
          "text": [
            "200446\n",
            "238317474993392\n"
          ]
        }
      ]
    }
  ]
}