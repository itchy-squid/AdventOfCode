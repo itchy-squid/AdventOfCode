{
  "nbformat": 4,
  "nbformat_minor": 0,
  "metadata": {
    "colab": {
      "provenance": [],
      "authorship_tag": "ABX9TyNGJDqJiVV4kRRXmNE9XwWa",
      "include_colab_link": true
    },
    "kernelspec": {
      "name": "python3",
      "display_name": "Python 3"
    },
    "language_info": {
      "name": "python"
    }
  },
  "cells": [
    {
      "cell_type": "markdown",
      "metadata": {
        "id": "view-in-github",
        "colab_type": "text"
      },
      "source": [
        "<a href=\"https://colab.research.google.com/github/itchy-squid/AdventOfCode/blob/active/2024/2024.1.ipynb\" target=\"_parent\"><img src=\"https://colab.research.google.com/assets/colab-badge.svg\" alt=\"Open In Colab\"/></a>"
      ]
    },
    {
      "cell_type": "code",
      "source": [
        "from google.colab import files\n",
        "fread = lambda path: open(path,'r').read()"
      ],
      "metadata": {
        "id": "pwtaPjV7lVPJ"
      },
      "execution_count": 1,
      "outputs": []
    },
    {
      "cell_type": "code",
      "source": [
        "#@title Day 1: Historian Histeria\n",
        "input = [l.split('   ') for l in fread('01.txt').splitlines()]\n",
        "a = [int(l[0]) for l in input]\n",
        "b = [int(l[1]) for l in input]\n",
        "a.sort()\n",
        "b.sort()\n",
        "ds = [abs(a[i]-b[i]) for i in range(len(a))]\n",
        "print(sum(ds))\n",
        "print(sum([x * b.count(x) for x in a]))"
      ],
      "metadata": {
        "id": "lcMDi_mSlXTL",
        "cellView": "form"
      },
      "execution_count": null,
      "outputs": []
    },
    {
      "cell_type": "code",
      "source": [
        "#@title Day 2: Red-Nosed Reports\n",
        "import math\n",
        "lines = [[int(i) for i in l.split(' ')] for l in fread('02.txt').splitlines()]\n",
        "\n",
        "part1 = lambda l: all([(0 < (math.copysign(1,l[1] - l[0]) * (l[j] - l[j-1])) < 4) for j in range(1,len(l))])\n",
        "part2 = lambda l: part1(l) or any([part1(l[0:j]+l[j+1:]) for j in range(len(l))])\n",
        "\n",
        "print(sum([part1(l) for l in lines]))\n",
        "print(sum([part2(l) for l in lines]))"
      ],
      "metadata": {
        "colab": {
          "base_uri": "https://localhost:8080/"
        },
        "id": "-i2d2o-8qgAF",
        "outputId": "9129a3fa-070d-4a6b-d34e-81eb8675ffae",
        "cellView": "form"
      },
      "execution_count": 100,
      "outputs": [
        {
          "output_type": "stream",
          "name": "stdout",
          "text": [
            "421\n",
            "476\n"
          ]
        }
      ]
    },
    {
      "cell_type": "code",
      "source": [
        "#@title Day 3: Mull It Over\n",
        "import re\n",
        "input = fread('input 3.txt')\n",
        "\n",
        "muls = r'mul\\((?P<x>\\d+),(?P<y>\\d+)\\)'\n",
        "part1 = lambda l: sum([int(m['x'])*int(m['y']) for m in re.finditer(muls,l)])\n",
        "part2 = lambda ls: sum([part1(l.split('don\\'t()')[0]) for l in ls.split('do()')])\n",
        "\n",
        "print(part1(input))\n",
        "print(part2(input))"
      ],
      "metadata": {
        "colab": {
          "base_uri": "https://localhost:8080/"
        },
        "cellView": "form",
        "id": "dIckiLlGCIUm",
        "outputId": "3ee9a375-158e-456f-84af-579ddf6200ba"
      },
      "execution_count": 129,
      "outputs": [
        {
          "output_type": "stream",
          "name": "stdout",
          "text": [
            "196826776\n",
            "106780429\n"
          ]
        }
      ]
    },
    {
      "cell_type": "code",
      "source": [
        "#@title Day 4-1: Ceres Search\n",
        "input = fread('input 4.txt').splitlines()\n",
        "\n",
        "def rotate45(m):\n",
        "  L = len(m)\n",
        "  W = len(m[0])\n",
        "  return [[ m[min(r,L-1)-d][max(0,r-L+1)+d]\n",
        "      for d in range(min(W,L-abs(r-L+1)))]\n",
        "      for r in range(L+W-1)]\n",
        "\n",
        "rotate90 = lambda m: list(zip(*m[::-1]))\n",
        "xmas = lambda m: sum([''.join(l).count('XMAS') for l in m])\n",
        "\n",
        "acc = (0,input)\n",
        "[acc := (acc[0]+xmas(acc[1])+xmas(rotate45(acc[1])),rotate90(acc[1])) for i in range(0,4)]\n",
        "print(acc[0])"
      ],
      "metadata": {
        "colab": {
          "base_uri": "https://localhost:8080/"
        },
        "id": "9hErabBvO6lo",
        "outputId": "cc55f64c-e2f0-4a7b-bf4c-659f30f1dea1"
      },
      "execution_count": 45,
      "outputs": [
        {
          "output_type": "stream",
          "name": "stdout",
          "text": [
            "2646\n",
            "2646\n"
          ]
        }
      ]
    }
  ]
}