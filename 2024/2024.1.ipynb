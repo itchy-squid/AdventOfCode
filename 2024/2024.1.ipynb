{
  "nbformat": 4,
  "nbformat_minor": 0,
  "metadata": {
    "colab": {
      "provenance": [],
      "authorship_tag": "ABX9TyNO3fbcBeaT3fAQ0mjUBuXT",
      "include_colab_link": true
    },
    "kernelspec": {
      "name": "python3",
      "display_name": "Python 3"
    },
    "language_info": {
      "name": "python"
    }
  },
  "cells": [
    {
      "cell_type": "markdown",
      "metadata": {
        "id": "view-in-github",
        "colab_type": "text"
      },
      "source": [
        "<a href=\"https://colab.research.google.com/github/itchy-squid/AdventOfCode/blob/main/2024/2024.1.ipynb\" target=\"_parent\"><img src=\"https://colab.research.google.com/assets/colab-badge.svg\" alt=\"Open In Colab\"/></a>"
      ]
    },
    {
      "cell_type": "code",
      "source": [
        "from google.colab import files\n",
        "fread = lambda path: open(path,'r').read()"
      ],
      "metadata": {
        "id": "pwtaPjV7lVPJ"
      },
      "execution_count": 48,
      "outputs": []
    },
    {
      "cell_type": "code",
      "source": [
        "#@title Day 1: Historian Histeria\n",
        "input = [l.split('   ') for l in fread('01.txt').splitlines()]\n",
        "a = [int(l[0]) for l in input]\n",
        "b = [int(l[1]) for l in input]\n",
        "a.sort()\n",
        "b.sort()\n",
        "ds = [abs(a[i]-b[i]) for i in range(len(a))]\n",
        "print(sum(ds))\n",
        "print(sum([x * b.count(x) for x in a]))"
      ],
      "metadata": {
        "colab": {
          "base_uri": "https://localhost:8080/"
        },
        "id": "lcMDi_mSlXTL",
        "outputId": "5594cb41-8875-4274-82ae-e891a333b4d9"
      },
      "execution_count": null,
      "outputs": [
        {
          "output_type": "stream",
          "name": "stdout",
          "text": [
            "2430334\n",
            "28786472\n"
          ]
        }
      ]
    },
    {
      "cell_type": "code",
      "source": [
        "#@title Day 2: Red-Nosed Reports\n",
        "import math\n",
        "lines = [[int(i) for i in l.split(' ')] for l in fread('02.txt').splitlines()]\n",
        "\n",
        "part1 = lambda l: all([(0 < (math.copysign(1,l[1] - l[0]) * (l[j] - l[j-1])) < 4) for j in range(1,len(l))])\n",
        "part2 = lambda l: part1(l) or any([part1(l[0:j]+l[j+1:]) for j in range(len(l))])\n",
        "\n",
        "print(sum([part1(l) for l in lines])) # 421\n",
        "print(sum([part2(l) for l in lines])) # 476"
      ],
      "metadata": {
        "colab": {
          "base_uri": "https://localhost:8080/"
        },
        "id": "-i2d2o-8qgAF",
        "outputId": "dd47a243-c7e9-406f-be37-87e50100d248"
      },
      "execution_count": 82,
      "outputs": [
        {
          "output_type": "stream",
          "name": "stdout",
          "text": [
            "421\n",
            "476\n"
          ]
        }
      ]
    }
  ]
}