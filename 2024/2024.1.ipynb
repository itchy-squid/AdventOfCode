{
  "nbformat": 4,
  "nbformat_minor": 0,
  "metadata": {
    "colab": {
      "provenance": [],
      "authorship_tag": "ABX9TyPb8GZHSDnZZwSowtqDcjTa",
      "include_colab_link": true
    },
    "kernelspec": {
      "name": "python3",
      "display_name": "Python 3"
    },
    "language_info": {
      "name": "python"
    }
  },
  "cells": [
    {
      "cell_type": "markdown",
      "metadata": {
        "id": "view-in-github",
        "colab_type": "text"
      },
      "source": [
        "<a href=\"https://colab.research.google.com/github/itchy-squid/AdventOfCode/blob/main/2024/2024.1.ipynb\" target=\"_parent\"><img src=\"https://colab.research.google.com/assets/colab-badge.svg\" alt=\"Open In Colab\"/></a>"
      ]
    },
    {
      "cell_type": "code",
      "source": [
        "from google.colab import files\n",
        "fread = lambda path: open(path,'r').read()"
      ],
      "metadata": {
        "id": "pwtaPjV7lVPJ"
      },
      "execution_count": 32,
      "outputs": []
    },
    {
      "cell_type": "code",
      "source": [
        "#@title Day 1: Historian Histeria\n",
        "input = [l.split('   ') for l in fread('input.txt').splitlines()]\n",
        "a = [int(l[0]) for l in input]\n",
        "b = [int(l[1]) for l in input]\n",
        "a.sort()\n",
        "b.sort()\n",
        "ds = [abs(a[i]-b[i]) for i in range(len(a))]\n",
        "print(sum(ds))\n",
        "print(sum([x * b.count(x) for x in a]))"
      ],
      "metadata": {
        "colab": {
          "base_uri": "https://localhost:8080/"
        },
        "id": "lcMDi_mSlXTL",
        "outputId": "2396ba8f-65fc-4609-c1ca-3ae5ea0c4e04",
        "cellView": "form"
      },
      "execution_count": null,
      "outputs": [
        {
          "output_type": "stream",
          "name": "stdout",
          "text": [
            "2430334\n",
            "28786472\n"
          ]
        }
      ]
    },
    {
      "cell_type": "code",
      "source": [
        "#@title Day 2: Red-Nosed Reports\n",
        "import math\n",
        "lines = [[int(i) for i in l.split(' ')] for l in fread('input 2.txt').splitlines()]\n",
        "\n",
        "part1 = lambda l: all([(0 < (math.copysign(1,l[1] - l[0]) * (l[j] - l[j-1])) < 4) for j in range(1,len(l))])\n",
        "part2 = lambda l: part1(l) or any([part1(l[0:j]+l[j+1:]) for j in range(len(l))])\n",
        "\n",
        "print(sum([part1(l) for l in lines]))\n",
        "print(sum([part2(l) for l in lines]))"
      ],
      "metadata": {
        "colab": {
          "base_uri": "https://localhost:8080/"
        },
        "id": "-i2d2o-8qgAF",
        "outputId": "6794d8d3-4e20-402d-ac6b-c3db781299d4",
        "cellView": "form"
      },
      "execution_count": null,
      "outputs": [
        {
          "output_type": "stream",
          "name": "stdout",
          "text": [
            "421\n",
            "476\n"
          ]
        }
      ]
    },
    {
      "cell_type": "code",
      "source": [
        "#@title Day 3: Mull It Over\n",
        "import re\n",
        "input = fread('input 3.txt')\n",
        "\n",
        "muls = r'mul\\((?P<x>\\d+),(?P<y>\\d+)\\)'\n",
        "part1 = lambda l: sum([int(m['x'])*int(m['y']) for m in re.finditer(muls,l)])\n",
        "part2 = lambda ls: sum([part1(l.split('don\\'t()')[0]) for l in ls.split('do()')])\n",
        "\n",
        "print(part1(input))\n",
        "print(part2(input))"
      ],
      "metadata": {
        "colab": {
          "base_uri": "https://localhost:8080/"
        },
        "cellView": "form",
        "id": "dIckiLlGCIUm",
        "outputId": "09f3454f-d558-4206-9a12-9f07ddfdd137"
      },
      "execution_count": null,
      "outputs": [
        {
          "output_type": "stream",
          "name": "stdout",
          "text": [
            "196826776\n",
            "106780429\n"
          ]
        }
      ]
    },
    {
      "cell_type": "code",
      "source": [
        "#@title Day 4-1: Ceres Search\n",
        "input = fread('input 4.txt').splitlines()\n",
        "\n",
        "def rotate45(m):\n",
        "  L = len(m)\n",
        "  W = len(m[0])\n",
        "  return [[ m[min(r,L-1)-d][max(0,r-L+1)+d]\n",
        "      for d in range(min(W,L-abs(r-L+1)))]\n",
        "      for r in range(L+W-1)]\n",
        "\n",
        "rotate90 = lambda m: list(zip(*m[::-1]))\n",
        "xmas = lambda m: sum([''.join(l).count('XMAS') for l in m])\n",
        "\n",
        "# part 1\n",
        "acc = (0,input)\n",
        "[acc := (acc[0]+xmas(acc[1])+xmas(rotate45(acc[1])),rotate90(acc[1])) for i in range(0,4)]\n",
        "print(acc[0])"
      ],
      "metadata": {
        "colab": {
          "base_uri": "https://localhost:8080/"
        },
        "cellView": "form",
        "id": "9hErabBvO6lo",
        "outputId": "f33935db-54c0-492a-a706-f4c0f9c4dc9a"
      },
      "execution_count": null,
      "outputs": [
        {
          "output_type": "stream",
          "name": "stdout",
          "text": [
            "2646\n"
          ]
        }
      ]
    },
    {
      "cell_type": "code",
      "source": [
        "#@title Day 4-2: Ceres Search\n",
        "input = fread('input 4.txt').splitlines()\n",
        "\n",
        "isLeg = lambda s: s in {'MAS','SAM'}\n",
        "isXmas = lambda m,i,j: isLeg(str(m[i-1][j-1]+m[i][j]+m[i+1][j+1])) and isLeg(str(m[i-1][j+1]+m[i][j]+m[i+1][j-1]))\n",
        "\n",
        "print(sum([isXmas(input,i,j) for j in range(1,len(input[0])-1) for i in range(1,len(input)-1)]))"
      ],
      "metadata": {
        "colab": {
          "base_uri": "https://localhost:8080/"
        },
        "cellView": "form",
        "id": "g3agqyEXTfks",
        "outputId": "d093978b-e0d8-41cc-e163-3e1dd9072451"
      },
      "execution_count": null,
      "outputs": [
        {
          "output_type": "stream",
          "name": "stdout",
          "text": [
            "2000\n"
          ]
        }
      ]
    },
    {
      "cell_type": "code",
      "source": [
        "#@title Day 7: Bridge Repair\n",
        "import re\n",
        "import numpy as np\n",
        "\n",
        "sample = '''190: 10 19\n",
        "3267: 81 40 27\n",
        "83: 17 5\n",
        "156: 15 6\n",
        "7290: 6 8 6 15\n",
        "161011: 16 10 13\n",
        "192: 17 8 14\n",
        "21037: 9 7 18 13\n",
        "292: 11 6 16 20'''\n",
        "\n",
        "DEBUG = False\n",
        "input = sample if DEBUG else fread('input 7.txt')\n",
        "\n",
        "lines = [list(map(int,re.split(r':? ',l))) for l in input.splitlines()]\n",
        "operators = [lambda a,b:a+b,lambda a,b:a*b, lambda a,b: int(str(a)+str(b))]\n",
        "toBits = lambda n,digits: [int(c) for c in np.base_repr(n,base=3,padding=50)[-digits:]]\n",
        "\n",
        "def calc(target,opFlags,values):\n",
        "  acc = values[0]\n",
        "  [acc := operators[opFlags[i]](acc,values[i+1]) for i in range(len(opFlags))]\n",
        "  return acc\n",
        "\n",
        "def isValid(target,*values):\n",
        "  return any([target == calc(target,toBits(n,len(values)-1),values) for n in range(len(operators) ** (len(values)-1))])\n",
        "\n",
        "print(sum([l[0] for l in lines if isValid(*l)]))"
      ],
      "metadata": {
        "id": "XtRNuVbQyUNR",
        "outputId": "bc2e0d7d-e785-41ba-d29a-56540526da51",
        "colab": {
          "base_uri": "https://localhost:8080/"
        },
        "cellView": "form"
      },
      "execution_count": null,
      "outputs": [
        {
          "output_type": "stream",
          "name": "stdout",
          "text": [
            "337041851384440\n"
          ]
        }
      ]
    },
    {
      "cell_type": "code",
      "source": [
        "#@title Day 9: Disk Fragmenter\n",
        "DEBUG = False\n",
        "\n",
        "sample = '2333133121414131402'\n",
        "input = list(map(int,(sample if DEBUG else fread('input 9.txt')).strip()))\n",
        "\n",
        "def part1(input):\n",
        "  disks = input[::2]\n",
        "  spaces = input[1::2]\n",
        "\n",
        "  acc = 0\n",
        "  j = 0\n",
        "  finalLen = sum(disks)\n",
        "\n",
        "  for i in range(len(disks)):\n",
        "    for _ in range(disks[i]):\n",
        "      acc += j * i\n",
        "      k += str(i)\n",
        "      j += 1\n",
        "\n",
        "    if j >= finalLen: break\n",
        "\n",
        "    for _ in range(spaces[i]):\n",
        "      if disks[-1] == 0: disks = disks[:-1]\n",
        "      acc += j * (len(disks) - 1)\n",
        "      k += str(len(disks)-1)\n",
        "      disks[-1] = disks[-1] - 1\n",
        "      j += 1\n",
        "\n",
        "    if j >= finalLen: break\n",
        "\n",
        "  return acc\n",
        "\n",
        "print(part1(input))"
      ],
      "metadata": {
        "id": "vs4qAeM9DfF_",
        "outputId": "dc65d565-1377-4efe-f5d5-8f49ae6a6c9c",
        "colab": {
          "base_uri": "https://localhost:8080/"
        }
      },
      "execution_count": 36,
      "outputs": [
        {
          "output_type": "stream",
          "name": "stdout",
          "text": [
            "6344673854800\n"
          ]
        }
      ]
    }
  ]
}