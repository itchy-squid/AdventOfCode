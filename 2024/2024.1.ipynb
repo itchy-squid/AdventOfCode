{
  "nbformat": 4,
  "nbformat_minor": 0,
  "metadata": {
    "colab": {
      "provenance": [],
      "authorship_tag": "ABX9TyNItq9VBeBptacZWS97WDZ8",
      "include_colab_link": true
    },
    "kernelspec": {
      "name": "python3",
      "display_name": "Python 3"
    },
    "language_info": {
      "name": "python"
    }
  },
  "cells": [
    {
      "cell_type": "markdown",
      "metadata": {
        "id": "view-in-github",
        "colab_type": "text"
      },
      "source": [
        "<a href=\"https://colab.research.google.com/github/itchy-squid/AdventOfCode/blob/2024-6/2024/2024.1.ipynb\" target=\"_parent\"><img src=\"https://colab.research.google.com/assets/colab-badge.svg\" alt=\"Open In Colab\"/></a>"
      ]
    },
    {
      "cell_type": "code",
      "source": [
        "from google.colab import files\n",
        "fread = lambda path: open(path,'r').read()"
      ],
      "metadata": {
        "id": "pwtaPjV7lVPJ"
      },
      "execution_count": 2,
      "outputs": []
    },
    {
      "cell_type": "code",
      "source": [
        "#@title Day 1: Historian Histeria\n",
        "input = [l.split('   ') for l in fread('input.txt').splitlines()]\n",
        "a = [int(l[0]) for l in input]\n",
        "b = [int(l[1]) for l in input]\n",
        "a.sort()\n",
        "b.sort()\n",
        "ds = [abs(a[i]-b[i]) for i in range(len(a))]\n",
        "print(sum(ds))\n",
        "print(sum([x * b.count(x) for x in a]))"
      ],
      "metadata": {
        "colab": {
          "base_uri": "https://localhost:8080/"
        },
        "id": "lcMDi_mSlXTL",
        "outputId": "2396ba8f-65fc-4609-c1ca-3ae5ea0c4e04",
        "cellView": "form"
      },
      "execution_count": 4,
      "outputs": [
        {
          "output_type": "stream",
          "name": "stdout",
          "text": [
            "2430334\n",
            "28786472\n"
          ]
        }
      ]
    },
    {
      "cell_type": "code",
      "source": [
        "#@title Day 2: Red-Nosed Reports\n",
        "import math\n",
        "lines = [[int(i) for i in l.split(' ')] for l in fread('input 2.txt').splitlines()]\n",
        "\n",
        "part1 = lambda l: all([(0 < (math.copysign(1,l[1] - l[0]) * (l[j] - l[j-1])) < 4) for j in range(1,len(l))])\n",
        "part2 = lambda l: part1(l) or any([part1(l[0:j]+l[j+1:]) for j in range(len(l))])\n",
        "\n",
        "print(sum([part1(l) for l in lines]))\n",
        "print(sum([part2(l) for l in lines]))"
      ],
      "metadata": {
        "colab": {
          "base_uri": "https://localhost:8080/"
        },
        "id": "-i2d2o-8qgAF",
        "outputId": "6794d8d3-4e20-402d-ac6b-c3db781299d4",
        "cellView": "form"
      },
      "execution_count": 5,
      "outputs": [
        {
          "output_type": "stream",
          "name": "stdout",
          "text": [
            "421\n",
            "476\n"
          ]
        }
      ]
    },
    {
      "cell_type": "code",
      "source": [
        "#@title Day 3: Mull It Over\n",
        "import re\n",
        "input = fread('input 3.txt')\n",
        "\n",
        "muls = r'mul\\((?P<x>\\d+),(?P<y>\\d+)\\)'\n",
        "part1 = lambda l: sum([int(m['x'])*int(m['y']) for m in re.finditer(muls,l)])\n",
        "part2 = lambda ls: sum([part1(l.split('don\\'t()')[0]) for l in ls.split('do()')])\n",
        "\n",
        "print(part1(input))\n",
        "print(part2(input))"
      ],
      "metadata": {
        "colab": {
          "base_uri": "https://localhost:8080/"
        },
        "cellView": "form",
        "id": "dIckiLlGCIUm",
        "outputId": "09f3454f-d558-4206-9a12-9f07ddfdd137"
      },
      "execution_count": 6,
      "outputs": [
        {
          "output_type": "stream",
          "name": "stdout",
          "text": [
            "196826776\n",
            "106780429\n"
          ]
        }
      ]
    },
    {
      "cell_type": "code",
      "source": [
        "#@title Day 4-1: Ceres Search\n",
        "input = fread('input 4.txt').splitlines()\n",
        "\n",
        "def rotate45(m):\n",
        "  L = len(m)\n",
        "  W = len(m[0])\n",
        "  return [[ m[min(r,L-1)-d][max(0,r-L+1)+d]\n",
        "      for d in range(min(W,L-abs(r-L+1)))]\n",
        "      for r in range(L+W-1)]\n",
        "\n",
        "rotate90 = lambda m: list(zip(*m[::-1]))\n",
        "xmas = lambda m: sum([''.join(l).count('XMAS') for l in m])\n",
        "\n",
        "# part 1\n",
        "acc = (0,input)\n",
        "[acc := (acc[0]+xmas(acc[1])+xmas(rotate45(acc[1])),rotate90(acc[1])) for i in range(0,4)]\n",
        "print(acc[0])"
      ],
      "metadata": {
        "colab": {
          "base_uri": "https://localhost:8080/"
        },
        "id": "9hErabBvO6lo",
        "outputId": "f33935db-54c0-492a-a706-f4c0f9c4dc9a"
      },
      "execution_count": 8,
      "outputs": [
        {
          "output_type": "stream",
          "name": "stdout",
          "text": [
            "2646\n"
          ]
        }
      ]
    },
    {
      "cell_type": "code",
      "source": [
        "#@title Day 4-2: Ceres Search\n",
        "input = fread('input 4.txt').splitlines()\n",
        "\n",
        "isLeg = lambda s: s in {'MAS','SAM'}\n",
        "isXmas = lambda m,i,j: isLeg(str(m[i-1][j-1]+m[i][j]+m[i+1][j+1])) and isLeg(str(m[i-1][j+1]+m[i][j]+m[i+1][j-1]))\n",
        "\n",
        "print(sum([isXmas(input,i,j) for j in range(1,len(input[0])-1) for i in range(1,len(input)-1)]))"
      ],
      "metadata": {
        "colab": {
          "base_uri": "https://localhost:8080/"
        },
        "id": "g3agqyEXTfks",
        "outputId": "d093978b-e0d8-41cc-e163-3e1dd9072451"
      },
      "execution_count": 16,
      "outputs": [
        {
          "output_type": "stream",
          "name": "stdout",
          "text": [
            "2000\n"
          ]
        }
      ]
    },
    {
      "cell_type": "code",
      "source": [
        "#@title Day 6: Guard Gallivant\n",
        "import math\n",
        "\n",
        "sample='''....#.....\n",
        ".........#\n",
        "..........\n",
        "..#.......\n",
        ".......#..\n",
        "..........\n",
        ".#..^.....\n",
        "........#.\n",
        "#.........\n",
        "......#...'''\n",
        "\n",
        "DEBUG = False\n",
        "input = sample if DEBUG else fread('input 6.txt')\n",
        "\n",
        "map = input.splitlines()\n",
        "w = len(map[0])\n",
        "l = len(map)\n",
        "\n",
        "DS = [(-1,0),(0,1),(1,0),(0,-1)]\n",
        "WALL = '#'\n",
        "START = '^'\n",
        "\n",
        "initialPosition = next(iter([(i,j) for j in range(w) for i in range(l) if map[i][j] == START]))\n",
        "initialDirection = 0\n",
        "\n",
        "lookAhead = lambda p,d: (p[0]+d[0],p[1]+d[1])\n",
        "isValid = lambda p: -1<p[0]<l and -1<p[1]<w\n",
        "\n",
        "def travel(i, j, i_ds, visited=[]):\n",
        "  while True:\n",
        "    if (i,j,i_ds) in visited: return None\n",
        "    visited = visited + [(i,j,i_ds)]\n",
        "    visiting = lookAhead((i,j),DS[i_ds])\n",
        "    if not isValid(visiting): break\n",
        "    if map[visiting[0]][visiting[1]] == WALL: i_ds = (i_ds + 1) % len(DS)\n",
        "    else: i,j = visiting\n",
        "  return visited\n",
        "\n",
        "path = travel(*initialPosition, initialDirection)\n",
        "print(len(set([tuple(p[0:2]) for p in path])))\n",
        "\n",
        "import itertools\n",
        "\n",
        "def loopPoints(path):\n",
        "  for k in range(len(path)):\n",
        "    i,j,d = path[k]\n",
        "    ahead = lookAhead((i,j),DS[d])\n",
        "\n",
        "    if not isValid(ahead): break\n",
        "    if map[ahead[0]][ahead[1]] == WALL: continue\n",
        "\n",
        "    rightDirection = (d+1)%len(DS)\n",
        "    if travel(i,j,rightDirection,path[0:k+1]) is None: yield ahead\n",
        "\n",
        "print(set(loopPoints(path)))"
      ],
      "metadata": {
        "colab": {
          "base_uri": "https://localhost:8080/",
          "height": 349
        },
        "id": "YVCmiTU5W7zO",
        "outputId": "974f0f07-275a-4fcb-8e22-19bd28525aef"
      },
      "execution_count": 45,
      "outputs": [
        {
          "output_type": "stream",
          "name": "stdout",
          "text": [
            "5329\n"
          ]
        },
        {
          "output_type": "error",
          "ename": "KeyboardInterrupt",
          "evalue": "",
          "traceback": [
            "\u001b[0;31m---------------------------------------------------------------------------\u001b[0m",
            "\u001b[0;31mKeyboardInterrupt\u001b[0m                         Traceback (most recent call last)",
            "\u001b[0;32m<ipython-input-45-a7090a8afe1c>\u001b[0m in \u001b[0;36m<cell line: 58>\u001b[0;34m()\u001b[0m\n\u001b[1;32m     56\u001b[0m     \u001b[0;32mif\u001b[0m \u001b[0mtravel\u001b[0m\u001b[0;34m(\u001b[0m\u001b[0mi\u001b[0m\u001b[0;34m,\u001b[0m\u001b[0mj\u001b[0m\u001b[0;34m,\u001b[0m\u001b[0mrightDirection\u001b[0m\u001b[0;34m,\u001b[0m\u001b[0mpath\u001b[0m\u001b[0;34m[\u001b[0m\u001b[0;36m0\u001b[0m\u001b[0;34m:\u001b[0m\u001b[0mk\u001b[0m\u001b[0;34m+\u001b[0m\u001b[0;36m1\u001b[0m\u001b[0;34m]\u001b[0m\u001b[0;34m)\u001b[0m \u001b[0;32mis\u001b[0m \u001b[0;32mNone\u001b[0m\u001b[0;34m:\u001b[0m \u001b[0;32myield\u001b[0m \u001b[0mahead\u001b[0m\u001b[0;34m\u001b[0m\u001b[0;34m\u001b[0m\u001b[0m\n\u001b[1;32m     57\u001b[0m \u001b[0;34m\u001b[0m\u001b[0m\n\u001b[0;32m---> 58\u001b[0;31m \u001b[0mprint\u001b[0m\u001b[0;34m(\u001b[0m\u001b[0mset\u001b[0m\u001b[0;34m(\u001b[0m\u001b[0mloopPoints\u001b[0m\u001b[0;34m(\u001b[0m\u001b[0mpath\u001b[0m\u001b[0;34m)\u001b[0m\u001b[0;34m)\u001b[0m\u001b[0;34m)\u001b[0m\u001b[0;34m\u001b[0m\u001b[0;34m\u001b[0m\u001b[0m\n\u001b[0m",
            "\u001b[0;32m<ipython-input-45-a7090a8afe1c>\u001b[0m in \u001b[0;36mloopPoints\u001b[0;34m(path)\u001b[0m\n\u001b[1;32m     54\u001b[0m \u001b[0;34m\u001b[0m\u001b[0m\n\u001b[1;32m     55\u001b[0m     \u001b[0mrightDirection\u001b[0m \u001b[0;34m=\u001b[0m \u001b[0;34m(\u001b[0m\u001b[0md\u001b[0m\u001b[0;34m+\u001b[0m\u001b[0;36m1\u001b[0m\u001b[0;34m)\u001b[0m\u001b[0;34m%\u001b[0m\u001b[0mlen\u001b[0m\u001b[0;34m(\u001b[0m\u001b[0mDS\u001b[0m\u001b[0;34m)\u001b[0m\u001b[0;34m\u001b[0m\u001b[0;34m\u001b[0m\u001b[0m\n\u001b[0;32m---> 56\u001b[0;31m     \u001b[0;32mif\u001b[0m \u001b[0mtravel\u001b[0m\u001b[0;34m(\u001b[0m\u001b[0mi\u001b[0m\u001b[0;34m,\u001b[0m\u001b[0mj\u001b[0m\u001b[0;34m,\u001b[0m\u001b[0mrightDirection\u001b[0m\u001b[0;34m,\u001b[0m\u001b[0mpath\u001b[0m\u001b[0;34m[\u001b[0m\u001b[0;36m0\u001b[0m\u001b[0;34m:\u001b[0m\u001b[0mk\u001b[0m\u001b[0;34m+\u001b[0m\u001b[0;36m1\u001b[0m\u001b[0;34m]\u001b[0m\u001b[0;34m)\u001b[0m \u001b[0;32mis\u001b[0m \u001b[0;32mNone\u001b[0m\u001b[0;34m:\u001b[0m \u001b[0;32myield\u001b[0m \u001b[0mahead\u001b[0m\u001b[0;34m\u001b[0m\u001b[0;34m\u001b[0m\u001b[0m\n\u001b[0m\u001b[1;32m     57\u001b[0m \u001b[0;34m\u001b[0m\u001b[0m\n\u001b[1;32m     58\u001b[0m \u001b[0mprint\u001b[0m\u001b[0;34m(\u001b[0m\u001b[0mset\u001b[0m\u001b[0;34m(\u001b[0m\u001b[0mloopPoints\u001b[0m\u001b[0;34m(\u001b[0m\u001b[0mpath\u001b[0m\u001b[0;34m)\u001b[0m\u001b[0;34m)\u001b[0m\u001b[0;34m)\u001b[0m\u001b[0;34m\u001b[0m\u001b[0;34m\u001b[0m\u001b[0m\n",
            "\u001b[0;32m<ipython-input-45-a7090a8afe1c>\u001b[0m in \u001b[0;36mtravel\u001b[0;34m(i, j, i_ds, visited)\u001b[0m\n\u001b[1;32m     32\u001b[0m \u001b[0;32mdef\u001b[0m \u001b[0mtravel\u001b[0m\u001b[0;34m(\u001b[0m\u001b[0mi\u001b[0m\u001b[0;34m,\u001b[0m \u001b[0mj\u001b[0m\u001b[0;34m,\u001b[0m \u001b[0mi_ds\u001b[0m\u001b[0;34m,\u001b[0m \u001b[0mvisited\u001b[0m\u001b[0;34m=\u001b[0m\u001b[0;34m[\u001b[0m\u001b[0;34m]\u001b[0m\u001b[0;34m)\u001b[0m\u001b[0;34m:\u001b[0m\u001b[0;34m\u001b[0m\u001b[0;34m\u001b[0m\u001b[0m\n\u001b[1;32m     33\u001b[0m   \u001b[0;32mwhile\u001b[0m \u001b[0;32mTrue\u001b[0m\u001b[0;34m:\u001b[0m\u001b[0;34m\u001b[0m\u001b[0;34m\u001b[0m\u001b[0m\n\u001b[0;32m---> 34\u001b[0;31m     \u001b[0;32mif\u001b[0m \u001b[0;34m(\u001b[0m\u001b[0mi\u001b[0m\u001b[0;34m,\u001b[0m\u001b[0mj\u001b[0m\u001b[0;34m,\u001b[0m\u001b[0mi_ds\u001b[0m\u001b[0;34m)\u001b[0m \u001b[0;32min\u001b[0m \u001b[0mvisited\u001b[0m\u001b[0;34m:\u001b[0m \u001b[0;32mreturn\u001b[0m \u001b[0;32mNone\u001b[0m\u001b[0;34m\u001b[0m\u001b[0;34m\u001b[0m\u001b[0m\n\u001b[0m\u001b[1;32m     35\u001b[0m     \u001b[0mvisited\u001b[0m \u001b[0;34m=\u001b[0m \u001b[0mvisited\u001b[0m \u001b[0;34m+\u001b[0m \u001b[0;34m[\u001b[0m\u001b[0;34m(\u001b[0m\u001b[0mi\u001b[0m\u001b[0;34m,\u001b[0m\u001b[0mj\u001b[0m\u001b[0;34m,\u001b[0m\u001b[0mi_ds\u001b[0m\u001b[0;34m)\u001b[0m\u001b[0;34m]\u001b[0m\u001b[0;34m\u001b[0m\u001b[0;34m\u001b[0m\u001b[0m\n\u001b[1;32m     36\u001b[0m     \u001b[0mvisiting\u001b[0m \u001b[0;34m=\u001b[0m \u001b[0mlookAhead\u001b[0m\u001b[0;34m(\u001b[0m\u001b[0;34m(\u001b[0m\u001b[0mi\u001b[0m\u001b[0;34m,\u001b[0m\u001b[0mj\u001b[0m\u001b[0;34m)\u001b[0m\u001b[0;34m,\u001b[0m\u001b[0mDS\u001b[0m\u001b[0;34m[\u001b[0m\u001b[0mi_ds\u001b[0m\u001b[0;34m]\u001b[0m\u001b[0;34m)\u001b[0m\u001b[0;34m\u001b[0m\u001b[0;34m\u001b[0m\u001b[0m\n",
            "\u001b[0;31mKeyboardInterrupt\u001b[0m: "
          ]
        }
      ]
    }
  ]
}